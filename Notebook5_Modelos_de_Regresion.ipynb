{
  "nbformat": 4,
  "nbformat_minor": 0,
  "metadata": {
    "colab": {
      "provenance": []
    },
    "kernelspec": {
      "name": "python3",
      "display_name": "Python 3"
    },
    "language_info": {
      "name": "python"
    }
  },
  "cells": [
    {
      "cell_type": "code",
      "execution_count": null,
      "metadata": {
        "id": "Hfa6AvjT-wYk"
      },
      "outputs": [],
      "source": [
        "import numpy as np\n",
        "import pandas as pd\n",
        "import matplotlib.pyplot as plt"
      ]
    },
    {
      "cell_type": "code",
      "source": [
        "from sklearn.linear_model import LinearRegression\n",
        "from sklearn.linear_model import Lasso, Ridge\n",
        "\n",
        "from sklearn.preprocessing import StandardScaler\n",
        "\n",
        "from sklearn.model_selection import train_test_split # Divide el dataset en testeo y entrenamiento\n",
        "\n",
        "from sklearn.ensemble import RandomForestRegressor, GradientBoostingRegressor\n",
        "from xgboost import XGBRFRegressor\n",
        "\n",
        "from sklearn.metrics import r2_score, mean_squared_error"
      ],
      "metadata": {
        "id": "ErLg_BeDAfp_"
      },
      "execution_count": null,
      "outputs": []
    },
    {
      "cell_type": "code",
      "source": [
        "#Descargar datos\n",
        "!wget https://raw.githubusercontent.com/jsrpy/NYC-Property-Regression/master/real_estate_data.csv"
      ],
      "metadata": {
        "colab": {
          "base_uri": "https://localhost:8080/"
        },
        "id": "DnD-RRhkBjq7",
        "outputId": "f15de5a3-b405-432b-c9a5-d82374e7e5f5"
      },
      "execution_count": null,
      "outputs": [
        {
          "output_type": "stream",
          "name": "stdout",
          "text": [
            "--2022-10-06 11:21:38--  https://raw.githubusercontent.com/jsrpy/NYC-Property-Regression/master/real_estate_data.csv\n",
            "Resolving raw.githubusercontent.com (raw.githubusercontent.com)... 185.199.111.133, 185.199.110.133, 185.199.108.133, ...\n",
            "Connecting to raw.githubusercontent.com (raw.githubusercontent.com)|185.199.111.133|:443... connected.\n",
            "HTTP request sent, awaiting response... 200 OK\n",
            "Length: 252295 (246K) [text/plain]\n",
            "Saving to: ‘real_estate_data.csv’\n",
            "\n",
            "\rreal_estate_data.cs   0%[                    ]       0  --.-KB/s               \rreal_estate_data.cs 100%[===================>] 246.38K  --.-KB/s    in 0.03s   \n",
            "\n",
            "2022-10-06 11:21:38 (7.84 MB/s) - ‘real_estate_data.csv’ saved [252295/252295]\n",
            "\n"
          ]
        }
      ]
    },
    {
      "cell_type": "code",
      "source": [
        "df = pd.read_csv('real_estate_data.csv')\n",
        "df.head()"
      ],
      "metadata": {
        "colab": {
          "base_uri": "https://localhost:8080/",
          "height": 473
        },
        "id": "Tg6ZyIRJCPLN",
        "outputId": "51936211-58a0-4065-a0c8-00321081822d"
      },
      "execution_count": null,
      "outputs": [
        {
          "output_type": "execute_result",
          "data": {
            "text/plain": [
              "   tx_price  beds  baths  sqft  year_built  lot_size  \\\n",
              "0    295850     1      1   584        2013         0   \n",
              "1    216500     1      1   612        1965         0   \n",
              "2    279900     1      1   615        1963         0   \n",
              "3    379900     1      1   618        2000     33541   \n",
              "4    340000     1      1   634        1992         0   \n",
              "\n",
              "                   property_type exterior_walls                 roof  \\\n",
              "0  Apartment / Condo / Townhouse    Wood Siding                  NaN   \n",
              "1  Apartment / Condo / Townhouse          Brick  Composition Shingle   \n",
              "2  Apartment / Condo / Townhouse    Wood Siding                  NaN   \n",
              "3  Apartment / Condo / Townhouse    Wood Siding                  NaN   \n",
              "4  Apartment / Condo / Townhouse          Brick                  NaN   \n",
              "\n",
              "   basement  ...  beauty_spas  active_life  median_age  married  college_grad  \\\n",
              "0       NaN  ...           47           58        33.0     65.0          84.0   \n",
              "1       1.0  ...           26           14        39.0     73.0          69.0   \n",
              "2       NaN  ...           74           62        28.0     15.0          86.0   \n",
              "3       NaN  ...           72           83        36.0     25.0          91.0   \n",
              "4       NaN  ...           50           73        37.0     20.0          75.0   \n",
              "\n",
              "   property_tax  insurance  median_school  num_schools  tx_year  \n",
              "0         234.0       81.0            9.0          3.0     2013  \n",
              "1         169.0       51.0            3.0          3.0     2006  \n",
              "2         216.0       74.0            8.0          3.0     2012  \n",
              "3         265.0       92.0            9.0          3.0     2005  \n",
              "4          88.0       30.0            9.0          3.0     2002  \n",
              "\n",
              "[5 rows x 26 columns]"
            ],
            "text/html": [
              "\n",
              "  <div id=\"df-27e9bfae-6a83-4d76-9849-38601773245c\">\n",
              "    <div class=\"colab-df-container\">\n",
              "      <div>\n",
              "<style scoped>\n",
              "    .dataframe tbody tr th:only-of-type {\n",
              "        vertical-align: middle;\n",
              "    }\n",
              "\n",
              "    .dataframe tbody tr th {\n",
              "        vertical-align: top;\n",
              "    }\n",
              "\n",
              "    .dataframe thead th {\n",
              "        text-align: right;\n",
              "    }\n",
              "</style>\n",
              "<table border=\"1\" class=\"dataframe\">\n",
              "  <thead>\n",
              "    <tr style=\"text-align: right;\">\n",
              "      <th></th>\n",
              "      <th>tx_price</th>\n",
              "      <th>beds</th>\n",
              "      <th>baths</th>\n",
              "      <th>sqft</th>\n",
              "      <th>year_built</th>\n",
              "      <th>lot_size</th>\n",
              "      <th>property_type</th>\n",
              "      <th>exterior_walls</th>\n",
              "      <th>roof</th>\n",
              "      <th>basement</th>\n",
              "      <th>...</th>\n",
              "      <th>beauty_spas</th>\n",
              "      <th>active_life</th>\n",
              "      <th>median_age</th>\n",
              "      <th>married</th>\n",
              "      <th>college_grad</th>\n",
              "      <th>property_tax</th>\n",
              "      <th>insurance</th>\n",
              "      <th>median_school</th>\n",
              "      <th>num_schools</th>\n",
              "      <th>tx_year</th>\n",
              "    </tr>\n",
              "  </thead>\n",
              "  <tbody>\n",
              "    <tr>\n",
              "      <th>0</th>\n",
              "      <td>295850</td>\n",
              "      <td>1</td>\n",
              "      <td>1</td>\n",
              "      <td>584</td>\n",
              "      <td>2013</td>\n",
              "      <td>0</td>\n",
              "      <td>Apartment / Condo / Townhouse</td>\n",
              "      <td>Wood Siding</td>\n",
              "      <td>NaN</td>\n",
              "      <td>NaN</td>\n",
              "      <td>...</td>\n",
              "      <td>47</td>\n",
              "      <td>58</td>\n",
              "      <td>33.0</td>\n",
              "      <td>65.0</td>\n",
              "      <td>84.0</td>\n",
              "      <td>234.0</td>\n",
              "      <td>81.0</td>\n",
              "      <td>9.0</td>\n",
              "      <td>3.0</td>\n",
              "      <td>2013</td>\n",
              "    </tr>\n",
              "    <tr>\n",
              "      <th>1</th>\n",
              "      <td>216500</td>\n",
              "      <td>1</td>\n",
              "      <td>1</td>\n",
              "      <td>612</td>\n",
              "      <td>1965</td>\n",
              "      <td>0</td>\n",
              "      <td>Apartment / Condo / Townhouse</td>\n",
              "      <td>Brick</td>\n",
              "      <td>Composition Shingle</td>\n",
              "      <td>1.0</td>\n",
              "      <td>...</td>\n",
              "      <td>26</td>\n",
              "      <td>14</td>\n",
              "      <td>39.0</td>\n",
              "      <td>73.0</td>\n",
              "      <td>69.0</td>\n",
              "      <td>169.0</td>\n",
              "      <td>51.0</td>\n",
              "      <td>3.0</td>\n",
              "      <td>3.0</td>\n",
              "      <td>2006</td>\n",
              "    </tr>\n",
              "    <tr>\n",
              "      <th>2</th>\n",
              "      <td>279900</td>\n",
              "      <td>1</td>\n",
              "      <td>1</td>\n",
              "      <td>615</td>\n",
              "      <td>1963</td>\n",
              "      <td>0</td>\n",
              "      <td>Apartment / Condo / Townhouse</td>\n",
              "      <td>Wood Siding</td>\n",
              "      <td>NaN</td>\n",
              "      <td>NaN</td>\n",
              "      <td>...</td>\n",
              "      <td>74</td>\n",
              "      <td>62</td>\n",
              "      <td>28.0</td>\n",
              "      <td>15.0</td>\n",
              "      <td>86.0</td>\n",
              "      <td>216.0</td>\n",
              "      <td>74.0</td>\n",
              "      <td>8.0</td>\n",
              "      <td>3.0</td>\n",
              "      <td>2012</td>\n",
              "    </tr>\n",
              "    <tr>\n",
              "      <th>3</th>\n",
              "      <td>379900</td>\n",
              "      <td>1</td>\n",
              "      <td>1</td>\n",
              "      <td>618</td>\n",
              "      <td>2000</td>\n",
              "      <td>33541</td>\n",
              "      <td>Apartment / Condo / Townhouse</td>\n",
              "      <td>Wood Siding</td>\n",
              "      <td>NaN</td>\n",
              "      <td>NaN</td>\n",
              "      <td>...</td>\n",
              "      <td>72</td>\n",
              "      <td>83</td>\n",
              "      <td>36.0</td>\n",
              "      <td>25.0</td>\n",
              "      <td>91.0</td>\n",
              "      <td>265.0</td>\n",
              "      <td>92.0</td>\n",
              "      <td>9.0</td>\n",
              "      <td>3.0</td>\n",
              "      <td>2005</td>\n",
              "    </tr>\n",
              "    <tr>\n",
              "      <th>4</th>\n",
              "      <td>340000</td>\n",
              "      <td>1</td>\n",
              "      <td>1</td>\n",
              "      <td>634</td>\n",
              "      <td>1992</td>\n",
              "      <td>0</td>\n",
              "      <td>Apartment / Condo / Townhouse</td>\n",
              "      <td>Brick</td>\n",
              "      <td>NaN</td>\n",
              "      <td>NaN</td>\n",
              "      <td>...</td>\n",
              "      <td>50</td>\n",
              "      <td>73</td>\n",
              "      <td>37.0</td>\n",
              "      <td>20.0</td>\n",
              "      <td>75.0</td>\n",
              "      <td>88.0</td>\n",
              "      <td>30.0</td>\n",
              "      <td>9.0</td>\n",
              "      <td>3.0</td>\n",
              "      <td>2002</td>\n",
              "    </tr>\n",
              "  </tbody>\n",
              "</table>\n",
              "<p>5 rows × 26 columns</p>\n",
              "</div>\n",
              "      <button class=\"colab-df-convert\" onclick=\"convertToInteractive('df-27e9bfae-6a83-4d76-9849-38601773245c')\"\n",
              "              title=\"Convert this dataframe to an interactive table.\"\n",
              "              style=\"display:none;\">\n",
              "        \n",
              "  <svg xmlns=\"http://www.w3.org/2000/svg\" height=\"24px\"viewBox=\"0 0 24 24\"\n",
              "       width=\"24px\">\n",
              "    <path d=\"M0 0h24v24H0V0z\" fill=\"none\"/>\n",
              "    <path d=\"M18.56 5.44l.94 2.06.94-2.06 2.06-.94-2.06-.94-.94-2.06-.94 2.06-2.06.94zm-11 1L8.5 8.5l.94-2.06 2.06-.94-2.06-.94L8.5 2.5l-.94 2.06-2.06.94zm10 10l.94 2.06.94-2.06 2.06-.94-2.06-.94-.94-2.06-.94 2.06-2.06.94z\"/><path d=\"M17.41 7.96l-1.37-1.37c-.4-.4-.92-.59-1.43-.59-.52 0-1.04.2-1.43.59L10.3 9.45l-7.72 7.72c-.78.78-.78 2.05 0 2.83L4 21.41c.39.39.9.59 1.41.59.51 0 1.02-.2 1.41-.59l7.78-7.78 2.81-2.81c.8-.78.8-2.07 0-2.86zM5.41 20L4 18.59l7.72-7.72 1.47 1.35L5.41 20z\"/>\n",
              "  </svg>\n",
              "      </button>\n",
              "      \n",
              "  <style>\n",
              "    .colab-df-container {\n",
              "      display:flex;\n",
              "      flex-wrap:wrap;\n",
              "      gap: 12px;\n",
              "    }\n",
              "\n",
              "    .colab-df-convert {\n",
              "      background-color: #E8F0FE;\n",
              "      border: none;\n",
              "      border-radius: 50%;\n",
              "      cursor: pointer;\n",
              "      display: none;\n",
              "      fill: #1967D2;\n",
              "      height: 32px;\n",
              "      padding: 0 0 0 0;\n",
              "      width: 32px;\n",
              "    }\n",
              "\n",
              "    .colab-df-convert:hover {\n",
              "      background-color: #E2EBFA;\n",
              "      box-shadow: 0px 1px 2px rgba(60, 64, 67, 0.3), 0px 1px 3px 1px rgba(60, 64, 67, 0.15);\n",
              "      fill: #174EA6;\n",
              "    }\n",
              "\n",
              "    [theme=dark] .colab-df-convert {\n",
              "      background-color: #3B4455;\n",
              "      fill: #D2E3FC;\n",
              "    }\n",
              "\n",
              "    [theme=dark] .colab-df-convert:hover {\n",
              "      background-color: #434B5C;\n",
              "      box-shadow: 0px 1px 3px 1px rgba(0, 0, 0, 0.15);\n",
              "      filter: drop-shadow(0px 1px 2px rgba(0, 0, 0, 0.3));\n",
              "      fill: #FFFFFF;\n",
              "    }\n",
              "  </style>\n",
              "\n",
              "      <script>\n",
              "        const buttonEl =\n",
              "          document.querySelector('#df-27e9bfae-6a83-4d76-9849-38601773245c button.colab-df-convert');\n",
              "        buttonEl.style.display =\n",
              "          google.colab.kernel.accessAllowed ? 'block' : 'none';\n",
              "\n",
              "        async function convertToInteractive(key) {\n",
              "          const element = document.querySelector('#df-27e9bfae-6a83-4d76-9849-38601773245c');\n",
              "          const dataTable =\n",
              "            await google.colab.kernel.invokeFunction('convertToInteractive',\n",
              "                                                     [key], {});\n",
              "          if (!dataTable) return;\n",
              "\n",
              "          const docLinkHtml = 'Like what you see? Visit the ' +\n",
              "            '<a target=\"_blank\" href=https://colab.research.google.com/notebooks/data_table.ipynb>data table notebook</a>'\n",
              "            + ' to learn more about interactive tables.';\n",
              "          element.innerHTML = '';\n",
              "          dataTable['output_type'] = 'display_data';\n",
              "          await google.colab.output.renderOutput(dataTable, element);\n",
              "          const docLink = document.createElement('div');\n",
              "          docLink.innerHTML = docLinkHtml;\n",
              "          element.appendChild(docLink);\n",
              "        }\n",
              "      </script>\n",
              "    </div>\n",
              "  </div>\n",
              "  "
            ]
          },
          "metadata": {},
          "execution_count": 4
        }
      ]
    },
    {
      "cell_type": "code",
      "source": [
        "df.info()"
      ],
      "metadata": {
        "colab": {
          "base_uri": "https://localhost:8080/"
        },
        "id": "1WDYovYoCt_-",
        "outputId": "9e9b94e9-af26-496d-fcd1-94b4b0a96d00"
      },
      "execution_count": null,
      "outputs": [
        {
          "output_type": "stream",
          "name": "stdout",
          "text": [
            "<class 'pandas.core.frame.DataFrame'>\n",
            "RangeIndex: 1883 entries, 0 to 1882\n",
            "Data columns (total 26 columns):\n",
            " #   Column              Non-Null Count  Dtype  \n",
            "---  ------              --------------  -----  \n",
            " 0   tx_price            1883 non-null   int64  \n",
            " 1   beds                1883 non-null   int64  \n",
            " 2   baths               1883 non-null   int64  \n",
            " 3   sqft                1883 non-null   int64  \n",
            " 4   year_built          1883 non-null   int64  \n",
            " 5   lot_size            1883 non-null   int64  \n",
            " 6   property_type       1883 non-null   object \n",
            " 7   exterior_walls      1660 non-null   object \n",
            " 8   roof                1529 non-null   object \n",
            " 9   basement            1657 non-null   float64\n",
            " 10  restaurants         1883 non-null   int64  \n",
            " 11  groceries           1883 non-null   int64  \n",
            " 12  nightlife           1883 non-null   int64  \n",
            " 13  cafes               1883 non-null   int64  \n",
            " 14  shopping            1883 non-null   int64  \n",
            " 15  arts_entertainment  1883 non-null   int64  \n",
            " 16  beauty_spas         1883 non-null   int64  \n",
            " 17  active_life         1883 non-null   int64  \n",
            " 18  median_age          1883 non-null   float64\n",
            " 19  married             1883 non-null   float64\n",
            " 20  college_grad        1883 non-null   float64\n",
            " 21  property_tax        1883 non-null   float64\n",
            " 22  insurance           1883 non-null   float64\n",
            " 23  median_school       1883 non-null   float64\n",
            " 24  num_schools         1883 non-null   float64\n",
            " 25  tx_year             1883 non-null   int64  \n",
            "dtypes: float64(8), int64(15), object(3)\n",
            "memory usage: 382.6+ KB\n"
          ]
        }
      ]
    },
    {
      "cell_type": "markdown",
      "source": [
        "#Manejo de datos nulos"
      ],
      "metadata": {
        "id": "B2t2SNrRDXTX"
      }
    },
    {
      "cell_type": "code",
      "source": [
        "# Preguntar que filas tienen datos nulos\n",
        "df.isnull().any()"
      ],
      "metadata": {
        "colab": {
          "base_uri": "https://localhost:8080/"
        },
        "id": "iP_d514pDBnl",
        "outputId": "f1c534b4-1864-4008-b137-16b91ba2e911"
      },
      "execution_count": null,
      "outputs": [
        {
          "output_type": "execute_result",
          "data": {
            "text/plain": [
              "tx_price              False\n",
              "beds                  False\n",
              "baths                 False\n",
              "sqft                  False\n",
              "year_built            False\n",
              "lot_size              False\n",
              "property_type         False\n",
              "exterior_walls         True\n",
              "roof                   True\n",
              "basement               True\n",
              "restaurants           False\n",
              "groceries             False\n",
              "nightlife             False\n",
              "cafes                 False\n",
              "shopping              False\n",
              "arts_entertainment    False\n",
              "beauty_spas           False\n",
              "active_life           False\n",
              "median_age            False\n",
              "married               False\n",
              "college_grad          False\n",
              "property_tax          False\n",
              "insurance             False\n",
              "median_school         False\n",
              "num_schools           False\n",
              "tx_year               False\n",
              "dtype: bool"
            ]
          },
          "metadata": {},
          "execution_count": 6
        }
      ]
    },
    {
      "cell_type": "code",
      "source": [
        "print(sum(df.exterior_walls.isnull())) #Es equivalente a df['exterior_walls']\n",
        "print(sum(df.roof.isnull()))\n",
        "print(sum(df.basement.isnull()))\n"
      ],
      "metadata": {
        "colab": {
          "base_uri": "https://localhost:8080/"
        },
        "id": "EwvXjsq8Dha1",
        "outputId": "67e1a19e-0a99-4a54-da52-dc20b4220006"
      },
      "execution_count": null,
      "outputs": [
        {
          "output_type": "stream",
          "name": "stdout",
          "text": [
            "223\n",
            "354\n",
            "226\n"
          ]
        }
      ]
    },
    {
      "cell_type": "code",
      "source": [
        "#Devuelve datos estadísticos de las columnas numéricas\n",
        "df.describe()"
      ],
      "metadata": {
        "colab": {
          "base_uri": "https://localhost:8080/",
          "height": 394
        },
        "id": "NyRf8I0bEOv_",
        "outputId": "5b9b8ac9-5ae9-4ebb-fe5e-70c0f295cf9b"
      },
      "execution_count": null,
      "outputs": [
        {
          "output_type": "execute_result",
          "data": {
            "text/plain": [
              "            tx_price         beds        baths         sqft   year_built  \\\n",
              "count    1883.000000  1883.000000  1883.000000  1883.000000  1883.000000   \n",
              "mean   422839.807754     3.420605     2.579926  2329.398832  1982.963887   \n",
              "std    151462.593276     1.068554     0.945576  1336.991858    20.295945   \n",
              "min    200000.000000     1.000000     1.000000   500.000000  1880.000000   \n",
              "25%    300000.000000     3.000000     2.000000  1345.000000  1970.000000   \n",
              "50%    392000.000000     3.000000     3.000000  1907.000000  1986.000000   \n",
              "75%    525000.000000     4.000000     3.000000  3005.000000  2000.000000   \n",
              "max    800000.000000     5.000000     6.000000  8450.000000  2015.000000   \n",
              "\n",
              "           lot_size  basement  restaurants    groceries    nightlife  ...  \\\n",
              "count  1.883000e+03    1657.0  1883.000000  1883.000000  1883.000000  ...   \n",
              "mean   1.339262e+04       1.0    40.210303     4.505045     5.074881  ...   \n",
              "std    4.494930e+04       0.0    46.867012     4.491029     8.464668  ...   \n",
              "min    0.000000e+00       1.0     0.000000     0.000000     0.000000  ...   \n",
              "25%    1.542000e+03       1.0     7.000000     1.000000     0.000000  ...   \n",
              "50%    6.098000e+03       1.0    23.000000     3.000000     2.000000  ...   \n",
              "75%    1.176100e+04       1.0    58.000000     7.000000     6.000000  ...   \n",
              "max    1.220551e+06       1.0   266.000000    24.000000    54.000000  ...   \n",
              "\n",
              "       beauty_spas  active_life   median_age      married  college_grad  \\\n",
              "count  1883.000000  1883.000000  1883.000000  1883.000000   1883.000000   \n",
              "mean     23.416888    15.835369    38.601168    69.091875     65.085502   \n",
              "std      25.776916    17.667717     6.634110    19.659767     16.953165   \n",
              "min       0.000000     0.000000    22.000000    11.000000      5.000000   \n",
              "25%       4.000000     4.000000    33.000000    58.000000     54.000000   \n",
              "50%      15.000000    10.000000    38.000000    73.000000     66.000000   \n",
              "75%      35.000000    21.000000    43.000000    84.000000     78.000000   \n",
              "max     177.000000    94.000000    69.000000   100.000000    100.000000   \n",
              "\n",
              "       property_tax    insurance  median_school  num_schools      tx_year  \n",
              "count   1883.000000  1883.000000    1883.000000  1883.000000  1883.000000  \n",
              "mean     466.777483   140.454063       6.502921     2.793415  2007.111524  \n",
              "std      231.656645    72.929765       1.996109     0.505358     5.196898  \n",
              "min       88.000000    30.000000       1.000000     1.000000  1993.000000  \n",
              "25%      320.000000    94.000000       5.000000     3.000000  2004.000000  \n",
              "50%      426.000000   125.000000       7.000000     3.000000  2007.000000  \n",
              "75%      569.000000   169.000000       8.000000     3.000000  2011.000000  \n",
              "max     4508.000000  1374.000000      10.000000     4.000000  2016.000000  \n",
              "\n",
              "[8 rows x 23 columns]"
            ],
            "text/html": [
              "\n",
              "  <div id=\"df-7bcebfcd-ae2c-4c37-b2d6-d22e0cf5352a\">\n",
              "    <div class=\"colab-df-container\">\n",
              "      <div>\n",
              "<style scoped>\n",
              "    .dataframe tbody tr th:only-of-type {\n",
              "        vertical-align: middle;\n",
              "    }\n",
              "\n",
              "    .dataframe tbody tr th {\n",
              "        vertical-align: top;\n",
              "    }\n",
              "\n",
              "    .dataframe thead th {\n",
              "        text-align: right;\n",
              "    }\n",
              "</style>\n",
              "<table border=\"1\" class=\"dataframe\">\n",
              "  <thead>\n",
              "    <tr style=\"text-align: right;\">\n",
              "      <th></th>\n",
              "      <th>tx_price</th>\n",
              "      <th>beds</th>\n",
              "      <th>baths</th>\n",
              "      <th>sqft</th>\n",
              "      <th>year_built</th>\n",
              "      <th>lot_size</th>\n",
              "      <th>basement</th>\n",
              "      <th>restaurants</th>\n",
              "      <th>groceries</th>\n",
              "      <th>nightlife</th>\n",
              "      <th>...</th>\n",
              "      <th>beauty_spas</th>\n",
              "      <th>active_life</th>\n",
              "      <th>median_age</th>\n",
              "      <th>married</th>\n",
              "      <th>college_grad</th>\n",
              "      <th>property_tax</th>\n",
              "      <th>insurance</th>\n",
              "      <th>median_school</th>\n",
              "      <th>num_schools</th>\n",
              "      <th>tx_year</th>\n",
              "    </tr>\n",
              "  </thead>\n",
              "  <tbody>\n",
              "    <tr>\n",
              "      <th>count</th>\n",
              "      <td>1883.000000</td>\n",
              "      <td>1883.000000</td>\n",
              "      <td>1883.000000</td>\n",
              "      <td>1883.000000</td>\n",
              "      <td>1883.000000</td>\n",
              "      <td>1.883000e+03</td>\n",
              "      <td>1657.0</td>\n",
              "      <td>1883.000000</td>\n",
              "      <td>1883.000000</td>\n",
              "      <td>1883.000000</td>\n",
              "      <td>...</td>\n",
              "      <td>1883.000000</td>\n",
              "      <td>1883.000000</td>\n",
              "      <td>1883.000000</td>\n",
              "      <td>1883.000000</td>\n",
              "      <td>1883.000000</td>\n",
              "      <td>1883.000000</td>\n",
              "      <td>1883.000000</td>\n",
              "      <td>1883.000000</td>\n",
              "      <td>1883.000000</td>\n",
              "      <td>1883.000000</td>\n",
              "    </tr>\n",
              "    <tr>\n",
              "      <th>mean</th>\n",
              "      <td>422839.807754</td>\n",
              "      <td>3.420605</td>\n",
              "      <td>2.579926</td>\n",
              "      <td>2329.398832</td>\n",
              "      <td>1982.963887</td>\n",
              "      <td>1.339262e+04</td>\n",
              "      <td>1.0</td>\n",
              "      <td>40.210303</td>\n",
              "      <td>4.505045</td>\n",
              "      <td>5.074881</td>\n",
              "      <td>...</td>\n",
              "      <td>23.416888</td>\n",
              "      <td>15.835369</td>\n",
              "      <td>38.601168</td>\n",
              "      <td>69.091875</td>\n",
              "      <td>65.085502</td>\n",
              "      <td>466.777483</td>\n",
              "      <td>140.454063</td>\n",
              "      <td>6.502921</td>\n",
              "      <td>2.793415</td>\n",
              "      <td>2007.111524</td>\n",
              "    </tr>\n",
              "    <tr>\n",
              "      <th>std</th>\n",
              "      <td>151462.593276</td>\n",
              "      <td>1.068554</td>\n",
              "      <td>0.945576</td>\n",
              "      <td>1336.991858</td>\n",
              "      <td>20.295945</td>\n",
              "      <td>4.494930e+04</td>\n",
              "      <td>0.0</td>\n",
              "      <td>46.867012</td>\n",
              "      <td>4.491029</td>\n",
              "      <td>8.464668</td>\n",
              "      <td>...</td>\n",
              "      <td>25.776916</td>\n",
              "      <td>17.667717</td>\n",
              "      <td>6.634110</td>\n",
              "      <td>19.659767</td>\n",
              "      <td>16.953165</td>\n",
              "      <td>231.656645</td>\n",
              "      <td>72.929765</td>\n",
              "      <td>1.996109</td>\n",
              "      <td>0.505358</td>\n",
              "      <td>5.196898</td>\n",
              "    </tr>\n",
              "    <tr>\n",
              "      <th>min</th>\n",
              "      <td>200000.000000</td>\n",
              "      <td>1.000000</td>\n",
              "      <td>1.000000</td>\n",
              "      <td>500.000000</td>\n",
              "      <td>1880.000000</td>\n",
              "      <td>0.000000e+00</td>\n",
              "      <td>1.0</td>\n",
              "      <td>0.000000</td>\n",
              "      <td>0.000000</td>\n",
              "      <td>0.000000</td>\n",
              "      <td>...</td>\n",
              "      <td>0.000000</td>\n",
              "      <td>0.000000</td>\n",
              "      <td>22.000000</td>\n",
              "      <td>11.000000</td>\n",
              "      <td>5.000000</td>\n",
              "      <td>88.000000</td>\n",
              "      <td>30.000000</td>\n",
              "      <td>1.000000</td>\n",
              "      <td>1.000000</td>\n",
              "      <td>1993.000000</td>\n",
              "    </tr>\n",
              "    <tr>\n",
              "      <th>25%</th>\n",
              "      <td>300000.000000</td>\n",
              "      <td>3.000000</td>\n",
              "      <td>2.000000</td>\n",
              "      <td>1345.000000</td>\n",
              "      <td>1970.000000</td>\n",
              "      <td>1.542000e+03</td>\n",
              "      <td>1.0</td>\n",
              "      <td>7.000000</td>\n",
              "      <td>1.000000</td>\n",
              "      <td>0.000000</td>\n",
              "      <td>...</td>\n",
              "      <td>4.000000</td>\n",
              "      <td>4.000000</td>\n",
              "      <td>33.000000</td>\n",
              "      <td>58.000000</td>\n",
              "      <td>54.000000</td>\n",
              "      <td>320.000000</td>\n",
              "      <td>94.000000</td>\n",
              "      <td>5.000000</td>\n",
              "      <td>3.000000</td>\n",
              "      <td>2004.000000</td>\n",
              "    </tr>\n",
              "    <tr>\n",
              "      <th>50%</th>\n",
              "      <td>392000.000000</td>\n",
              "      <td>3.000000</td>\n",
              "      <td>3.000000</td>\n",
              "      <td>1907.000000</td>\n",
              "      <td>1986.000000</td>\n",
              "      <td>6.098000e+03</td>\n",
              "      <td>1.0</td>\n",
              "      <td>23.000000</td>\n",
              "      <td>3.000000</td>\n",
              "      <td>2.000000</td>\n",
              "      <td>...</td>\n",
              "      <td>15.000000</td>\n",
              "      <td>10.000000</td>\n",
              "      <td>38.000000</td>\n",
              "      <td>73.000000</td>\n",
              "      <td>66.000000</td>\n",
              "      <td>426.000000</td>\n",
              "      <td>125.000000</td>\n",
              "      <td>7.000000</td>\n",
              "      <td>3.000000</td>\n",
              "      <td>2007.000000</td>\n",
              "    </tr>\n",
              "    <tr>\n",
              "      <th>75%</th>\n",
              "      <td>525000.000000</td>\n",
              "      <td>4.000000</td>\n",
              "      <td>3.000000</td>\n",
              "      <td>3005.000000</td>\n",
              "      <td>2000.000000</td>\n",
              "      <td>1.176100e+04</td>\n",
              "      <td>1.0</td>\n",
              "      <td>58.000000</td>\n",
              "      <td>7.000000</td>\n",
              "      <td>6.000000</td>\n",
              "      <td>...</td>\n",
              "      <td>35.000000</td>\n",
              "      <td>21.000000</td>\n",
              "      <td>43.000000</td>\n",
              "      <td>84.000000</td>\n",
              "      <td>78.000000</td>\n",
              "      <td>569.000000</td>\n",
              "      <td>169.000000</td>\n",
              "      <td>8.000000</td>\n",
              "      <td>3.000000</td>\n",
              "      <td>2011.000000</td>\n",
              "    </tr>\n",
              "    <tr>\n",
              "      <th>max</th>\n",
              "      <td>800000.000000</td>\n",
              "      <td>5.000000</td>\n",
              "      <td>6.000000</td>\n",
              "      <td>8450.000000</td>\n",
              "      <td>2015.000000</td>\n",
              "      <td>1.220551e+06</td>\n",
              "      <td>1.0</td>\n",
              "      <td>266.000000</td>\n",
              "      <td>24.000000</td>\n",
              "      <td>54.000000</td>\n",
              "      <td>...</td>\n",
              "      <td>177.000000</td>\n",
              "      <td>94.000000</td>\n",
              "      <td>69.000000</td>\n",
              "      <td>100.000000</td>\n",
              "      <td>100.000000</td>\n",
              "      <td>4508.000000</td>\n",
              "      <td>1374.000000</td>\n",
              "      <td>10.000000</td>\n",
              "      <td>4.000000</td>\n",
              "      <td>2016.000000</td>\n",
              "    </tr>\n",
              "  </tbody>\n",
              "</table>\n",
              "<p>8 rows × 23 columns</p>\n",
              "</div>\n",
              "      <button class=\"colab-df-convert\" onclick=\"convertToInteractive('df-7bcebfcd-ae2c-4c37-b2d6-d22e0cf5352a')\"\n",
              "              title=\"Convert this dataframe to an interactive table.\"\n",
              "              style=\"display:none;\">\n",
              "        \n",
              "  <svg xmlns=\"http://www.w3.org/2000/svg\" height=\"24px\"viewBox=\"0 0 24 24\"\n",
              "       width=\"24px\">\n",
              "    <path d=\"M0 0h24v24H0V0z\" fill=\"none\"/>\n",
              "    <path d=\"M18.56 5.44l.94 2.06.94-2.06 2.06-.94-2.06-.94-.94-2.06-.94 2.06-2.06.94zm-11 1L8.5 8.5l.94-2.06 2.06-.94-2.06-.94L8.5 2.5l-.94 2.06-2.06.94zm10 10l.94 2.06.94-2.06 2.06-.94-2.06-.94-.94-2.06-.94 2.06-2.06.94z\"/><path d=\"M17.41 7.96l-1.37-1.37c-.4-.4-.92-.59-1.43-.59-.52 0-1.04.2-1.43.59L10.3 9.45l-7.72 7.72c-.78.78-.78 2.05 0 2.83L4 21.41c.39.39.9.59 1.41.59.51 0 1.02-.2 1.41-.59l7.78-7.78 2.81-2.81c.8-.78.8-2.07 0-2.86zM5.41 20L4 18.59l7.72-7.72 1.47 1.35L5.41 20z\"/>\n",
              "  </svg>\n",
              "      </button>\n",
              "      \n",
              "  <style>\n",
              "    .colab-df-container {\n",
              "      display:flex;\n",
              "      flex-wrap:wrap;\n",
              "      gap: 12px;\n",
              "    }\n",
              "\n",
              "    .colab-df-convert {\n",
              "      background-color: #E8F0FE;\n",
              "      border: none;\n",
              "      border-radius: 50%;\n",
              "      cursor: pointer;\n",
              "      display: none;\n",
              "      fill: #1967D2;\n",
              "      height: 32px;\n",
              "      padding: 0 0 0 0;\n",
              "      width: 32px;\n",
              "    }\n",
              "\n",
              "    .colab-df-convert:hover {\n",
              "      background-color: #E2EBFA;\n",
              "      box-shadow: 0px 1px 2px rgba(60, 64, 67, 0.3), 0px 1px 3px 1px rgba(60, 64, 67, 0.15);\n",
              "      fill: #174EA6;\n",
              "    }\n",
              "\n",
              "    [theme=dark] .colab-df-convert {\n",
              "      background-color: #3B4455;\n",
              "      fill: #D2E3FC;\n",
              "    }\n",
              "\n",
              "    [theme=dark] .colab-df-convert:hover {\n",
              "      background-color: #434B5C;\n",
              "      box-shadow: 0px 1px 3px 1px rgba(0, 0, 0, 0.15);\n",
              "      filter: drop-shadow(0px 1px 2px rgba(0, 0, 0, 0.3));\n",
              "      fill: #FFFFFF;\n",
              "    }\n",
              "  </style>\n",
              "\n",
              "      <script>\n",
              "        const buttonEl =\n",
              "          document.querySelector('#df-7bcebfcd-ae2c-4c37-b2d6-d22e0cf5352a button.colab-df-convert');\n",
              "        buttonEl.style.display =\n",
              "          google.colab.kernel.accessAllowed ? 'block' : 'none';\n",
              "\n",
              "        async function convertToInteractive(key) {\n",
              "          const element = document.querySelector('#df-7bcebfcd-ae2c-4c37-b2d6-d22e0cf5352a');\n",
              "          const dataTable =\n",
              "            await google.colab.kernel.invokeFunction('convertToInteractive',\n",
              "                                                     [key], {});\n",
              "          if (!dataTable) return;\n",
              "\n",
              "          const docLinkHtml = 'Like what you see? Visit the ' +\n",
              "            '<a target=\"_blank\" href=https://colab.research.google.com/notebooks/data_table.ipynb>data table notebook</a>'\n",
              "            + ' to learn more about interactive tables.';\n",
              "          element.innerHTML = '';\n",
              "          dataTable['output_type'] = 'display_data';\n",
              "          await google.colab.output.renderOutput(dataTable, element);\n",
              "          const docLink = document.createElement('div');\n",
              "          docLink.innerHTML = docLinkHtml;\n",
              "          element.appendChild(docLink);\n",
              "        }\n",
              "      </script>\n",
              "    </div>\n",
              "  </div>\n",
              "  "
            ]
          },
          "metadata": {},
          "execution_count": 8
        }
      ]
    },
    {
      "cell_type": "code",
      "source": [
        "#Cuantas muestras tienen 0 en lot size\n",
        "df.lot_size.isin([0]).sum()"
      ],
      "metadata": {
        "colab": {
          "base_uri": "https://localhost:8080/"
        },
        "id": "-8yXzX8EEcGV",
        "outputId": "339853e2-f395-4179-d0d6-74f3a0b0433f"
      },
      "execution_count": null,
      "outputs": [
        {
          "output_type": "execute_result",
          "data": {
            "text/plain": [
              "352"
            ]
          },
          "metadata": {},
          "execution_count": 9
        }
      ]
    },
    {
      "cell_type": "code",
      "source": [
        "#Eliminamos columnas \"basement\" y \"lot_size\"\n",
        "#Se borra lot_size porque el valor mínimo en la columna es 0 y hay 352 valores que son 0, como es un valor determinante para el precio de la casa, es\n",
        "#mejor eliminarlo al tener tantos 0's, haciendo que el modelo se equivoque\n",
        "df_filter = df.drop(['basement','lot_size'], axis=1)"
      ],
      "metadata": {
        "id": "WPAjqGGjFDTd"
      },
      "execution_count": null,
      "outputs": []
    },
    {
      "cell_type": "markdown",
      "source": [
        "##Tratamiento Columa Roof"
      ],
      "metadata": {
        "id": "xs2g1LZ3NNsS"
      }
    },
    {
      "cell_type": "code",
      "source": [
        "#Columna roof\n",
        "df_filter.roof.unique()"
      ],
      "metadata": {
        "colab": {
          "base_uri": "https://localhost:8080/"
        },
        "id": "jEimUqZWF7Fg",
        "outputId": "03e4868d-8b8e-4a74-ef25-6ec40541d6f1"
      },
      "execution_count": null,
      "outputs": [
        {
          "output_type": "execute_result",
          "data": {
            "text/plain": [
              "array([nan, 'Composition Shingle', 'Other', 'Gravel/Rock',\n",
              "       'Roll Composition', 'Asphalt', 'Slate', 'asphalt', 'Shake Shingle',\n",
              "       'Built-up', 'Asbestos', 'Metal', 'shake-shingle',\n",
              "       'Wood Shake/ Shingles', 'Composition', 'composition',\n",
              "       'asphalt,shake-shingle'], dtype=object)"
            ]
          },
          "metadata": {},
          "execution_count": 11
        }
      ]
    },
    {
      "cell_type": "code",
      "source": [
        "df_filter.roof.value_counts()"
      ],
      "metadata": {
        "colab": {
          "base_uri": "https://localhost:8080/"
        },
        "id": "5SHf8Tc9F_Gp",
        "outputId": "88110b88-22bd-4a2c-a4dd-2506cd5abdd9"
      },
      "execution_count": null,
      "outputs": [
        {
          "output_type": "execute_result",
          "data": {
            "text/plain": [
              "Composition Shingle      1179\n",
              "Asphalt                   132\n",
              "Shake Shingle              55\n",
              "Other                      49\n",
              "Gravel/Rock                30\n",
              "Wood Shake/ Shingles       30\n",
              "Roll Composition           12\n",
              "Slate                       9\n",
              "Asbestos                    9\n",
              "asphalt                     5\n",
              "Composition                 5\n",
              "Metal                       4\n",
              "composition                 4\n",
              "shake-shingle               3\n",
              "Built-up                    2\n",
              "asphalt,shake-shingle       1\n",
              "Name: roof, dtype: int64"
            ]
          },
          "metadata": {},
          "execution_count": 12
        }
      ]
    },
    {
      "cell_type": "code",
      "source": [
        "# Reemplazamos los valores o categorías de una columna\n",
        "df_filter.roof.replace('composition','Composition',inplace=True)\n",
        "df_filter.roof.replace('asphalt','Asphalt',inplace=True)\n",
        "df_filter.roof.replace(['asphalt,shake-shingle','shake-shingle', 'Wood Shake/ Shingles', 'Shake Shingle', 'Composition Shingle'],'Shingle',inplace=True)"
      ],
      "metadata": {
        "id": "NKMizaE8GPiZ"
      },
      "execution_count": null,
      "outputs": []
    },
    {
      "cell_type": "code",
      "source": [
        "#Cuenta cuantos valores de cada categoría existen en la columna roof\n",
        "df_filter.roof.value_counts()"
      ],
      "metadata": {
        "colab": {
          "base_uri": "https://localhost:8080/"
        },
        "id": "yFELp3BJHVGo",
        "outputId": "cab272f7-73e2-4eb4-eabc-f9f5b9797dad"
      },
      "execution_count": null,
      "outputs": [
        {
          "output_type": "execute_result",
          "data": {
            "text/plain": [
              "Shingle             1268\n",
              "Asphalt              137\n",
              "Other                 49\n",
              "Gravel/Rock           30\n",
              "Roll Composition      12\n",
              "Slate                  9\n",
              "Asbestos               9\n",
              "Composition            9\n",
              "Metal                  4\n",
              "Built-up               2\n",
              "Name: roof, dtype: int64"
            ]
          },
          "metadata": {},
          "execution_count": 14
        }
      ]
    },
    {
      "cell_type": "code",
      "source": [
        "sum(df.roof.isnull())"
      ],
      "metadata": {
        "colab": {
          "base_uri": "https://localhost:8080/"
        },
        "id": "_EJYTDPtICcC",
        "outputId": "c53faa78-9779-407e-c49a-79b5ad999d91"
      },
      "execution_count": null,
      "outputs": [
        {
          "output_type": "execute_result",
          "data": {
            "text/plain": [
              "354"
            ]
          },
          "metadata": {},
          "execution_count": 15
        }
      ]
    },
    {
      "cell_type": "code",
      "source": [
        "#Rellenar los NaN con 'newNaN'\n",
        "df_filter.roof.fillna('newNAN', inplace=True)"
      ],
      "metadata": {
        "id": "DmnG4CXhIa3E"
      },
      "execution_count": null,
      "outputs": []
    },
    {
      "cell_type": "code",
      "source": [
        "sum(df_filter.roof.isnull())"
      ],
      "metadata": {
        "colab": {
          "base_uri": "https://localhost:8080/"
        },
        "id": "MiGD8LEDIqvY",
        "outputId": "607e9bb1-db76-435f-b769-7023b44e6a17"
      },
      "execution_count": null,
      "outputs": [
        {
          "output_type": "execute_result",
          "data": {
            "text/plain": [
              "0"
            ]
          },
          "metadata": {},
          "execution_count": 17
        }
      ]
    },
    {
      "cell_type": "code",
      "source": [
        "df_filter.roof.value_counts()"
      ],
      "metadata": {
        "colab": {
          "base_uri": "https://localhost:8080/"
        },
        "id": "Rw9I0VunJBkU",
        "outputId": "66f908fa-1ba7-4c2d-ae31-77bbfca2b64a"
      },
      "execution_count": null,
      "outputs": [
        {
          "output_type": "execute_result",
          "data": {
            "text/plain": [
              "Shingle             1268\n",
              "newNAN               354\n",
              "Asphalt              137\n",
              "Other                 49\n",
              "Gravel/Rock           30\n",
              "Roll Composition      12\n",
              "Slate                  9\n",
              "Asbestos               9\n",
              "Composition            9\n",
              "Metal                  4\n",
              "Built-up               2\n",
              "Name: roof, dtype: int64"
            ]
          },
          "metadata": {},
          "execution_count": 18
        }
      ]
    },
    {
      "cell_type": "markdown",
      "source": [
        "##Tratamiento Columna Exterior Walls"
      ],
      "metadata": {
        "id": "cphEUwULNRbB"
      }
    },
    {
      "cell_type": "code",
      "source": [
        "#Columna Exterior walls\n",
        "df_filter.exterior_walls.value_counts()"
      ],
      "metadata": {
        "colab": {
          "base_uri": "https://localhost:8080/"
        },
        "id": "LmaW0R_TJHHw",
        "outputId": "b1f4c976-94a5-4537-b246-a5918296a6ca"
      },
      "execution_count": null,
      "outputs": [
        {
          "output_type": "execute_result",
          "data": {
            "text/plain": [
              "Brick                  687\n",
              "Siding (Alum/Vinyl)    503\n",
              "Metal                  120\n",
              "Combination            107\n",
              "Wood                    72\n",
              "Wood Siding             49\n",
              "Brick veneer            48\n",
              "Stucco                  26\n",
              "Other                   10\n",
              "Concrete                 8\n",
              "Concrete Block           7\n",
              "Block                    7\n",
              "Asbestos shingle         6\n",
              "Rock, Stone              5\n",
              "Masonry                  3\n",
              "Wood Shingle             2\n",
              "Name: exterior_walls, dtype: int64"
            ]
          },
          "metadata": {},
          "execution_count": 19
        }
      ]
    },
    {
      "cell_type": "code",
      "source": [
        "df_filter.exterior_walls.replace(['Wood Siding', 'Asbestos shingle', 'Wood Shingle'],'Wood',inplace=True)\n",
        "df_filter.exterior_walls.replace(['Rock, Stone','Concrete', 'Concrete Block'],'Block',inplace=True)\n",
        "df_filter.exterior_walls.replace(['Masonry', 'Brick veneer'],'Brick', inplace=True)"
      ],
      "metadata": {
        "id": "0FcamP6lLQhe"
      },
      "execution_count": null,
      "outputs": []
    },
    {
      "cell_type": "code",
      "source": [
        "df_filter.exterior_walls.value_counts()"
      ],
      "metadata": {
        "colab": {
          "base_uri": "https://localhost:8080/"
        },
        "id": "B-TIlP9pM1WX",
        "outputId": "747fcc8c-5096-497d-cf24-72febf2d161d"
      },
      "execution_count": null,
      "outputs": [
        {
          "output_type": "execute_result",
          "data": {
            "text/plain": [
              "Brick                  738\n",
              "Siding (Alum/Vinyl)    503\n",
              "Wood                   129\n",
              "Metal                  120\n",
              "Combination            107\n",
              "Block                   27\n",
              "Stucco                  26\n",
              "Other                   10\n",
              "Name: exterior_walls, dtype: int64"
            ]
          },
          "metadata": {},
          "execution_count": 21
        }
      ]
    },
    {
      "cell_type": "code",
      "source": [
        "sum(df_filter.exterior_walls.isnull())"
      ],
      "metadata": {
        "colab": {
          "base_uri": "https://localhost:8080/"
        },
        "id": "QIT5nFqCM7cG",
        "outputId": "ebe818f6-a9eb-4507-faaf-e7f22d65511c"
      },
      "execution_count": null,
      "outputs": [
        {
          "output_type": "execute_result",
          "data": {
            "text/plain": [
              "223"
            ]
          },
          "metadata": {},
          "execution_count": 22
        }
      ]
    },
    {
      "cell_type": "code",
      "source": [
        "df_filter.exterior_walls.fillna('newNan',inplace=True)"
      ],
      "metadata": {
        "id": "xKcMapG9NrPz"
      },
      "execution_count": null,
      "outputs": []
    },
    {
      "cell_type": "code",
      "source": [
        "df_filter.exterior_walls.value_counts()"
      ],
      "metadata": {
        "colab": {
          "base_uri": "https://localhost:8080/"
        },
        "id": "rqsb_puuN0ge",
        "outputId": "c6fa4362-856b-4cb2-b52b-c569ab59a638"
      },
      "execution_count": null,
      "outputs": [
        {
          "output_type": "execute_result",
          "data": {
            "text/plain": [
              "Brick                  738\n",
              "Siding (Alum/Vinyl)    503\n",
              "newNan                 223\n",
              "Wood                   129\n",
              "Metal                  120\n",
              "Combination            107\n",
              "Block                   27\n",
              "Stucco                  26\n",
              "Other                   10\n",
              "Name: exterior_walls, dtype: int64"
            ]
          },
          "metadata": {},
          "execution_count": 24
        }
      ]
    },
    {
      "cell_type": "markdown",
      "source": [
        "#Transformación y codificación de las columnas categóricas"
      ],
      "metadata": {
        "id": "JvGDnSlOOY4R"
      }
    },
    {
      "cell_type": "code",
      "source": [
        "df_filter = pd.get_dummies(df_filter)\n",
        "df_filter.head()"
      ],
      "metadata": {
        "colab": {
          "base_uri": "https://localhost:8080/",
          "height": 317
        },
        "id": "54CDjUjDN4Zm",
        "outputId": "34cf173e-c71f-4c62-95be-822106b3a4df"
      },
      "execution_count": null,
      "outputs": [
        {
          "output_type": "execute_result",
          "data": {
            "text/plain": [
              "   tx_price  beds  baths  sqft  year_built  restaurants  groceries  nightlife  \\\n",
              "0    295850     1      1   584        2013          107          9         30   \n",
              "1    216500     1      1   612        1965          105         15          6   \n",
              "2    279900     1      1   615        1963          183         13         31   \n",
              "3    379900     1      1   618        2000          198          9         38   \n",
              "4    340000     1      1   634        1992          149          7         22   \n",
              "\n",
              "   cafes  shopping  ...  roof_Asphalt  roof_Built-up  roof_Composition  \\\n",
              "0     19        89  ...             0              0                 0   \n",
              "1     13        87  ...             0              0                 0   \n",
              "2     30       101  ...             0              0                 0   \n",
              "3     25       127  ...             0              0                 0   \n",
              "4     20        83  ...             0              0                 0   \n",
              "\n",
              "   roof_Gravel/Rock  roof_Metal  roof_Other  roof_Roll Composition  \\\n",
              "0                 0           0           0                      0   \n",
              "1                 0           0           0                      0   \n",
              "2                 0           0           0                      0   \n",
              "3                 0           0           0                      0   \n",
              "4                 0           0           0                      0   \n",
              "\n",
              "   roof_Shingle  roof_Slate  roof_newNAN  \n",
              "0             0           0            1  \n",
              "1             1           0            0  \n",
              "2             0           0            1  \n",
              "3             0           0            1  \n",
              "4             0           0            1  \n",
              "\n",
              "[5 rows x 43 columns]"
            ],
            "text/html": [
              "\n",
              "  <div id=\"df-e28c14f4-54ca-4b71-b273-ac6af2fb4f7a\">\n",
              "    <div class=\"colab-df-container\">\n",
              "      <div>\n",
              "<style scoped>\n",
              "    .dataframe tbody tr th:only-of-type {\n",
              "        vertical-align: middle;\n",
              "    }\n",
              "\n",
              "    .dataframe tbody tr th {\n",
              "        vertical-align: top;\n",
              "    }\n",
              "\n",
              "    .dataframe thead th {\n",
              "        text-align: right;\n",
              "    }\n",
              "</style>\n",
              "<table border=\"1\" class=\"dataframe\">\n",
              "  <thead>\n",
              "    <tr style=\"text-align: right;\">\n",
              "      <th></th>\n",
              "      <th>tx_price</th>\n",
              "      <th>beds</th>\n",
              "      <th>baths</th>\n",
              "      <th>sqft</th>\n",
              "      <th>year_built</th>\n",
              "      <th>restaurants</th>\n",
              "      <th>groceries</th>\n",
              "      <th>nightlife</th>\n",
              "      <th>cafes</th>\n",
              "      <th>shopping</th>\n",
              "      <th>...</th>\n",
              "      <th>roof_Asphalt</th>\n",
              "      <th>roof_Built-up</th>\n",
              "      <th>roof_Composition</th>\n",
              "      <th>roof_Gravel/Rock</th>\n",
              "      <th>roof_Metal</th>\n",
              "      <th>roof_Other</th>\n",
              "      <th>roof_Roll Composition</th>\n",
              "      <th>roof_Shingle</th>\n",
              "      <th>roof_Slate</th>\n",
              "      <th>roof_newNAN</th>\n",
              "    </tr>\n",
              "  </thead>\n",
              "  <tbody>\n",
              "    <tr>\n",
              "      <th>0</th>\n",
              "      <td>295850</td>\n",
              "      <td>1</td>\n",
              "      <td>1</td>\n",
              "      <td>584</td>\n",
              "      <td>2013</td>\n",
              "      <td>107</td>\n",
              "      <td>9</td>\n",
              "      <td>30</td>\n",
              "      <td>19</td>\n",
              "      <td>89</td>\n",
              "      <td>...</td>\n",
              "      <td>0</td>\n",
              "      <td>0</td>\n",
              "      <td>0</td>\n",
              "      <td>0</td>\n",
              "      <td>0</td>\n",
              "      <td>0</td>\n",
              "      <td>0</td>\n",
              "      <td>0</td>\n",
              "      <td>0</td>\n",
              "      <td>1</td>\n",
              "    </tr>\n",
              "    <tr>\n",
              "      <th>1</th>\n",
              "      <td>216500</td>\n",
              "      <td>1</td>\n",
              "      <td>1</td>\n",
              "      <td>612</td>\n",
              "      <td>1965</td>\n",
              "      <td>105</td>\n",
              "      <td>15</td>\n",
              "      <td>6</td>\n",
              "      <td>13</td>\n",
              "      <td>87</td>\n",
              "      <td>...</td>\n",
              "      <td>0</td>\n",
              "      <td>0</td>\n",
              "      <td>0</td>\n",
              "      <td>0</td>\n",
              "      <td>0</td>\n",
              "      <td>0</td>\n",
              "      <td>0</td>\n",
              "      <td>1</td>\n",
              "      <td>0</td>\n",
              "      <td>0</td>\n",
              "    </tr>\n",
              "    <tr>\n",
              "      <th>2</th>\n",
              "      <td>279900</td>\n",
              "      <td>1</td>\n",
              "      <td>1</td>\n",
              "      <td>615</td>\n",
              "      <td>1963</td>\n",
              "      <td>183</td>\n",
              "      <td>13</td>\n",
              "      <td>31</td>\n",
              "      <td>30</td>\n",
              "      <td>101</td>\n",
              "      <td>...</td>\n",
              "      <td>0</td>\n",
              "      <td>0</td>\n",
              "      <td>0</td>\n",
              "      <td>0</td>\n",
              "      <td>0</td>\n",
              "      <td>0</td>\n",
              "      <td>0</td>\n",
              "      <td>0</td>\n",
              "      <td>0</td>\n",
              "      <td>1</td>\n",
              "    </tr>\n",
              "    <tr>\n",
              "      <th>3</th>\n",
              "      <td>379900</td>\n",
              "      <td>1</td>\n",
              "      <td>1</td>\n",
              "      <td>618</td>\n",
              "      <td>2000</td>\n",
              "      <td>198</td>\n",
              "      <td>9</td>\n",
              "      <td>38</td>\n",
              "      <td>25</td>\n",
              "      <td>127</td>\n",
              "      <td>...</td>\n",
              "      <td>0</td>\n",
              "      <td>0</td>\n",
              "      <td>0</td>\n",
              "      <td>0</td>\n",
              "      <td>0</td>\n",
              "      <td>0</td>\n",
              "      <td>0</td>\n",
              "      <td>0</td>\n",
              "      <td>0</td>\n",
              "      <td>1</td>\n",
              "    </tr>\n",
              "    <tr>\n",
              "      <th>4</th>\n",
              "      <td>340000</td>\n",
              "      <td>1</td>\n",
              "      <td>1</td>\n",
              "      <td>634</td>\n",
              "      <td>1992</td>\n",
              "      <td>149</td>\n",
              "      <td>7</td>\n",
              "      <td>22</td>\n",
              "      <td>20</td>\n",
              "      <td>83</td>\n",
              "      <td>...</td>\n",
              "      <td>0</td>\n",
              "      <td>0</td>\n",
              "      <td>0</td>\n",
              "      <td>0</td>\n",
              "      <td>0</td>\n",
              "      <td>0</td>\n",
              "      <td>0</td>\n",
              "      <td>0</td>\n",
              "      <td>0</td>\n",
              "      <td>1</td>\n",
              "    </tr>\n",
              "  </tbody>\n",
              "</table>\n",
              "<p>5 rows × 43 columns</p>\n",
              "</div>\n",
              "      <button class=\"colab-df-convert\" onclick=\"convertToInteractive('df-e28c14f4-54ca-4b71-b273-ac6af2fb4f7a')\"\n",
              "              title=\"Convert this dataframe to an interactive table.\"\n",
              "              style=\"display:none;\">\n",
              "        \n",
              "  <svg xmlns=\"http://www.w3.org/2000/svg\" height=\"24px\"viewBox=\"0 0 24 24\"\n",
              "       width=\"24px\">\n",
              "    <path d=\"M0 0h24v24H0V0z\" fill=\"none\"/>\n",
              "    <path d=\"M18.56 5.44l.94 2.06.94-2.06 2.06-.94-2.06-.94-.94-2.06-.94 2.06-2.06.94zm-11 1L8.5 8.5l.94-2.06 2.06-.94-2.06-.94L8.5 2.5l-.94 2.06-2.06.94zm10 10l.94 2.06.94-2.06 2.06-.94-2.06-.94-.94-2.06-.94 2.06-2.06.94z\"/><path d=\"M17.41 7.96l-1.37-1.37c-.4-.4-.92-.59-1.43-.59-.52 0-1.04.2-1.43.59L10.3 9.45l-7.72 7.72c-.78.78-.78 2.05 0 2.83L4 21.41c.39.39.9.59 1.41.59.51 0 1.02-.2 1.41-.59l7.78-7.78 2.81-2.81c.8-.78.8-2.07 0-2.86zM5.41 20L4 18.59l7.72-7.72 1.47 1.35L5.41 20z\"/>\n",
              "  </svg>\n",
              "      </button>\n",
              "      \n",
              "  <style>\n",
              "    .colab-df-container {\n",
              "      display:flex;\n",
              "      flex-wrap:wrap;\n",
              "      gap: 12px;\n",
              "    }\n",
              "\n",
              "    .colab-df-convert {\n",
              "      background-color: #E8F0FE;\n",
              "      border: none;\n",
              "      border-radius: 50%;\n",
              "      cursor: pointer;\n",
              "      display: none;\n",
              "      fill: #1967D2;\n",
              "      height: 32px;\n",
              "      padding: 0 0 0 0;\n",
              "      width: 32px;\n",
              "    }\n",
              "\n",
              "    .colab-df-convert:hover {\n",
              "      background-color: #E2EBFA;\n",
              "      box-shadow: 0px 1px 2px rgba(60, 64, 67, 0.3), 0px 1px 3px 1px rgba(60, 64, 67, 0.15);\n",
              "      fill: #174EA6;\n",
              "    }\n",
              "\n",
              "    [theme=dark] .colab-df-convert {\n",
              "      background-color: #3B4455;\n",
              "      fill: #D2E3FC;\n",
              "    }\n",
              "\n",
              "    [theme=dark] .colab-df-convert:hover {\n",
              "      background-color: #434B5C;\n",
              "      box-shadow: 0px 1px 3px 1px rgba(0, 0, 0, 0.15);\n",
              "      filter: drop-shadow(0px 1px 2px rgba(0, 0, 0, 0.3));\n",
              "      fill: #FFFFFF;\n",
              "    }\n",
              "  </style>\n",
              "\n",
              "      <script>\n",
              "        const buttonEl =\n",
              "          document.querySelector('#df-e28c14f4-54ca-4b71-b273-ac6af2fb4f7a button.colab-df-convert');\n",
              "        buttonEl.style.display =\n",
              "          google.colab.kernel.accessAllowed ? 'block' : 'none';\n",
              "\n",
              "        async function convertToInteractive(key) {\n",
              "          const element = document.querySelector('#df-e28c14f4-54ca-4b71-b273-ac6af2fb4f7a');\n",
              "          const dataTable =\n",
              "            await google.colab.kernel.invokeFunction('convertToInteractive',\n",
              "                                                     [key], {});\n",
              "          if (!dataTable) return;\n",
              "\n",
              "          const docLinkHtml = 'Like what you see? Visit the ' +\n",
              "            '<a target=\"_blank\" href=https://colab.research.google.com/notebooks/data_table.ipynb>data table notebook</a>'\n",
              "            + ' to learn more about interactive tables.';\n",
              "          element.innerHTML = '';\n",
              "          dataTable['output_type'] = 'display_data';\n",
              "          await google.colab.output.renderOutput(dataTable, element);\n",
              "          const docLink = document.createElement('div');\n",
              "          docLink.innerHTML = docLinkHtml;\n",
              "          element.appendChild(docLink);\n",
              "        }\n",
              "      </script>\n",
              "    </div>\n",
              "  </div>\n",
              "  "
            ]
          },
          "metadata": {},
          "execution_count": 25
        }
      ]
    },
    {
      "cell_type": "code",
      "source": [
        "df_filter.info()"
      ],
      "metadata": {
        "colab": {
          "base_uri": "https://localhost:8080/"
        },
        "id": "yiPDvuF1Osqr",
        "outputId": "c78a4d87-5413-48ad-a82e-cfbc2d909067"
      },
      "execution_count": null,
      "outputs": [
        {
          "output_type": "stream",
          "name": "stdout",
          "text": [
            "<class 'pandas.core.frame.DataFrame'>\n",
            "RangeIndex: 1883 entries, 0 to 1882\n",
            "Data columns (total 43 columns):\n",
            " #   Column                                       Non-Null Count  Dtype  \n",
            "---  ------                                       --------------  -----  \n",
            " 0   tx_price                                     1883 non-null   int64  \n",
            " 1   beds                                         1883 non-null   int64  \n",
            " 2   baths                                        1883 non-null   int64  \n",
            " 3   sqft                                         1883 non-null   int64  \n",
            " 4   year_built                                   1883 non-null   int64  \n",
            " 5   restaurants                                  1883 non-null   int64  \n",
            " 6   groceries                                    1883 non-null   int64  \n",
            " 7   nightlife                                    1883 non-null   int64  \n",
            " 8   cafes                                        1883 non-null   int64  \n",
            " 9   shopping                                     1883 non-null   int64  \n",
            " 10  arts_entertainment                           1883 non-null   int64  \n",
            " 11  beauty_spas                                  1883 non-null   int64  \n",
            " 12  active_life                                  1883 non-null   int64  \n",
            " 13  median_age                                   1883 non-null   float64\n",
            " 14  married                                      1883 non-null   float64\n",
            " 15  college_grad                                 1883 non-null   float64\n",
            " 16  property_tax                                 1883 non-null   float64\n",
            " 17  insurance                                    1883 non-null   float64\n",
            " 18  median_school                                1883 non-null   float64\n",
            " 19  num_schools                                  1883 non-null   float64\n",
            " 20  tx_year                                      1883 non-null   int64  \n",
            " 21  property_type_Apartment / Condo / Townhouse  1883 non-null   uint8  \n",
            " 22  property_type_Single-Family                  1883 non-null   uint8  \n",
            " 23  exterior_walls_Block                         1883 non-null   uint8  \n",
            " 24  exterior_walls_Brick                         1883 non-null   uint8  \n",
            " 25  exterior_walls_Combination                   1883 non-null   uint8  \n",
            " 26  exterior_walls_Metal                         1883 non-null   uint8  \n",
            " 27  exterior_walls_Other                         1883 non-null   uint8  \n",
            " 28  exterior_walls_Siding (Alum/Vinyl)           1883 non-null   uint8  \n",
            " 29  exterior_walls_Stucco                        1883 non-null   uint8  \n",
            " 30  exterior_walls_Wood                          1883 non-null   uint8  \n",
            " 31  exterior_walls_newNan                        1883 non-null   uint8  \n",
            " 32  roof_Asbestos                                1883 non-null   uint8  \n",
            " 33  roof_Asphalt                                 1883 non-null   uint8  \n",
            " 34  roof_Built-up                                1883 non-null   uint8  \n",
            " 35  roof_Composition                             1883 non-null   uint8  \n",
            " 36  roof_Gravel/Rock                             1883 non-null   uint8  \n",
            " 37  roof_Metal                                   1883 non-null   uint8  \n",
            " 38  roof_Other                                   1883 non-null   uint8  \n",
            " 39  roof_Roll Composition                        1883 non-null   uint8  \n",
            " 40  roof_Shingle                                 1883 non-null   uint8  \n",
            " 41  roof_Slate                                   1883 non-null   uint8  \n",
            " 42  roof_newNAN                                  1883 non-null   uint8  \n",
            "dtypes: float64(7), int64(14), uint8(22)\n",
            "memory usage: 349.5 KB\n"
          ]
        }
      ]
    },
    {
      "cell_type": "markdown",
      "source": [
        "##Modelo"
      ],
      "metadata": {
        "id": "C6kUkDUSPT_d"
      }
    },
    {
      "cell_type": "code",
      "source": [
        "#Usaremos tx_price como variable objetivo, para eso la dejamos de lado en el dataframe\n",
        "y = df_filter.tx_price\n",
        "X = df_filter.drop('tx_price',axis=1)"
      ],
      "metadata": {
        "id": "KIRo5pvLO5te"
      },
      "execution_count": null,
      "outputs": []
    },
    {
      "cell_type": "code",
      "source": [
        "X[:10]"
      ],
      "metadata": {
        "colab": {
          "base_uri": "https://localhost:8080/",
          "height": 474
        },
        "id": "X3i_6P1PPyky",
        "outputId": "b0f0ca9b-42b7-4c37-92a2-f3e8bc017417"
      },
      "execution_count": null,
      "outputs": [
        {
          "output_type": "execute_result",
          "data": {
            "text/plain": [
              "   beds  baths  sqft  year_built  restaurants  groceries  nightlife  cafes  \\\n",
              "0     1      1   584        2013          107          9         30     19   \n",
              "1     1      1   612        1965          105         15          6     13   \n",
              "2     1      1   615        1963          183         13         31     30   \n",
              "3     1      1   618        2000          198          9         38     25   \n",
              "4     1      1   634        1992          149          7         22     20   \n",
              "5     1      1   641        1947          146         10         23     27   \n",
              "6     1      1   642        1944          159         13         36     17   \n",
              "7     1      1   650        2000          198          9         38     25   \n",
              "8     1      1   660        1983           51          8          6      2   \n",
              "9     1      1   664        1965          119         10         26     25   \n",
              "\n",
              "   shopping  arts_entertainment  ...  roof_Asphalt  roof_Built-up  \\\n",
              "0        89                   6  ...             0              0   \n",
              "1        87                   2  ...             0              0   \n",
              "2       101                  10  ...             0              0   \n",
              "3       127                  11  ...             0              0   \n",
              "4        83                  10  ...             0              0   \n",
              "5        86                   9  ...             0              0   \n",
              "6        92                  12  ...             0              0   \n",
              "7       127                  11  ...             0              0   \n",
              "8        40                  18  ...             0              0   \n",
              "9       183                  13  ...             0              0   \n",
              "\n",
              "   roof_Composition  roof_Gravel/Rock  roof_Metal  roof_Other  \\\n",
              "0                 0                 0           0           0   \n",
              "1                 0                 0           0           0   \n",
              "2                 0                 0           0           0   \n",
              "3                 0                 0           0           0   \n",
              "4                 0                 0           0           0   \n",
              "5                 0                 0           0           0   \n",
              "6                 0                 0           0           0   \n",
              "7                 0                 0           0           0   \n",
              "8                 0                 0           0           0   \n",
              "9                 0                 0           0           0   \n",
              "\n",
              "   roof_Roll Composition  roof_Shingle  roof_Slate  roof_newNAN  \n",
              "0                      0             0           0            1  \n",
              "1                      0             1           0            0  \n",
              "2                      0             0           0            1  \n",
              "3                      0             0           0            1  \n",
              "4                      0             0           0            1  \n",
              "5                      0             0           0            1  \n",
              "6                      0             0           0            1  \n",
              "7                      0             0           0            1  \n",
              "8                      0             0           0            1  \n",
              "9                      0             0           0            1  \n",
              "\n",
              "[10 rows x 42 columns]"
            ],
            "text/html": [
              "\n",
              "  <div id=\"df-07992456-fe4d-49bc-9001-b2e3412b1002\">\n",
              "    <div class=\"colab-df-container\">\n",
              "      <div>\n",
              "<style scoped>\n",
              "    .dataframe tbody tr th:only-of-type {\n",
              "        vertical-align: middle;\n",
              "    }\n",
              "\n",
              "    .dataframe tbody tr th {\n",
              "        vertical-align: top;\n",
              "    }\n",
              "\n",
              "    .dataframe thead th {\n",
              "        text-align: right;\n",
              "    }\n",
              "</style>\n",
              "<table border=\"1\" class=\"dataframe\">\n",
              "  <thead>\n",
              "    <tr style=\"text-align: right;\">\n",
              "      <th></th>\n",
              "      <th>beds</th>\n",
              "      <th>baths</th>\n",
              "      <th>sqft</th>\n",
              "      <th>year_built</th>\n",
              "      <th>restaurants</th>\n",
              "      <th>groceries</th>\n",
              "      <th>nightlife</th>\n",
              "      <th>cafes</th>\n",
              "      <th>shopping</th>\n",
              "      <th>arts_entertainment</th>\n",
              "      <th>...</th>\n",
              "      <th>roof_Asphalt</th>\n",
              "      <th>roof_Built-up</th>\n",
              "      <th>roof_Composition</th>\n",
              "      <th>roof_Gravel/Rock</th>\n",
              "      <th>roof_Metal</th>\n",
              "      <th>roof_Other</th>\n",
              "      <th>roof_Roll Composition</th>\n",
              "      <th>roof_Shingle</th>\n",
              "      <th>roof_Slate</th>\n",
              "      <th>roof_newNAN</th>\n",
              "    </tr>\n",
              "  </thead>\n",
              "  <tbody>\n",
              "    <tr>\n",
              "      <th>0</th>\n",
              "      <td>1</td>\n",
              "      <td>1</td>\n",
              "      <td>584</td>\n",
              "      <td>2013</td>\n",
              "      <td>107</td>\n",
              "      <td>9</td>\n",
              "      <td>30</td>\n",
              "      <td>19</td>\n",
              "      <td>89</td>\n",
              "      <td>6</td>\n",
              "      <td>...</td>\n",
              "      <td>0</td>\n",
              "      <td>0</td>\n",
              "      <td>0</td>\n",
              "      <td>0</td>\n",
              "      <td>0</td>\n",
              "      <td>0</td>\n",
              "      <td>0</td>\n",
              "      <td>0</td>\n",
              "      <td>0</td>\n",
              "      <td>1</td>\n",
              "    </tr>\n",
              "    <tr>\n",
              "      <th>1</th>\n",
              "      <td>1</td>\n",
              "      <td>1</td>\n",
              "      <td>612</td>\n",
              "      <td>1965</td>\n",
              "      <td>105</td>\n",
              "      <td>15</td>\n",
              "      <td>6</td>\n",
              "      <td>13</td>\n",
              "      <td>87</td>\n",
              "      <td>2</td>\n",
              "      <td>...</td>\n",
              "      <td>0</td>\n",
              "      <td>0</td>\n",
              "      <td>0</td>\n",
              "      <td>0</td>\n",
              "      <td>0</td>\n",
              "      <td>0</td>\n",
              "      <td>0</td>\n",
              "      <td>1</td>\n",
              "      <td>0</td>\n",
              "      <td>0</td>\n",
              "    </tr>\n",
              "    <tr>\n",
              "      <th>2</th>\n",
              "      <td>1</td>\n",
              "      <td>1</td>\n",
              "      <td>615</td>\n",
              "      <td>1963</td>\n",
              "      <td>183</td>\n",
              "      <td>13</td>\n",
              "      <td>31</td>\n",
              "      <td>30</td>\n",
              "      <td>101</td>\n",
              "      <td>10</td>\n",
              "      <td>...</td>\n",
              "      <td>0</td>\n",
              "      <td>0</td>\n",
              "      <td>0</td>\n",
              "      <td>0</td>\n",
              "      <td>0</td>\n",
              "      <td>0</td>\n",
              "      <td>0</td>\n",
              "      <td>0</td>\n",
              "      <td>0</td>\n",
              "      <td>1</td>\n",
              "    </tr>\n",
              "    <tr>\n",
              "      <th>3</th>\n",
              "      <td>1</td>\n",
              "      <td>1</td>\n",
              "      <td>618</td>\n",
              "      <td>2000</td>\n",
              "      <td>198</td>\n",
              "      <td>9</td>\n",
              "      <td>38</td>\n",
              "      <td>25</td>\n",
              "      <td>127</td>\n",
              "      <td>11</td>\n",
              "      <td>...</td>\n",
              "      <td>0</td>\n",
              "      <td>0</td>\n",
              "      <td>0</td>\n",
              "      <td>0</td>\n",
              "      <td>0</td>\n",
              "      <td>0</td>\n",
              "      <td>0</td>\n",
              "      <td>0</td>\n",
              "      <td>0</td>\n",
              "      <td>1</td>\n",
              "    </tr>\n",
              "    <tr>\n",
              "      <th>4</th>\n",
              "      <td>1</td>\n",
              "      <td>1</td>\n",
              "      <td>634</td>\n",
              "      <td>1992</td>\n",
              "      <td>149</td>\n",
              "      <td>7</td>\n",
              "      <td>22</td>\n",
              "      <td>20</td>\n",
              "      <td>83</td>\n",
              "      <td>10</td>\n",
              "      <td>...</td>\n",
              "      <td>0</td>\n",
              "      <td>0</td>\n",
              "      <td>0</td>\n",
              "      <td>0</td>\n",
              "      <td>0</td>\n",
              "      <td>0</td>\n",
              "      <td>0</td>\n",
              "      <td>0</td>\n",
              "      <td>0</td>\n",
              "      <td>1</td>\n",
              "    </tr>\n",
              "    <tr>\n",
              "      <th>5</th>\n",
              "      <td>1</td>\n",
              "      <td>1</td>\n",
              "      <td>641</td>\n",
              "      <td>1947</td>\n",
              "      <td>146</td>\n",
              "      <td>10</td>\n",
              "      <td>23</td>\n",
              "      <td>27</td>\n",
              "      <td>86</td>\n",
              "      <td>9</td>\n",
              "      <td>...</td>\n",
              "      <td>0</td>\n",
              "      <td>0</td>\n",
              "      <td>0</td>\n",
              "      <td>0</td>\n",
              "      <td>0</td>\n",
              "      <td>0</td>\n",
              "      <td>0</td>\n",
              "      <td>0</td>\n",
              "      <td>0</td>\n",
              "      <td>1</td>\n",
              "    </tr>\n",
              "    <tr>\n",
              "      <th>6</th>\n",
              "      <td>1</td>\n",
              "      <td>1</td>\n",
              "      <td>642</td>\n",
              "      <td>1944</td>\n",
              "      <td>159</td>\n",
              "      <td>13</td>\n",
              "      <td>36</td>\n",
              "      <td>17</td>\n",
              "      <td>92</td>\n",
              "      <td>12</td>\n",
              "      <td>...</td>\n",
              "      <td>0</td>\n",
              "      <td>0</td>\n",
              "      <td>0</td>\n",
              "      <td>0</td>\n",
              "      <td>0</td>\n",
              "      <td>0</td>\n",
              "      <td>0</td>\n",
              "      <td>0</td>\n",
              "      <td>0</td>\n",
              "      <td>1</td>\n",
              "    </tr>\n",
              "    <tr>\n",
              "      <th>7</th>\n",
              "      <td>1</td>\n",
              "      <td>1</td>\n",
              "      <td>650</td>\n",
              "      <td>2000</td>\n",
              "      <td>198</td>\n",
              "      <td>9</td>\n",
              "      <td>38</td>\n",
              "      <td>25</td>\n",
              "      <td>127</td>\n",
              "      <td>11</td>\n",
              "      <td>...</td>\n",
              "      <td>0</td>\n",
              "      <td>0</td>\n",
              "      <td>0</td>\n",
              "      <td>0</td>\n",
              "      <td>0</td>\n",
              "      <td>0</td>\n",
              "      <td>0</td>\n",
              "      <td>0</td>\n",
              "      <td>0</td>\n",
              "      <td>1</td>\n",
              "    </tr>\n",
              "    <tr>\n",
              "      <th>8</th>\n",
              "      <td>1</td>\n",
              "      <td>1</td>\n",
              "      <td>660</td>\n",
              "      <td>1983</td>\n",
              "      <td>51</td>\n",
              "      <td>8</td>\n",
              "      <td>6</td>\n",
              "      <td>2</td>\n",
              "      <td>40</td>\n",
              "      <td>18</td>\n",
              "      <td>...</td>\n",
              "      <td>0</td>\n",
              "      <td>0</td>\n",
              "      <td>0</td>\n",
              "      <td>0</td>\n",
              "      <td>0</td>\n",
              "      <td>0</td>\n",
              "      <td>0</td>\n",
              "      <td>0</td>\n",
              "      <td>0</td>\n",
              "      <td>1</td>\n",
              "    </tr>\n",
              "    <tr>\n",
              "      <th>9</th>\n",
              "      <td>1</td>\n",
              "      <td>1</td>\n",
              "      <td>664</td>\n",
              "      <td>1965</td>\n",
              "      <td>119</td>\n",
              "      <td>10</td>\n",
              "      <td>26</td>\n",
              "      <td>25</td>\n",
              "      <td>183</td>\n",
              "      <td>13</td>\n",
              "      <td>...</td>\n",
              "      <td>0</td>\n",
              "      <td>0</td>\n",
              "      <td>0</td>\n",
              "      <td>0</td>\n",
              "      <td>0</td>\n",
              "      <td>0</td>\n",
              "      <td>0</td>\n",
              "      <td>0</td>\n",
              "      <td>0</td>\n",
              "      <td>1</td>\n",
              "    </tr>\n",
              "  </tbody>\n",
              "</table>\n",
              "<p>10 rows × 42 columns</p>\n",
              "</div>\n",
              "      <button class=\"colab-df-convert\" onclick=\"convertToInteractive('df-07992456-fe4d-49bc-9001-b2e3412b1002')\"\n",
              "              title=\"Convert this dataframe to an interactive table.\"\n",
              "              style=\"display:none;\">\n",
              "        \n",
              "  <svg xmlns=\"http://www.w3.org/2000/svg\" height=\"24px\"viewBox=\"0 0 24 24\"\n",
              "       width=\"24px\">\n",
              "    <path d=\"M0 0h24v24H0V0z\" fill=\"none\"/>\n",
              "    <path d=\"M18.56 5.44l.94 2.06.94-2.06 2.06-.94-2.06-.94-.94-2.06-.94 2.06-2.06.94zm-11 1L8.5 8.5l.94-2.06 2.06-.94-2.06-.94L8.5 2.5l-.94 2.06-2.06.94zm10 10l.94 2.06.94-2.06 2.06-.94-2.06-.94-.94-2.06-.94 2.06-2.06.94z\"/><path d=\"M17.41 7.96l-1.37-1.37c-.4-.4-.92-.59-1.43-.59-.52 0-1.04.2-1.43.59L10.3 9.45l-7.72 7.72c-.78.78-.78 2.05 0 2.83L4 21.41c.39.39.9.59 1.41.59.51 0 1.02-.2 1.41-.59l7.78-7.78 2.81-2.81c.8-.78.8-2.07 0-2.86zM5.41 20L4 18.59l7.72-7.72 1.47 1.35L5.41 20z\"/>\n",
              "  </svg>\n",
              "      </button>\n",
              "      \n",
              "  <style>\n",
              "    .colab-df-container {\n",
              "      display:flex;\n",
              "      flex-wrap:wrap;\n",
              "      gap: 12px;\n",
              "    }\n",
              "\n",
              "    .colab-df-convert {\n",
              "      background-color: #E8F0FE;\n",
              "      border: none;\n",
              "      border-radius: 50%;\n",
              "      cursor: pointer;\n",
              "      display: none;\n",
              "      fill: #1967D2;\n",
              "      height: 32px;\n",
              "      padding: 0 0 0 0;\n",
              "      width: 32px;\n",
              "    }\n",
              "\n",
              "    .colab-df-convert:hover {\n",
              "      background-color: #E2EBFA;\n",
              "      box-shadow: 0px 1px 2px rgba(60, 64, 67, 0.3), 0px 1px 3px 1px rgba(60, 64, 67, 0.15);\n",
              "      fill: #174EA6;\n",
              "    }\n",
              "\n",
              "    [theme=dark] .colab-df-convert {\n",
              "      background-color: #3B4455;\n",
              "      fill: #D2E3FC;\n",
              "    }\n",
              "\n",
              "    [theme=dark] .colab-df-convert:hover {\n",
              "      background-color: #434B5C;\n",
              "      box-shadow: 0px 1px 3px 1px rgba(0, 0, 0, 0.15);\n",
              "      filter: drop-shadow(0px 1px 2px rgba(0, 0, 0, 0.3));\n",
              "      fill: #FFFFFF;\n",
              "    }\n",
              "  </style>\n",
              "\n",
              "      <script>\n",
              "        const buttonEl =\n",
              "          document.querySelector('#df-07992456-fe4d-49bc-9001-b2e3412b1002 button.colab-df-convert');\n",
              "        buttonEl.style.display =\n",
              "          google.colab.kernel.accessAllowed ? 'block' : 'none';\n",
              "\n",
              "        async function convertToInteractive(key) {\n",
              "          const element = document.querySelector('#df-07992456-fe4d-49bc-9001-b2e3412b1002');\n",
              "          const dataTable =\n",
              "            await google.colab.kernel.invokeFunction('convertToInteractive',\n",
              "                                                     [key], {});\n",
              "          if (!dataTable) return;\n",
              "\n",
              "          const docLinkHtml = 'Like what you see? Visit the ' +\n",
              "            '<a target=\"_blank\" href=https://colab.research.google.com/notebooks/data_table.ipynb>data table notebook</a>'\n",
              "            + ' to learn more about interactive tables.';\n",
              "          element.innerHTML = '';\n",
              "          dataTable['output_type'] = 'display_data';\n",
              "          await google.colab.output.renderOutput(dataTable, element);\n",
              "          const docLink = document.createElement('div');\n",
              "          docLink.innerHTML = docLinkHtml;\n",
              "          element.appendChild(docLink);\n",
              "        }\n",
              "      </script>\n",
              "    </div>\n",
              "  </div>\n",
              "  "
            ]
          },
          "metadata": {},
          "execution_count": 28
        }
      ]
    },
    {
      "cell_type": "code",
      "source": [
        "y[:10]"
      ],
      "metadata": {
        "colab": {
          "base_uri": "https://localhost:8080/"
        },
        "id": "TTQVAJwVP02y",
        "outputId": "97e21a97-f3f7-4911-d27b-e234b4064f24"
      },
      "execution_count": null,
      "outputs": [
        {
          "output_type": "execute_result",
          "data": {
            "text/plain": [
              "0    295850\n",
              "1    216500\n",
              "2    279900\n",
              "3    379900\n",
              "4    340000\n",
              "5    265000\n",
              "6    240000\n",
              "7    388100\n",
              "8    240000\n",
              "9    250000\n",
              "Name: tx_price, dtype: int64"
            ]
          },
          "metadata": {},
          "execution_count": 29
        }
      ]
    },
    {
      "cell_type": "code",
      "source": [
        "print(X.shape)\n",
        "print(y.shape)"
      ],
      "metadata": {
        "colab": {
          "base_uri": "https://localhost:8080/"
        },
        "id": "ZK3gmgECQHva",
        "outputId": "e421a633-4ec9-4f3d-ad87-0f7d53762c0e"
      },
      "execution_count": null,
      "outputs": [
        {
          "output_type": "stream",
          "name": "stdout",
          "text": [
            "(1883, 42)\n",
            "(1883,)\n"
          ]
        }
      ]
    },
    {
      "cell_type": "code",
      "source": [
        "X_train, X_test, y_train, y_test = train_test_split(X, y, shuffle=True, test_size=0.2, random_state=42)"
      ],
      "metadata": {
        "id": "7-XEHMLvQYJG"
      },
      "execution_count": null,
      "outputs": []
    },
    {
      "cell_type": "code",
      "source": [
        "print(X_train.shape)\n",
        "print(X_test.shape)\n",
        "print(y_train.shape)\n",
        "print(y_test.shape)"
      ],
      "metadata": {
        "colab": {
          "base_uri": "https://localhost:8080/"
        },
        "id": "MlPINhSASd27",
        "outputId": "0d777531-b151-47e3-ce67-0230ab77ebaf"
      },
      "execution_count": null,
      "outputs": [
        {
          "output_type": "stream",
          "name": "stdout",
          "text": [
            "(1506, 42)\n",
            "(377, 42)\n",
            "(1506,)\n",
            "(377,)\n"
          ]
        }
      ]
    },
    {
      "cell_type": "markdown",
      "source": [
        "##Random Forest"
      ],
      "metadata": {
        "id": "qyAZ_3IwBU54"
      }
    },
    {
      "cell_type": "code",
      "source": [
        "#Tenemos que crear una instancia de la clase random forest\n",
        "rrr = RandomForestRegressor(n_estimators=100) #Los n estimators, es cuantos arboles se quiere en el bosque es decir el tamaño del modelo\n",
        "rrr.fit(X_train, y_train)"
      ],
      "metadata": {
        "id": "MWt0OKeISxKO",
        "colab": {
          "base_uri": "https://localhost:8080/"
        },
        "outputId": "5f558409-8c60-4225-cc73-d828c23a5303"
      },
      "execution_count": null,
      "outputs": [
        {
          "output_type": "execute_result",
          "data": {
            "text/plain": [
              "RandomForestRegressor()"
            ]
          },
          "metadata": {},
          "execution_count": 33
        }
      ]
    },
    {
      "cell_type": "code",
      "source": [
        "ypred = rrr.predict(X_test)\n",
        "r2_score(y_test, ypred)\n",
        "\n",
        "#Para que sea un buen modelo tiene que dar lo más cercano a 1"
      ],
      "metadata": {
        "colab": {
          "base_uri": "https://localhost:8080/"
        },
        "id": "Q_GknETDB7Xe",
        "outputId": "29f807f4-8c4c-46f3-b814-f761bfa681e6"
      },
      "execution_count": null,
      "outputs": [
        {
          "output_type": "execute_result",
          "data": {
            "text/plain": [
              "0.8097848391491127"
            ]
          },
          "metadata": {},
          "execution_count": 34
        }
      ]
    },
    {
      "cell_type": "code",
      "source": [
        "#Crear una función para iterar la cantidad de estimadores\n",
        "def r2_rf(num_est, Xtrain, Xtest, ytrain, ytest):\n",
        "  #Crear el modelo\n",
        "  model = RandomForestRegressor(n_estimators=num_est, random_state=42)\n",
        "\n",
        "  #Ajustar el modelo al dataset (entrenar)\n",
        "  model.fit(Xtrain, ytrain)\n",
        "\n",
        "  #Testear el modelo\n",
        "  #Hacer predicción con los datos de testeo\n",
        "  pred = model.predict(Xtest)\n",
        "\n",
        "  #Calcular r2 y retornar\n",
        "  r2 = r2_score(ytest, pred)\n",
        "  return(r2)"
      ],
      "metadata": {
        "id": "7IwAZwCAB9nX"
      },
      "execution_count": null,
      "outputs": []
    },
    {
      "cell_type": "code",
      "source": [
        "#Verificar el funcionamiento de la función\n",
        "r2_rf(100, X_train, X_test, y_train, y_test)"
      ],
      "metadata": {
        "colab": {
          "base_uri": "https://localhost:8080/"
        },
        "id": "Dr752VjTB_l7",
        "outputId": "cd8fcff2-a662-4131-80be-315a0408ec81"
      },
      "execution_count": null,
      "outputs": [
        {
          "output_type": "execute_result",
          "data": {
            "text/plain": [
              "0.8162982019090449"
            ]
          },
          "metadata": {},
          "execution_count": 36
        }
      ]
    },
    {
      "cell_type": "code",
      "source": [
        "#Iterar sobre la cantidad de estimadores (parametros de RFR)\n",
        "\n",
        "import time\n",
        "start = time.clock()\n",
        "\n",
        "vector_r2 = []\n",
        "\n",
        "for est in range (50, 150):\n",
        "  myr2 = r2_rf(est, X_train, X_test, y_train, y_test)\n",
        "  print('Num_Est: ', est, '\\t\\t R2 score:', myr2)\n",
        "  vector_r2.append(myr2)\n",
        "\n",
        "print(time.clock()-start)"
      ],
      "metadata": {
        "colab": {
          "base_uri": "https://localhost:8080/"
        },
        "id": "KBJTTQlMCBoe",
        "outputId": "1bbe0e5e-857b-4223-942c-d419ff1d284a"
      },
      "execution_count": null,
      "outputs": [
        {
          "output_type": "stream",
          "name": "stderr",
          "text": [
            "/usr/local/lib/python3.7/dist-packages/ipykernel_launcher.py:4: DeprecationWarning: time.clock has been deprecated in Python 3.3 and will be removed from Python 3.8: use time.perf_counter or time.process_time instead\n",
            "  after removing the cwd from sys.path.\n"
          ]
        },
        {
          "output_type": "stream",
          "name": "stdout",
          "text": [
            "Num_Est:  50 \t\t R2 score: 0.813366442573202\n",
            "Num_Est:  51 \t\t R2 score: 0.8134278524218564\n",
            "Num_Est:  52 \t\t R2 score: 0.8137543501102757\n",
            "Num_Est:  53 \t\t R2 score: 0.8130877753330767\n",
            "Num_Est:  54 \t\t R2 score: 0.8129923809855837\n",
            "Num_Est:  55 \t\t R2 score: 0.8133965816580201\n",
            "Num_Est:  56 \t\t R2 score: 0.8137250847316504\n",
            "Num_Est:  57 \t\t R2 score: 0.8142658441141761\n",
            "Num_Est:  58 \t\t R2 score: 0.8133971178453723\n",
            "Num_Est:  59 \t\t R2 score: 0.8135178029749294\n",
            "Num_Est:  60 \t\t R2 score: 0.8129811296164422\n",
            "Num_Est:  61 \t\t R2 score: 0.8132790047381466\n",
            "Num_Est:  62 \t\t R2 score: 0.8126552895296091\n",
            "Num_Est:  63 \t\t R2 score: 0.8129358900701725\n",
            "Num_Est:  64 \t\t R2 score: 0.8130716401613937\n",
            "Num_Est:  65 \t\t R2 score: 0.8137365189488093\n",
            "Num_Est:  66 \t\t R2 score: 0.8146481087452402\n",
            "Num_Est:  67 \t\t R2 score: 0.8153111233566794\n",
            "Num_Est:  68 \t\t R2 score: 0.8160630474551166\n",
            "Num_Est:  69 \t\t R2 score: 0.8160077313227335\n",
            "Num_Est:  70 \t\t R2 score: 0.816847094521912\n",
            "Num_Est:  71 \t\t R2 score: 0.8162767056028161\n",
            "Num_Est:  72 \t\t R2 score: 0.8167968065690824\n",
            "Num_Est:  73 \t\t R2 score: 0.8165609172605957\n",
            "Num_Est:  74 \t\t R2 score: 0.816619090853712\n",
            "Num_Est:  75 \t\t R2 score: 0.8162681112206924\n",
            "Num_Est:  76 \t\t R2 score: 0.8165952510137793\n",
            "Num_Est:  77 \t\t R2 score: 0.8161021654382022\n",
            "Num_Est:  78 \t\t R2 score: 0.8162844212789232\n",
            "Num_Est:  79 \t\t R2 score: 0.8165301156484006\n",
            "Num_Est:  80 \t\t R2 score: 0.8156500338211812\n",
            "Num_Est:  81 \t\t R2 score: 0.8159542560844895\n",
            "Num_Est:  82 \t\t R2 score: 0.8163253814493043\n",
            "Num_Est:  83 \t\t R2 score: 0.8159832123708077\n",
            "Num_Est:  84 \t\t R2 score: 0.8162536179916424\n",
            "Num_Est:  85 \t\t R2 score: 0.815950579546942\n",
            "Num_Est:  86 \t\t R2 score: 0.8160708994799571\n",
            "Num_Est:  87 \t\t R2 score: 0.8165258464270558\n",
            "Num_Est:  88 \t\t R2 score: 0.8166978190641987\n",
            "Num_Est:  89 \t\t R2 score: 0.8161601579495219\n",
            "Num_Est:  90 \t\t R2 score: 0.8162789416619387\n",
            "Num_Est:  91 \t\t R2 score: 0.8163636020947572\n",
            "Num_Est:  92 \t\t R2 score: 0.8160027714835245\n",
            "Num_Est:  93 \t\t R2 score: 0.8160433293283273\n",
            "Num_Est:  94 \t\t R2 score: 0.8167611538694399\n",
            "Num_Est:  95 \t\t R2 score: 0.8168241253212037\n",
            "Num_Est:  96 \t\t R2 score: 0.8162123078322906\n",
            "Num_Est:  97 \t\t R2 score: 0.8162072260290112\n",
            "Num_Est:  98 \t\t R2 score: 0.8159416468579752\n",
            "Num_Est:  99 \t\t R2 score: 0.815992770671538\n",
            "Num_Est:  100 \t\t R2 score: 0.8162982019090449\n",
            "Num_Est:  101 \t\t R2 score: 0.8161200519758309\n",
            "Num_Est:  102 \t\t R2 score: 0.8157014230247464\n",
            "Num_Est:  103 \t\t R2 score: 0.8155439634072148\n",
            "Num_Est:  104 \t\t R2 score: 0.8152154910343333\n",
            "Num_Est:  105 \t\t R2 score: 0.8151419244680335\n",
            "Num_Est:  106 \t\t R2 score: 0.8151082136481689\n",
            "Num_Est:  107 \t\t R2 score: 0.814995808700063\n",
            "Num_Est:  108 \t\t R2 score: 0.8150003030462271\n",
            "Num_Est:  109 \t\t R2 score: 0.8146394589377547\n",
            "Num_Est:  110 \t\t R2 score: 0.8146993837722294\n",
            "Num_Est:  111 \t\t R2 score: 0.8146917075689482\n",
            "Num_Est:  112 \t\t R2 score: 0.8150938821850521\n",
            "Num_Est:  113 \t\t R2 score: 0.8151263750160657\n",
            "Num_Est:  114 \t\t R2 score: 0.8153186436018567\n",
            "Num_Est:  115 \t\t R2 score: 0.8152695943250965\n",
            "Num_Est:  116 \t\t R2 score: 0.815677633942141\n",
            "Num_Est:  117 \t\t R2 score: 0.8157468650896457\n",
            "Num_Est:  118 \t\t R2 score: 0.8161736455086477\n",
            "Num_Est:  119 \t\t R2 score: 0.8161682796259393\n",
            "Num_Est:  120 \t\t R2 score: 0.8164452627136003\n",
            "Num_Est:  121 \t\t R2 score: 0.8163787109894466\n",
            "Num_Est:  122 \t\t R2 score: 0.8160876946174155\n",
            "Num_Est:  123 \t\t R2 score: 0.8159760474878295\n",
            "Num_Est:  124 \t\t R2 score: 0.8154811025785267\n",
            "Num_Est:  125 \t\t R2 score: 0.8157558330923209\n",
            "Num_Est:  126 \t\t R2 score: 0.8158064002659193\n",
            "Num_Est:  127 \t\t R2 score: 0.8158558104487813\n",
            "Num_Est:  128 \t\t R2 score: 0.815816692702049\n",
            "Num_Est:  129 \t\t R2 score: 0.8154256803539416\n",
            "Num_Est:  130 \t\t R2 score: 0.8153342145124842\n",
            "Num_Est:  131 \t\t R2 score: 0.8156066707964597\n",
            "Num_Est:  132 \t\t R2 score: 0.815511897824068\n",
            "Num_Est:  133 \t\t R2 score: 0.8151178526304391\n",
            "Num_Est:  134 \t\t R2 score: 0.8149805636737548\n",
            "Num_Est:  135 \t\t R2 score: 0.8151166345930987\n",
            "Num_Est:  136 \t\t R2 score: 0.8151287587180093\n",
            "Num_Est:  137 \t\t R2 score: 0.8155468629751406\n",
            "Num_Est:  138 \t\t R2 score: 0.815569354729116\n",
            "Num_Est:  139 \t\t R2 score: 0.8155875389680861\n",
            "Num_Est:  140 \t\t R2 score: 0.8157932821990148\n",
            "Num_Est:  141 \t\t R2 score: 0.815669192378067\n",
            "Num_Est:  142 \t\t R2 score: 0.8156967164104973\n",
            "Num_Est:  143 \t\t R2 score: 0.8156102639018781\n",
            "Num_Est:  144 \t\t R2 score: 0.8154616090058207\n",
            "Num_Est:  145 \t\t R2 score: 0.8155379991800238\n",
            "Num_Est:  146 \t\t R2 score: 0.8153875585083802\n",
            "Num_Est:  147 \t\t R2 score: 0.8153012678329694\n",
            "Num_Est:  148 \t\t R2 score: 0.8152578769871568\n",
            "Num_Est:  149 \t\t R2 score: 0.8149951937643701\n",
            "160.838996\n"
          ]
        },
        {
          "output_type": "stream",
          "name": "stderr",
          "text": [
            "/usr/local/lib/python3.7/dist-packages/ipykernel_launcher.py:13: DeprecationWarning: time.clock has been deprecated in Python 3.3 and will be removed from Python 3.8: use time.perf_counter or time.process_time instead\n",
            "  del sys.path[0]\n"
          ]
        }
      ]
    },
    {
      "cell_type": "code",
      "source": [
        "best_r2_RF = max(vector_r2)\n",
        "best_r2_RF"
      ],
      "metadata": {
        "colab": {
          "base_uri": "https://localhost:8080/"
        },
        "id": "RCjY0X8dCDsO",
        "outputId": "b01164d6-e463-4066-810b-605fe4d16fad"
      },
      "execution_count": null,
      "outputs": [
        {
          "output_type": "execute_result",
          "data": {
            "text/plain": [
              "0.816847094521912"
            ]
          },
          "metadata": {},
          "execution_count": 38
        }
      ]
    },
    {
      "cell_type": "markdown",
      "source": [
        "##Estandarizar Datos"
      ],
      "metadata": {
        "id": "Wv7S3w2TCQ7B"
      }
    },
    {
      "cell_type": "code",
      "source": [
        "#Estandarizar datos\n",
        "scaler = StandardScaler()\n",
        "df_std = pd.DataFrame(scaler.fit_transform(df_filter), columns = df_filter.columns)"
      ],
      "metadata": {
        "id": "kyoqvvr_CL9n"
      },
      "execution_count": null,
      "outputs": []
    },
    {
      "cell_type": "code",
      "source": [
        "df_std.head()"
      ],
      "metadata": {
        "colab": {
          "base_uri": "https://localhost:8080/",
          "height": 317
        },
        "id": "hmfzzWvFCIay",
        "outputId": "7bee583e-19ca-4d45-de8a-051cd1a0143e"
      },
      "execution_count": null,
      "outputs": [
        {
          "output_type": "execute_result",
          "data": {
            "text/plain": [
              "   tx_price      beds     baths      sqft  year_built  restaurants  groceries  \\\n",
              "0 -0.838646 -2.265912 -1.671305 -1.305814    1.480300     1.425468   1.001140   \n",
              "1 -1.362677 -2.265912 -1.671305 -1.284866   -0.885332     1.382783   2.337492   \n",
              "2 -0.943981 -2.265912 -1.671305 -1.282621   -0.983901     3.047509   1.892041   \n",
              "3 -0.283576 -2.265912 -1.671305 -1.280377    0.839608     3.367648   1.001140   \n",
              "4 -0.547078 -2.265912 -1.671305 -1.268407    0.445336     2.321859   0.555689   \n",
              "\n",
              "   nightlife     cafes  shopping  ...  roof_Asphalt  roof_Built-up  \\\n",
              "0   2.945389  1.814307  0.900467  ...     -0.280116      -0.032608   \n",
              "1   0.109321  1.018267  0.863101  ...     -0.280116      -0.032608   \n",
              "2   3.063559  3.273714  1.124661  ...     -0.280116      -0.032608   \n",
              "3   3.890745  2.610347  1.610414  ...     -0.280116      -0.032608   \n",
              "4   2.000033  1.946980  0.788370  ...     -0.280116      -0.032608   \n",
              "\n",
              "   roof_Composition  roof_Gravel/Rock  roof_Metal  roof_Other  \\\n",
              "0         -0.069301          -0.12724   -0.046139   -0.163455   \n",
              "1         -0.069301          -0.12724   -0.046139   -0.163455   \n",
              "2         -0.069301          -0.12724   -0.046139   -0.163455   \n",
              "3         -0.069301          -0.12724   -0.046139   -0.163455   \n",
              "4         -0.069301          -0.12724   -0.046139   -0.163455   \n",
              "\n",
              "   roof_Roll Composition  roof_Shingle  roof_Slate  roof_newNAN  \n",
              "0              -0.080085     -1.435893   -0.069301     2.078271  \n",
              "1              -0.080085      0.696431   -0.069301    -0.481169  \n",
              "2              -0.080085     -1.435893   -0.069301     2.078271  \n",
              "3              -0.080085     -1.435893   -0.069301     2.078271  \n",
              "4              -0.080085     -1.435893   -0.069301     2.078271  \n",
              "\n",
              "[5 rows x 43 columns]"
            ],
            "text/html": [
              "\n",
              "  <div id=\"df-84581b9c-09a2-41e1-be20-067c061f3771\">\n",
              "    <div class=\"colab-df-container\">\n",
              "      <div>\n",
              "<style scoped>\n",
              "    .dataframe tbody tr th:only-of-type {\n",
              "        vertical-align: middle;\n",
              "    }\n",
              "\n",
              "    .dataframe tbody tr th {\n",
              "        vertical-align: top;\n",
              "    }\n",
              "\n",
              "    .dataframe thead th {\n",
              "        text-align: right;\n",
              "    }\n",
              "</style>\n",
              "<table border=\"1\" class=\"dataframe\">\n",
              "  <thead>\n",
              "    <tr style=\"text-align: right;\">\n",
              "      <th></th>\n",
              "      <th>tx_price</th>\n",
              "      <th>beds</th>\n",
              "      <th>baths</th>\n",
              "      <th>sqft</th>\n",
              "      <th>year_built</th>\n",
              "      <th>restaurants</th>\n",
              "      <th>groceries</th>\n",
              "      <th>nightlife</th>\n",
              "      <th>cafes</th>\n",
              "      <th>shopping</th>\n",
              "      <th>...</th>\n",
              "      <th>roof_Asphalt</th>\n",
              "      <th>roof_Built-up</th>\n",
              "      <th>roof_Composition</th>\n",
              "      <th>roof_Gravel/Rock</th>\n",
              "      <th>roof_Metal</th>\n",
              "      <th>roof_Other</th>\n",
              "      <th>roof_Roll Composition</th>\n",
              "      <th>roof_Shingle</th>\n",
              "      <th>roof_Slate</th>\n",
              "      <th>roof_newNAN</th>\n",
              "    </tr>\n",
              "  </thead>\n",
              "  <tbody>\n",
              "    <tr>\n",
              "      <th>0</th>\n",
              "      <td>-0.838646</td>\n",
              "      <td>-2.265912</td>\n",
              "      <td>-1.671305</td>\n",
              "      <td>-1.305814</td>\n",
              "      <td>1.480300</td>\n",
              "      <td>1.425468</td>\n",
              "      <td>1.001140</td>\n",
              "      <td>2.945389</td>\n",
              "      <td>1.814307</td>\n",
              "      <td>0.900467</td>\n",
              "      <td>...</td>\n",
              "      <td>-0.280116</td>\n",
              "      <td>-0.032608</td>\n",
              "      <td>-0.069301</td>\n",
              "      <td>-0.12724</td>\n",
              "      <td>-0.046139</td>\n",
              "      <td>-0.163455</td>\n",
              "      <td>-0.080085</td>\n",
              "      <td>-1.435893</td>\n",
              "      <td>-0.069301</td>\n",
              "      <td>2.078271</td>\n",
              "    </tr>\n",
              "    <tr>\n",
              "      <th>1</th>\n",
              "      <td>-1.362677</td>\n",
              "      <td>-2.265912</td>\n",
              "      <td>-1.671305</td>\n",
              "      <td>-1.284866</td>\n",
              "      <td>-0.885332</td>\n",
              "      <td>1.382783</td>\n",
              "      <td>2.337492</td>\n",
              "      <td>0.109321</td>\n",
              "      <td>1.018267</td>\n",
              "      <td>0.863101</td>\n",
              "      <td>...</td>\n",
              "      <td>-0.280116</td>\n",
              "      <td>-0.032608</td>\n",
              "      <td>-0.069301</td>\n",
              "      <td>-0.12724</td>\n",
              "      <td>-0.046139</td>\n",
              "      <td>-0.163455</td>\n",
              "      <td>-0.080085</td>\n",
              "      <td>0.696431</td>\n",
              "      <td>-0.069301</td>\n",
              "      <td>-0.481169</td>\n",
              "    </tr>\n",
              "    <tr>\n",
              "      <th>2</th>\n",
              "      <td>-0.943981</td>\n",
              "      <td>-2.265912</td>\n",
              "      <td>-1.671305</td>\n",
              "      <td>-1.282621</td>\n",
              "      <td>-0.983901</td>\n",
              "      <td>3.047509</td>\n",
              "      <td>1.892041</td>\n",
              "      <td>3.063559</td>\n",
              "      <td>3.273714</td>\n",
              "      <td>1.124661</td>\n",
              "      <td>...</td>\n",
              "      <td>-0.280116</td>\n",
              "      <td>-0.032608</td>\n",
              "      <td>-0.069301</td>\n",
              "      <td>-0.12724</td>\n",
              "      <td>-0.046139</td>\n",
              "      <td>-0.163455</td>\n",
              "      <td>-0.080085</td>\n",
              "      <td>-1.435893</td>\n",
              "      <td>-0.069301</td>\n",
              "      <td>2.078271</td>\n",
              "    </tr>\n",
              "    <tr>\n",
              "      <th>3</th>\n",
              "      <td>-0.283576</td>\n",
              "      <td>-2.265912</td>\n",
              "      <td>-1.671305</td>\n",
              "      <td>-1.280377</td>\n",
              "      <td>0.839608</td>\n",
              "      <td>3.367648</td>\n",
              "      <td>1.001140</td>\n",
              "      <td>3.890745</td>\n",
              "      <td>2.610347</td>\n",
              "      <td>1.610414</td>\n",
              "      <td>...</td>\n",
              "      <td>-0.280116</td>\n",
              "      <td>-0.032608</td>\n",
              "      <td>-0.069301</td>\n",
              "      <td>-0.12724</td>\n",
              "      <td>-0.046139</td>\n",
              "      <td>-0.163455</td>\n",
              "      <td>-0.080085</td>\n",
              "      <td>-1.435893</td>\n",
              "      <td>-0.069301</td>\n",
              "      <td>2.078271</td>\n",
              "    </tr>\n",
              "    <tr>\n",
              "      <th>4</th>\n",
              "      <td>-0.547078</td>\n",
              "      <td>-2.265912</td>\n",
              "      <td>-1.671305</td>\n",
              "      <td>-1.268407</td>\n",
              "      <td>0.445336</td>\n",
              "      <td>2.321859</td>\n",
              "      <td>0.555689</td>\n",
              "      <td>2.000033</td>\n",
              "      <td>1.946980</td>\n",
              "      <td>0.788370</td>\n",
              "      <td>...</td>\n",
              "      <td>-0.280116</td>\n",
              "      <td>-0.032608</td>\n",
              "      <td>-0.069301</td>\n",
              "      <td>-0.12724</td>\n",
              "      <td>-0.046139</td>\n",
              "      <td>-0.163455</td>\n",
              "      <td>-0.080085</td>\n",
              "      <td>-1.435893</td>\n",
              "      <td>-0.069301</td>\n",
              "      <td>2.078271</td>\n",
              "    </tr>\n",
              "  </tbody>\n",
              "</table>\n",
              "<p>5 rows × 43 columns</p>\n",
              "</div>\n",
              "      <button class=\"colab-df-convert\" onclick=\"convertToInteractive('df-84581b9c-09a2-41e1-be20-067c061f3771')\"\n",
              "              title=\"Convert this dataframe to an interactive table.\"\n",
              "              style=\"display:none;\">\n",
              "        \n",
              "  <svg xmlns=\"http://www.w3.org/2000/svg\" height=\"24px\"viewBox=\"0 0 24 24\"\n",
              "       width=\"24px\">\n",
              "    <path d=\"M0 0h24v24H0V0z\" fill=\"none\"/>\n",
              "    <path d=\"M18.56 5.44l.94 2.06.94-2.06 2.06-.94-2.06-.94-.94-2.06-.94 2.06-2.06.94zm-11 1L8.5 8.5l.94-2.06 2.06-.94-2.06-.94L8.5 2.5l-.94 2.06-2.06.94zm10 10l.94 2.06.94-2.06 2.06-.94-2.06-.94-.94-2.06-.94 2.06-2.06.94z\"/><path d=\"M17.41 7.96l-1.37-1.37c-.4-.4-.92-.59-1.43-.59-.52 0-1.04.2-1.43.59L10.3 9.45l-7.72 7.72c-.78.78-.78 2.05 0 2.83L4 21.41c.39.39.9.59 1.41.59.51 0 1.02-.2 1.41-.59l7.78-7.78 2.81-2.81c.8-.78.8-2.07 0-2.86zM5.41 20L4 18.59l7.72-7.72 1.47 1.35L5.41 20z\"/>\n",
              "  </svg>\n",
              "      </button>\n",
              "      \n",
              "  <style>\n",
              "    .colab-df-container {\n",
              "      display:flex;\n",
              "      flex-wrap:wrap;\n",
              "      gap: 12px;\n",
              "    }\n",
              "\n",
              "    .colab-df-convert {\n",
              "      background-color: #E8F0FE;\n",
              "      border: none;\n",
              "      border-radius: 50%;\n",
              "      cursor: pointer;\n",
              "      display: none;\n",
              "      fill: #1967D2;\n",
              "      height: 32px;\n",
              "      padding: 0 0 0 0;\n",
              "      width: 32px;\n",
              "    }\n",
              "\n",
              "    .colab-df-convert:hover {\n",
              "      background-color: #E2EBFA;\n",
              "      box-shadow: 0px 1px 2px rgba(60, 64, 67, 0.3), 0px 1px 3px 1px rgba(60, 64, 67, 0.15);\n",
              "      fill: #174EA6;\n",
              "    }\n",
              "\n",
              "    [theme=dark] .colab-df-convert {\n",
              "      background-color: #3B4455;\n",
              "      fill: #D2E3FC;\n",
              "    }\n",
              "\n",
              "    [theme=dark] .colab-df-convert:hover {\n",
              "      background-color: #434B5C;\n",
              "      box-shadow: 0px 1px 3px 1px rgba(0, 0, 0, 0.15);\n",
              "      filter: drop-shadow(0px 1px 2px rgba(0, 0, 0, 0.3));\n",
              "      fill: #FFFFFF;\n",
              "    }\n",
              "  </style>\n",
              "\n",
              "      <script>\n",
              "        const buttonEl =\n",
              "          document.querySelector('#df-84581b9c-09a2-41e1-be20-067c061f3771 button.colab-df-convert');\n",
              "        buttonEl.style.display =\n",
              "          google.colab.kernel.accessAllowed ? 'block' : 'none';\n",
              "\n",
              "        async function convertToInteractive(key) {\n",
              "          const element = document.querySelector('#df-84581b9c-09a2-41e1-be20-067c061f3771');\n",
              "          const dataTable =\n",
              "            await google.colab.kernel.invokeFunction('convertToInteractive',\n",
              "                                                     [key], {});\n",
              "          if (!dataTable) return;\n",
              "\n",
              "          const docLinkHtml = 'Like what you see? Visit the ' +\n",
              "            '<a target=\"_blank\" href=https://colab.research.google.com/notebooks/data_table.ipynb>data table notebook</a>'\n",
              "            + ' to learn more about interactive tables.';\n",
              "          element.innerHTML = '';\n",
              "          dataTable['output_type'] = 'display_data';\n",
              "          await google.colab.output.renderOutput(dataTable, element);\n",
              "          const docLink = document.createElement('div');\n",
              "          docLink.innerHTML = docLinkHtml;\n",
              "          element.appendChild(docLink);\n",
              "        }\n",
              "      </script>\n",
              "    </div>\n",
              "  </div>\n",
              "  "
            ]
          },
          "metadata": {},
          "execution_count": 40
        }
      ]
    },
    {
      "cell_type": "code",
      "source": [
        "y_std = df_std.tx_price\n",
        "X_std = df_std.drop('tx_price', axis=1)"
      ],
      "metadata": {
        "id": "bSFleAoYCaaz"
      },
      "execution_count": null,
      "outputs": []
    },
    {
      "cell_type": "code",
      "source": [
        "Xs_train,  Xs_test, ys_train, ys_test = train_test_split(X_std, y_std, shuffle = True , test_size=0.2, random_state=42)"
      ],
      "metadata": {
        "id": "oxG-eQ4CCdj-"
      },
      "execution_count": null,
      "outputs": []
    },
    {
      "cell_type": "markdown",
      "source": [
        "##Lasso"
      ],
      "metadata": {
        "id": "IHumWbI8CiYk"
      }
    },
    {
      "cell_type": "code",
      "source": [
        "#Crear una función para iterar el parametro alpha\n",
        "def r2_lasso(coef, Xtrain, Xtest, ytrain, ytest):\n",
        "  #Crear el modelo\n",
        "  model = Lasso(alpha = coef)\n",
        "\n",
        "  #Ajustar el modelo al dataset (entrenar)\n",
        "  model.fit(Xtrain, ytrain)\n",
        "\n",
        "  #Testear el modelo\n",
        "  #Hacer predicción con los datos de testeo\n",
        "  pred = model.predict(Xtest)\n",
        "\n",
        "  #Calcular r2 y retornar\n",
        "  r2 = r2_score(ytest, pred)\n",
        "  return(r2)"
      ],
      "metadata": {
        "id": "J-fNO_KJCgOe"
      },
      "execution_count": null,
      "outputs": []
    },
    {
      "cell_type": "code",
      "source": [
        "import warnings\n",
        "warnings.filterwarnings(\"ignore\")"
      ],
      "metadata": {
        "id": "kOy2nNg2ClrK"
      },
      "execution_count": null,
      "outputs": []
    },
    {
      "cell_type": "code",
      "source": [
        "#Iterar sobre el valor del parametro alpha\n",
        "\n",
        "import time\n",
        "start = time.clock()\n",
        "\n",
        "vector_r2_lasso = []\n",
        "alphas = [0.0005, 0.002, 0.005, 0.008, 0.08, 0.05, 0.5]\n",
        "\n",
        "for a in alphas:\n",
        "  myr2 = r2_lasso(a, X_train, X_test, y_train, y_test)\n",
        "  print('Alpha: ', a, '\\t\\t R2 score:', myr2)\n",
        "  vector_r2_lasso.append(myr2)\n",
        "\n",
        "print(time.clock()-start)"
      ],
      "metadata": {
        "colab": {
          "base_uri": "https://localhost:8080/"
        },
        "id": "dWbbr-sgCnlK",
        "outputId": "d75883de-284f-445b-be3d-21c76846f43a"
      },
      "execution_count": null,
      "outputs": [
        {
          "output_type": "stream",
          "name": "stdout",
          "text": [
            "Alpha:  0.0005 \t\t R2 score: 0.45639479586594145\n",
            "Alpha:  0.002 \t\t R2 score: 0.45639478441538117\n",
            "Alpha:  0.005 \t\t R2 score: 0.45639476151300584\n",
            "Alpha:  0.008 \t\t R2 score: 0.4563947386089515\n",
            "Alpha:  0.08 \t\t R2 score: 0.45639418840497836\n",
            "Alpha:  0.05 \t\t R2 score: 0.4563944177748057\n",
            "Alpha:  0.5 \t\t R2 score: 0.4563922366203155\n",
            "1.0973880000000236\n"
          ]
        }
      ]
    },
    {
      "cell_type": "code",
      "source": [
        "best_r2_Lasso = max(vector_r2_lasso)\n",
        "best_r2_Lasso"
      ],
      "metadata": {
        "colab": {
          "base_uri": "https://localhost:8080/"
        },
        "id": "aXouBpUMCpva",
        "outputId": "a034b7b7-15a1-4da8-fd13-9dcf902cfe54"
      },
      "execution_count": null,
      "outputs": [
        {
          "output_type": "execute_result",
          "data": {
            "text/plain": [
              "0.45639479586594145"
            ]
          },
          "metadata": {},
          "execution_count": 46
        }
      ]
    },
    {
      "cell_type": "markdown",
      "source": [
        "##Ridge"
      ],
      "metadata": {
        "id": "g3yjc_LKCsdO"
      }
    },
    {
      "cell_type": "code",
      "source": [
        "#Crear una función para iterar el parametro alpha\n",
        "def r2_ridge(coef, Xtrain, Xtest, ytrain, ytest):\n",
        "  #Crear el modelo\n",
        "  model = Ridge(alpha = coef)\n",
        "\n",
        "  #Ajustar el modelo al dataset (entrenar)\n",
        "  model.fit(Xtrain, ytrain)\n",
        "\n",
        "  #Testear el modelo\n",
        "  #Hacer predicción con los datos de testeo\n",
        "  pred = model.predict(Xtest)\n",
        "\n",
        "  #Calcular r2 y retornar\n",
        "  r2 = r2_score(ytest, pred)\n",
        "  return(r2)"
      ],
      "metadata": {
        "id": "tsPI7WKRCr1q"
      },
      "execution_count": null,
      "outputs": []
    },
    {
      "cell_type": "code",
      "source": [
        "#Iterar sobre el valor del parametro alpha\n",
        "\n",
        "import time\n",
        "start = time.clock()\n",
        "\n",
        "vector_r2_ridge = []\n",
        "alphas = [1, 1.5, 2, 5, 10, 30, 50, 100, 200, 500, 1000, 1500]\n",
        "\n",
        "for a in alphas:\n",
        "  myr2 = r2_ridge(a, X_train, X_test, y_train, y_test)\n",
        "  print('Alpha: ', a, '\\t\\t R2 score:', myr2)\n",
        "  vector_r2_ridge.append(myr2)\n",
        "\n",
        "print(time.clock()-start)"
      ],
      "metadata": {
        "colab": {
          "base_uri": "https://localhost:8080/"
        },
        "id": "1shjtFJjCyGu",
        "outputId": "21f3431a-aea3-43e3-a7b0-bbec7ba03238"
      },
      "execution_count": null,
      "outputs": [
        {
          "output_type": "stream",
          "name": "stdout",
          "text": [
            "Alpha:  1 \t\t R2 score: 0.4568658497770953\n",
            "Alpha:  1.5 \t\t R2 score: 0.4570771959432832\n",
            "Alpha:  2 \t\t R2 score: 0.45727039221688626\n",
            "Alpha:  5 \t\t R2 score: 0.4581349149750382\n",
            "Alpha:  10 \t\t R2 score: 0.45896477447247386\n",
            "Alpha:  30 \t\t R2 score: 0.4601347012231435\n",
            "Alpha:  50 \t\t R2 score: 0.4603571293098536\n",
            "Alpha:  100 \t\t R2 score: 0.46002127116469604\n",
            "Alpha:  200 \t\t R2 score: 0.4587157427959848\n",
            "Alpha:  500 \t\t R2 score: 0.4553589178872902\n",
            "Alpha:  1000 \t\t R2 score: 0.45199639280034454\n",
            "Alpha:  1500 \t\t R2 score: 0.4500551880989001\n",
            "0.26116300000001047\n"
          ]
        }
      ]
    },
    {
      "cell_type": "code",
      "source": [
        "best_r2_Ridge = max(vector_r2_ridge)\n",
        "best_r2_Ridge"
      ],
      "metadata": {
        "colab": {
          "base_uri": "https://localhost:8080/"
        },
        "id": "ASdnGOd4C0R7",
        "outputId": "3c9be259-5c00-47bf-f0c7-ebf9d95e923a"
      },
      "execution_count": null,
      "outputs": [
        {
          "output_type": "execute_result",
          "data": {
            "text/plain": [
              "0.4603571293098536"
            ]
          },
          "metadata": {},
          "execution_count": 49
        }
      ]
    },
    {
      "cell_type": "markdown",
      "source": [
        "#Gradient Boosting"
      ],
      "metadata": {
        "id": "0K43BrI2C2xV"
      }
    },
    {
      "cell_type": "code",
      "source": [
        "gbr = GradientBoostingRegressor(learning_rate=0.1, n_estimators = 100, max_depth = 3, random_state = 42)\n",
        "gbr.fit(Xs_train, ys_train)"
      ],
      "metadata": {
        "colab": {
          "base_uri": "https://localhost:8080/"
        },
        "id": "o27wWi4bC2M3",
        "outputId": "684ca313-cd15-4462-8e69-f71eb8e377f5"
      },
      "execution_count": null,
      "outputs": [
        {
          "output_type": "execute_result",
          "data": {
            "text/plain": [
              "GradientBoostingRegressor(random_state=42)"
            ]
          },
          "metadata": {},
          "execution_count": 50
        }
      ]
    },
    {
      "cell_type": "code",
      "source": [
        "ypred_gbr = gbr.predict(Xs_test)\n",
        "r2_score(ys_test, ypred_gbr)"
      ],
      "metadata": {
        "colab": {
          "base_uri": "https://localhost:8080/"
        },
        "id": "ORuYxbUqC8dD",
        "outputId": "8453bb57-2bc0-438d-991f-60a308b4e02a"
      },
      "execution_count": null,
      "outputs": [
        {
          "output_type": "execute_result",
          "data": {
            "text/plain": [
              "0.801848009816297"
            ]
          },
          "metadata": {},
          "execution_count": 51
        }
      ]
    },
    {
      "cell_type": "code",
      "source": [
        "#Crear una función para iterar sobre los parametros\n",
        "def r2_gbr(lr, est, depth, Xtrain, Xtest, ytrain, ytest):\n",
        "  #Crear el modelo\n",
        "  model =GradientBoostingRegressor(learning_rate=lr, n_estimators=est, max_depth=depth, random_state=42)\n",
        "\n",
        "  #Ajustar el modelo al dataset (entrenar)\n",
        "  model.fit(Xtrain, ytrain)\n",
        "\n",
        "  #Testear el modelo\n",
        "  #Hacer predicción con los datos de testeo\n",
        "  pred = model.predict(Xtest)\n",
        "\n",
        "  #Calcular r2 y retornar\n",
        "  r2 = r2_score(ytest, pred)\n",
        "  return(r2)"
      ],
      "metadata": {
        "id": "VrTfEbuXC-kA"
      },
      "execution_count": null,
      "outputs": []
    },
    {
      "cell_type": "code",
      "source": [
        "import time\n",
        "start = time.clock()\n",
        "\n",
        "vector_r2_gbr = []\n",
        "alphas = [0.0001,0.0005,0.008,0.01,0.1,0.3,0.5,0.8]\n",
        "ests = [50,60,80,100,120,150]\n",
        "depths = [1,3,5,10]\n",
        "\n",
        "for a in alphas:\n",
        "  for est in ests:\n",
        "    for d in depths:\n",
        "      myr2 = r2_gbr(a, est, d, X_train , X_test , y_train, y_test)\n",
        "      print('Alpha: ', a, '\\t\\t Est: ',est,'\\t\\tDepth: ',d, '\\t\\tR2 Score: ',myr2)\n",
        "      vector_r2_gbr.append(myr2)\n",
        "\n",
        "print(time.clock()-start)"
      ],
      "metadata": {
        "colab": {
          "base_uri": "https://localhost:8080/"
        },
        "id": "sPOCAUo7DBP3",
        "outputId": "7a38464c-2bf0-42f9-9b36-3f005b94fda2"
      },
      "execution_count": null,
      "outputs": [
        {
          "output_type": "stream",
          "name": "stdout",
          "text": [
            "Alpha:  0.0001 \t\t Est:  50 \t\tDepth:  1 \t\tR2 Score:  -0.009943698251821953\n",
            "Alpha:  0.0001 \t\t Est:  50 \t\tDepth:  3 \t\tR2 Score:  -0.006605729635344337\n",
            "Alpha:  0.0001 \t\t Est:  50 \t\tDepth:  5 \t\tR2 Score:  -0.005814871560161361\n",
            "Alpha:  0.0001 \t\t Est:  50 \t\tDepth:  10 \t\tR2 Score:  -0.005175454662912804\n",
            "Alpha:  0.0001 \t\t Est:  60 \t\tDepth:  1 \t\tR2 Score:  -0.009209431418478742\n",
            "Alpha:  0.0001 \t\t Est:  60 \t\tDepth:  3 \t\tR2 Score:  -0.005207734042792955\n",
            "Alpha:  0.0001 \t\t Est:  60 \t\tDepth:  5 \t\tR2 Score:  -0.004263037923516233\n",
            "Alpha:  0.0001 \t\t Est:  60 \t\tDepth:  10 \t\tR2 Score:  -0.0035395453593602966\n",
            "Alpha:  0.0001 \t\t Est:  80 \t\tDepth:  1 \t\tR2 Score:  -0.007745128056070971\n",
            "Alpha:  0.0001 \t\t Est:  80 \t\tDepth:  3 \t\tR2 Score:  -0.002420002287539136\n",
            "Alpha:  0.0001 \t\t Est:  80 \t\tDepth:  5 \t\tR2 Score:  -0.001169334555137569\n",
            "Alpha:  0.0001 \t\t Est:  80 \t\tDepth:  10 \t\tR2 Score:  -0.0002933654869254898\n",
            "Alpha:  0.0001 \t\t Est:  100 \t\tDepth:  1 \t\tR2 Score:  -0.0062937652263601596\n",
            "Alpha:  0.0001 \t\t Est:  100 \t\tDepth:  3 \t\tR2 Score:  0.0003567532468442547\n",
            "Alpha:  0.0001 \t\t Est:  100 \t\tDepth:  5 \t\tR2 Score:  0.001912586004823913\n",
            "Alpha:  0.0001 \t\t Est:  100 \t\tDepth:  10 \t\tR2 Score:  0.0029512529779497365\n",
            "Alpha:  0.0001 \t\t Est:  120 \t\tDepth:  1 \t\tR2 Score:  -0.004848369109752282\n",
            "Alpha:  0.0001 \t\t Est:  120 \t\tDepth:  3 \t\tR2 Score:  0.003122576031436619\n",
            "Alpha:  0.0001 \t\t Est:  120 \t\tDepth:  5 \t\tR2 Score:  0.004981110274797307\n",
            "Alpha:  0.0001 \t\t Est:  120 \t\tDepth:  10 \t\tR2 Score:  0.006166489892153848\n",
            "Alpha:  0.0001 \t\t Est:  150 \t\tDepth:  1 \t\tR2 Score:  -0.002689853492610972\n",
            "Alpha:  0.0001 \t\t Est:  150 \t\tDepth:  3 \t\tR2 Score:  0.007250905970669352\n",
            "Alpha:  0.0001 \t\t Est:  150 \t\tDepth:  5 \t\tR2 Score:  0.009561529207258168\n",
            "Alpha:  0.0001 \t\t Est:  150 \t\tDepth:  10 \t\tR2 Score:  0.010977084541963333\n",
            "Alpha:  0.0005 \t\t Est:  50 \t\tDepth:  1 \t\tR2 Score:  0.0044256111334713966\n",
            "Alpha:  0.0005 \t\t Est:  50 \t\tDepth:  3 \t\tR2 Score:  0.020842656586226527\n",
            "Alpha:  0.0005 \t\t Est:  50 \t\tDepth:  5 \t\tR2 Score:  0.024639546000305268\n",
            "Alpha:  0.0005 \t\t Est:  50 \t\tDepth:  10 \t\tR2 Score:  0.02675348410216183\n",
            "Alpha:  0.0005 \t\t Est:  60 \t\tDepth:  1 \t\tR2 Score:  0.007935704672262123\n",
            "Alpha:  0.0005 \t\t Est:  60 \t\tDepth:  3 \t\tR2 Score:  0.027493036288790407\n",
            "Alpha:  0.0005 \t\t Est:  60 \t\tDepth:  5 \t\tR2 Score:  0.03205835449882999\n",
            "Alpha:  0.0005 \t\t Est:  60 \t\tDepth:  10 \t\tR2 Score:  0.03453546358649928\n",
            "Alpha:  0.0005 \t\t Est:  80 \t\tDepth:  1 \t\tR2 Score:  0.014863324499712727\n",
            "Alpha:  0.0005 \t\t Est:  80 \t\tDepth:  3 \t\tR2 Score:  0.04059076342970813\n",
            "Alpha:  0.0005 \t\t Est:  80 \t\tDepth:  5 \t\tR2 Score:  0.046667065265372454\n",
            "Alpha:  0.0005 \t\t Est:  80 \t\tDepth:  10 \t\tR2 Score:  0.049759738012737365\n",
            "Alpha:  0.0005 \t\t Est:  100 \t\tDepth:  1 \t\tR2 Score:  0.02166934588928271\n",
            "Alpha:  0.0005 \t\t Est:  100 \t\tDepth:  3 \t\tR2 Score:  0.053468299521918006\n",
            "Alpha:  0.0005 \t\t Est:  100 \t\tDepth:  5 \t\tR2 Score:  0.06097397207737054\n",
            "Alpha:  0.0005 \t\t Est:  100 \t\tDepth:  10 \t\tR2 Score:  0.06463342764746915\n",
            "Alpha:  0.0005 \t\t Est:  120 \t\tDepth:  1 \t\tR2 Score:  0.028344142390745786\n",
            "Alpha:  0.0005 \t\t Est:  120 \t\tDepth:  3 \t\tR2 Score:  0.06609885867151244\n",
            "Alpha:  0.0005 \t\t Est:  120 \t\tDepth:  5 \t\tR2 Score:  0.07500802658791206\n",
            "Alpha:  0.0005 \t\t Est:  120 \t\tDepth:  10 \t\tR2 Score:  0.07906972168218163\n",
            "Alpha:  0.0005 \t\t Est:  150 \t\tDepth:  1 \t\tR2 Score:  0.03802611246487819\n",
            "Alpha:  0.0005 \t\t Est:  150 \t\tDepth:  3 \t\tR2 Score:  0.08459846018446615\n",
            "Alpha:  0.0005 \t\t Est:  150 \t\tDepth:  5 \t\tR2 Score:  0.09554099116245307\n",
            "Alpha:  0.0005 \t\t Est:  150 \t\tDepth:  10 \t\tR2 Score:  0.10008221643577253\n",
            "Alpha:  0.008 \t\t Est:  50 \t\tDepth:  1 \t\tR2 Score:  0.19675839732372857\n",
            "Alpha:  0.008 \t\t Est:  50 \t\tDepth:  3 \t\tR2 Score:  0.380269981006672\n",
            "Alpha:  0.008 \t\t Est:  50 \t\tDepth:  5 \t\tR2 Score:  0.41973571630624074\n",
            "Alpha:  0.008 \t\t Est:  50 \t\tDepth:  10 \t\tR2 Score:  0.44491565128505783\n",
            "Alpha:  0.008 \t\t Est:  60 \t\tDepth:  1 \t\tR2 Score:  0.2244403620781038\n",
            "Alpha:  0.008 \t\t Est:  60 \t\tDepth:  3 \t\tR2 Score:  0.4292786018277094\n",
            "Alpha:  0.008 \t\t Est:  60 \t\tDepth:  5 \t\tR2 Score:  0.47270397695914945\n",
            "Alpha:  0.008 \t\t Est:  60 \t\tDepth:  10 \t\tR2 Score:  0.5008310081152553\n",
            "Alpha:  0.008 \t\t Est:  80 \t\tDepth:  1 \t\tR2 Score:  0.27136872948594104\n",
            "Alpha:  0.008 \t\t Est:  80 \t\tDepth:  3 \t\tR2 Score:  0.5087412815601318\n",
            "Alpha:  0.008 \t\t Est:  80 \t\tDepth:  5 \t\tR2 Score:  0.5579486362183004\n",
            "Alpha:  0.008 \t\t Est:  80 \t\tDepth:  10 \t\tR2 Score:  0.5861214387500958\n",
            "Alpha:  0.008 \t\t Est:  100 \t\tDepth:  1 \t\tR2 Score:  0.30855186713255356\n",
            "Alpha:  0.008 \t\t Est:  100 \t\tDepth:  3 \t\tR2 Score:  0.5690197089729567\n",
            "Alpha:  0.008 \t\t Est:  100 \t\tDepth:  5 \t\tR2 Score:  0.6209316971027208\n",
            "Alpha:  0.008 \t\t Est:  100 \t\tDepth:  10 \t\tR2 Score:  0.6445301586032277\n",
            "Alpha:  0.008 \t\t Est:  120 \t\tDepth:  1 \t\tR2 Score:  0.3376205500299355\n",
            "Alpha:  0.008 \t\t Est:  120 \t\tDepth:  3 \t\tR2 Score:  0.6142020039194958\n",
            "Alpha:  0.008 \t\t Est:  120 \t\tDepth:  5 \t\tR2 Score:  0.6672475662171564\n",
            "Alpha:  0.008 \t\t Est:  120 \t\tDepth:  10 \t\tR2 Score:  0.6863112170253258\n",
            "Alpha:  0.008 \t\t Est:  150 \t\tDepth:  1 \t\tR2 Score:  0.3758544104086079\n",
            "Alpha:  0.008 \t\t Est:  150 \t\tDepth:  3 \t\tR2 Score:  0.6631259367816196\n",
            "Alpha:  0.008 \t\t Est:  150 \t\tDepth:  5 \t\tR2 Score:  0.7163474320027026\n",
            "Alpha:  0.008 \t\t Est:  150 \t\tDepth:  10 \t\tR2 Score:  0.7286231747776812\n",
            "Alpha:  0.01 \t\t Est:  50 \t\tDepth:  1 \t\tR2 Score:  0.23098395819740858\n",
            "Alpha:  0.01 \t\t Est:  50 \t\tDepth:  3 \t\tR2 Score:  0.4409180755546219\n",
            "Alpha:  0.01 \t\t Est:  50 \t\tDepth:  5 \t\tR2 Score:  0.4853760233734945\n",
            "Alpha:  0.01 \t\t Est:  50 \t\tDepth:  10 \t\tR2 Score:  0.5135613084992088\n",
            "Alpha:  0.01 \t\t Est:  60 \t\tDepth:  1 \t\tR2 Score:  0.26083495929486034\n",
            "Alpha:  0.01 \t\t Est:  60 \t\tDepth:  3 \t\tR2 Score:  0.49107423257205585\n",
            "Alpha:  0.01 \t\t Est:  60 \t\tDepth:  5 \t\tR2 Score:  0.5392655225538472\n",
            "Alpha:  0.01 \t\t Est:  60 \t\tDepth:  10 \t\tR2 Score:  0.5689790278331336\n",
            "Alpha:  0.01 \t\t Est:  80 \t\tDepth:  1 \t\tR2 Score:  0.308688864696785\n",
            "Alpha:  0.01 \t\t Est:  80 \t\tDepth:  3 \t\tR2 Score:  0.5692327261440058\n",
            "Alpha:  0.01 \t\t Est:  80 \t\tDepth:  5 \t\tR2 Score:  0.6218046557868337\n",
            "Alpha:  0.01 \t\t Est:  80 \t\tDepth:  10 \t\tR2 Score:  0.6449470916281956\n",
            "Alpha:  0.01 \t\t Est:  100 \t\tDepth:  1 \t\tR2 Score:  0.3442247797693728\n",
            "Alpha:  0.01 \t\t Est:  100 \t\tDepth:  3 \t\tR2 Score:  0.6238848984313509\n",
            "Alpha:  0.01 \t\t Est:  100 \t\tDepth:  5 \t\tR2 Score:  0.6775065974977972\n",
            "Alpha:  0.01 \t\t Est:  100 \t\tDepth:  10 \t\tR2 Score:  0.6945781039469412\n",
            "Alpha:  0.01 \t\t Est:  120 \t\tDepth:  1 \t\tR2 Score:  0.37626629909770826\n",
            "Alpha:  0.01 \t\t Est:  120 \t\tDepth:  3 \t\tR2 Score:  0.6631450417768927\n",
            "Alpha:  0.01 \t\t Est:  120 \t\tDepth:  5 \t\tR2 Score:  0.7174537075668347\n",
            "Alpha:  0.01 \t\t Est:  120 \t\tDepth:  10 \t\tR2 Score:  0.7283257765212109\n",
            "Alpha:  0.01 \t\t Est:  150 \t\tDepth:  1 \t\tR2 Score:  0.4176264777359493\n",
            "Alpha:  0.01 \t\t Est:  150 \t\tDepth:  3 \t\tR2 Score:  0.7021336745726383\n",
            "Alpha:  0.01 \t\t Est:  150 \t\tDepth:  5 \t\tR2 Score:  0.7556557587148893\n",
            "Alpha:  0.01 \t\t Est:  150 \t\tDepth:  10 \t\tR2 Score:  0.7592513875507889\n",
            "Alpha:  0.1 \t\t Est:  50 \t\tDepth:  1 \t\tR2 Score:  0.6496632103427717\n",
            "Alpha:  0.1 \t\t Est:  50 \t\tDepth:  3 \t\tR2 Score:  0.7941692530116493\n",
            "Alpha:  0.1 \t\t Est:  50 \t\tDepth:  5 \t\tR2 Score:  0.8128562274822795\n",
            "Alpha:  0.1 \t\t Est:  50 \t\tDepth:  10 \t\tR2 Score:  0.8092949376622445\n",
            "Alpha:  0.1 \t\t Est:  60 \t\tDepth:  1 \t\tR2 Score:  0.6710875064551245\n",
            "Alpha:  0.1 \t\t Est:  60 \t\tDepth:  3 \t\tR2 Score:  0.7968535623627516\n",
            "Alpha:  0.1 \t\t Est:  60 \t\tDepth:  5 \t\tR2 Score:  0.8162717606141281\n",
            "Alpha:  0.1 \t\t Est:  60 \t\tDepth:  10 \t\tR2 Score:  0.8091533837238719\n",
            "Alpha:  0.1 \t\t Est:  80 \t\tDepth:  1 \t\tR2 Score:  0.6969362853139811\n",
            "Alpha:  0.1 \t\t Est:  80 \t\tDepth:  3 \t\tR2 Score:  0.8037746326657627\n",
            "Alpha:  0.1 \t\t Est:  80 \t\tDepth:  5 \t\tR2 Score:  0.8159774714438831\n",
            "Alpha:  0.1 \t\t Est:  80 \t\tDepth:  10 \t\tR2 Score:  0.8091536229388172\n",
            "Alpha:  0.1 \t\t Est:  100 \t\tDepth:  1 \t\tR2 Score:  0.7136513397582998\n",
            "Alpha:  0.1 \t\t Est:  100 \t\tDepth:  3 \t\tR2 Score:  0.8017000777955332\n",
            "Alpha:  0.1 \t\t Est:  100 \t\tDepth:  5 \t\tR2 Score:  0.8117016338647609\n",
            "Alpha:  0.1 \t\t Est:  100 \t\tDepth:  10 \t\tR2 Score:  0.8090442238315352\n",
            "Alpha:  0.1 \t\t Est:  120 \t\tDepth:  1 \t\tR2 Score:  0.7276356420793337\n",
            "Alpha:  0.1 \t\t Est:  120 \t\tDepth:  3 \t\tR2 Score:  0.8042797137861513\n",
            "Alpha:  0.1 \t\t Est:  120 \t\tDepth:  5 \t\tR2 Score:  0.8102162609531813\n",
            "Alpha:  0.1 \t\t Est:  120 \t\tDepth:  10 \t\tR2 Score:  0.8090048876695706\n",
            "Alpha:  0.1 \t\t Est:  150 \t\tDepth:  1 \t\tR2 Score:  0.7419781606666167\n",
            "Alpha:  0.1 \t\t Est:  150 \t\tDepth:  3 \t\tR2 Score:  0.8094593442861637\n",
            "Alpha:  0.1 \t\t Est:  150 \t\tDepth:  5 \t\tR2 Score:  0.8062075791460481\n",
            "Alpha:  0.1 \t\t Est:  150 \t\tDepth:  10 \t\tR2 Score:  0.8089785760380163\n",
            "Alpha:  0.3 \t\t Est:  50 \t\tDepth:  1 \t\tR2 Score:  0.75107754709453\n",
            "Alpha:  0.3 \t\t Est:  50 \t\tDepth:  3 \t\tR2 Score:  0.8005529804269488\n",
            "Alpha:  0.3 \t\t Est:  50 \t\tDepth:  5 \t\tR2 Score:  0.7899243624380452\n",
            "Alpha:  0.3 \t\t Est:  50 \t\tDepth:  10 \t\tR2 Score:  0.779439136421153\n",
            "Alpha:  0.3 \t\t Est:  60 \t\tDepth:  1 \t\tR2 Score:  0.7553713408611284\n",
            "Alpha:  0.3 \t\t Est:  60 \t\tDepth:  3 \t\tR2 Score:  0.7927842845138284\n",
            "Alpha:  0.3 \t\t Est:  60 \t\tDepth:  5 \t\tR2 Score:  0.7889338769097652\n",
            "Alpha:  0.3 \t\t Est:  60 \t\tDepth:  10 \t\tR2 Score:  0.7794133415357665\n",
            "Alpha:  0.3 \t\t Est:  80 \t\tDepth:  1 \t\tR2 Score:  0.7627810579738751\n",
            "Alpha:  0.3 \t\t Est:  80 \t\tDepth:  3 \t\tR2 Score:  0.7905130719440887\n",
            "Alpha:  0.3 \t\t Est:  80 \t\tDepth:  5 \t\tR2 Score:  0.7851073026216161\n",
            "Alpha:  0.3 \t\t Est:  80 \t\tDepth:  10 \t\tR2 Score:  0.7794276119372343\n",
            "Alpha:  0.3 \t\t Est:  100 \t\tDepth:  1 \t\tR2 Score:  0.7675746452745662\n",
            "Alpha:  0.3 \t\t Est:  100 \t\tDepth:  3 \t\tR2 Score:  0.7835306741927257\n",
            "Alpha:  0.3 \t\t Est:  100 \t\tDepth:  5 \t\tR2 Score:  0.7808498135367924\n",
            "Alpha:  0.3 \t\t Est:  100 \t\tDepth:  10 \t\tR2 Score:  0.7794296815920541\n",
            "Alpha:  0.3 \t\t Est:  120 \t\tDepth:  1 \t\tR2 Score:  0.7682928271567415\n",
            "Alpha:  0.3 \t\t Est:  120 \t\tDepth:  3 \t\tR2 Score:  0.7771283471982026\n",
            "Alpha:  0.3 \t\t Est:  120 \t\tDepth:  5 \t\tR2 Score:  0.7803228139068606\n",
            "Alpha:  0.3 \t\t Est:  120 \t\tDepth:  10 \t\tR2 Score:  0.7794296567075313\n",
            "Alpha:  0.3 \t\t Est:  150 \t\tDepth:  1 \t\tR2 Score:  0.7695296835940905\n",
            "Alpha:  0.3 \t\t Est:  150 \t\tDepth:  3 \t\tR2 Score:  0.7765978416794124\n",
            "Alpha:  0.3 \t\t Est:  150 \t\tDepth:  5 \t\tR2 Score:  0.7778690420127137\n",
            "Alpha:  0.3 \t\t Est:  150 \t\tDepth:  10 \t\tR2 Score:  0.7794293635684277\n",
            "Alpha:  0.5 \t\t Est:  50 \t\tDepth:  1 \t\tR2 Score:  0.767745920054127\n",
            "Alpha:  0.5 \t\t Est:  50 \t\tDepth:  3 \t\tR2 Score:  0.7911970500804584\n",
            "Alpha:  0.5 \t\t Est:  50 \t\tDepth:  5 \t\tR2 Score:  0.7619585215374055\n",
            "Alpha:  0.5 \t\t Est:  50 \t\tDepth:  10 \t\tR2 Score:  0.7548725281232347\n",
            "Alpha:  0.5 \t\t Est:  60 \t\tDepth:  1 \t\tR2 Score:  0.7690427820310111\n",
            "Alpha:  0.5 \t\t Est:  60 \t\tDepth:  3 \t\tR2 Score:  0.7826613878511071\n",
            "Alpha:  0.5 \t\t Est:  60 \t\tDepth:  5 \t\tR2 Score:  0.7568108110243912\n",
            "Alpha:  0.5 \t\t Est:  60 \t\tDepth:  10 \t\tR2 Score:  0.7548698566898477\n",
            "Alpha:  0.5 \t\t Est:  80 \t\tDepth:  1 \t\tR2 Score:  0.7666817900742533\n",
            "Alpha:  0.5 \t\t Est:  80 \t\tDepth:  3 \t\tR2 Score:  0.7653953239194811\n",
            "Alpha:  0.5 \t\t Est:  80 \t\tDepth:  5 \t\tR2 Score:  0.7550694155557492\n",
            "Alpha:  0.5 \t\t Est:  80 \t\tDepth:  10 \t\tR2 Score:  0.7548691179378957\n",
            "Alpha:  0.5 \t\t Est:  100 \t\tDepth:  1 \t\tR2 Score:  0.7699970614013083\n",
            "Alpha:  0.5 \t\t Est:  100 \t\tDepth:  3 \t\tR2 Score:  0.7585157558059128\n",
            "Alpha:  0.5 \t\t Est:  100 \t\tDepth:  5 \t\tR2 Score:  0.7536825251725453\n",
            "Alpha:  0.5 \t\t Est:  100 \t\tDepth:  10 \t\tR2 Score:  0.7548691484576463\n",
            "Alpha:  0.5 \t\t Est:  120 \t\tDepth:  1 \t\tR2 Score:  0.7669883384331964\n",
            "Alpha:  0.5 \t\t Est:  120 \t\tDepth:  3 \t\tR2 Score:  0.7549866813074084\n",
            "Alpha:  0.5 \t\t Est:  120 \t\tDepth:  5 \t\tR2 Score:  0.7536365240613475\n",
            "Alpha:  0.5 \t\t Est:  120 \t\tDepth:  10 \t\tR2 Score:  0.7548691504677599\n",
            "Alpha:  0.5 \t\t Est:  150 \t\tDepth:  1 \t\tR2 Score:  0.7665034593050859\n",
            "Alpha:  0.5 \t\t Est:  150 \t\tDepth:  3 \t\tR2 Score:  0.7535853478890975\n",
            "Alpha:  0.5 \t\t Est:  150 \t\tDepth:  5 \t\tR2 Score:  0.753873169789945\n",
            "Alpha:  0.5 \t\t Est:  150 \t\tDepth:  10 \t\tR2 Score:  0.7548691509043983\n",
            "Alpha:  0.8 \t\t Est:  50 \t\tDepth:  1 \t\tR2 Score:  0.7722728038585072\n",
            "Alpha:  0.8 \t\t Est:  50 \t\tDepth:  3 \t\tR2 Score:  0.7084500783365357\n",
            "Alpha:  0.8 \t\t Est:  50 \t\tDepth:  5 \t\tR2 Score:  0.7171349530982611\n",
            "Alpha:  0.8 \t\t Est:  50 \t\tDepth:  10 \t\tR2 Score:  0.6954769061477911\n",
            "Alpha:  0.8 \t\t Est:  60 \t\tDepth:  1 \t\tR2 Score:  0.7689857247849864\n",
            "Alpha:  0.8 \t\t Est:  60 \t\tDepth:  3 \t\tR2 Score:  0.6950019488662491\n",
            "Alpha:  0.8 \t\t Est:  60 \t\tDepth:  5 \t\tR2 Score:  0.7142027459745737\n",
            "Alpha:  0.8 \t\t Est:  60 \t\tDepth:  10 \t\tR2 Score:  0.6954768924798838\n",
            "Alpha:  0.8 \t\t Est:  80 \t\tDepth:  1 \t\tR2 Score:  0.7712801719119171\n",
            "Alpha:  0.8 \t\t Est:  80 \t\tDepth:  3 \t\tR2 Score:  0.6877587442829877\n",
            "Alpha:  0.8 \t\t Est:  80 \t\tDepth:  5 \t\tR2 Score:  0.7134337676705351\n",
            "Alpha:  0.8 \t\t Est:  80 \t\tDepth:  10 \t\tR2 Score:  0.6954768912955496\n",
            "Alpha:  0.8 \t\t Est:  100 \t\tDepth:  1 \t\tR2 Score:  0.7665601428552493\n",
            "Alpha:  0.8 \t\t Est:  100 \t\tDepth:  3 \t\tR2 Score:  0.6902780202010035\n",
            "Alpha:  0.8 \t\t Est:  100 \t\tDepth:  5 \t\tR2 Score:  0.7123477700782284\n",
            "Alpha:  0.8 \t\t Est:  100 \t\tDepth:  10 \t\tR2 Score:  0.6954768912929221\n",
            "Alpha:  0.8 \t\t Est:  120 \t\tDepth:  1 \t\tR2 Score:  0.7714694018553461\n",
            "Alpha:  0.8 \t\t Est:  120 \t\tDepth:  3 \t\tR2 Score:  0.6851940896725941\n",
            "Alpha:  0.8 \t\t Est:  120 \t\tDepth:  5 \t\tR2 Score:  0.7118773683386534\n",
            "Alpha:  0.8 \t\t Est:  120 \t\tDepth:  10 \t\tR2 Score:  0.6954768912927389\n",
            "Alpha:  0.8 \t\t Est:  150 \t\tDepth:  1 \t\tR2 Score:  0.7664622233596874\n",
            "Alpha:  0.8 \t\t Est:  150 \t\tDepth:  3 \t\tR2 Score:  0.6769742124575928\n",
            "Alpha:  0.8 \t\t Est:  150 \t\tDepth:  5 \t\tR2 Score:  0.7118179559821174\n",
            "Alpha:  0.8 \t\t Est:  150 \t\tDepth:  10 \t\tR2 Score:  0.6954768912927389\n",
            "143.54373399999997\n"
          ]
        }
      ]
    },
    {
      "cell_type": "code",
      "source": [
        "best_r2_gbr = max(vector_r2_gbr)\n",
        "best_r2_gbr"
      ],
      "metadata": {
        "colab": {
          "base_uri": "https://localhost:8080/"
        },
        "id": "oP6Jp1dDD5Sh",
        "outputId": "dec9ff15-5a69-41c1-c0b8-6877dbdfb826"
      },
      "execution_count": null,
      "outputs": [
        {
          "output_type": "execute_result",
          "data": {
            "text/plain": [
              "0.8162717606141281"
            ]
          },
          "metadata": {},
          "execution_count": 56
        }
      ]
    },
    {
      "cell_type": "markdown",
      "source": [
        "##XGBRF Regressor"
      ],
      "metadata": {
        "id": "2Fp5rI0QE-sY"
      }
    },
    {
      "cell_type": "code",
      "source": [
        "xgbrf = XGBRFRegressor(learning_rate=0.1, n_estimators=100, max_depth = 3, random_state=42)\n",
        "xgbrf.fit(Xs_train, ys_train)"
      ],
      "metadata": {
        "colab": {
          "base_uri": "https://localhost:8080/"
        },
        "id": "PrVHSfT1EwrG",
        "outputId": "08d87636-9c39-41c0-9cde-472db5010ed8"
      },
      "execution_count": null,
      "outputs": [
        {
          "output_type": "stream",
          "name": "stdout",
          "text": [
            "[11:44:51] WARNING: /workspace/src/objective/regression_obj.cu:152: reg:linear is now deprecated in favor of reg:squarederror.\n"
          ]
        },
        {
          "output_type": "execute_result",
          "data": {
            "text/plain": [
              "XGBRFRegressor(learning_rate=0.1, random_state=42)"
            ]
          },
          "metadata": {},
          "execution_count": 57
        }
      ]
    },
    {
      "cell_type": "code",
      "source": [
        "ypred_xgbr = xgbrf.predict(Xs_test)\n",
        "r2_score(ys_test, ypred_xgbr)\n",
        "#La predicción es muy mala pues es muy lejana a 1, por eso se realiza una iteración con los parámetros para saber qué parámetros son los más indicados"
      ],
      "metadata": {
        "colab": {
          "base_uri": "https://localhost:8080/"
        },
        "id": "kqPLx1B_HNSg",
        "outputId": "d6bc0b9a-e5f8-4d98-deeb-5eee8447af0a"
      },
      "execution_count": null,
      "outputs": [
        {
          "output_type": "execute_result",
          "data": {
            "text/plain": [
              "0.006958025035993409"
            ]
          },
          "metadata": {},
          "execution_count": 59
        }
      ]
    },
    {
      "cell_type": "code",
      "source": [
        "#Crear una función para iterar sobre los parametros\n",
        "def r2_xgbr(lr, est, depth, Xtrain, Xtest, ytrain, ytest):\n",
        "  #Crear el modelo\n",
        "  model = XGBRFRegressor(learning_rate=lr, n_estimators=est, max_depth=depth,objective='reg:squarederror', random_state=42)#El objective se usa para evitar los warnings en la línea de código de abajo\n",
        "\n",
        "  #Ajustar el modelo al dataset (entrenar)\n",
        "  model.fit(Xtrain, ytrain)\n",
        "\n",
        "  #Testear el modelo\n",
        "  #Hacer predicción con los datos de testeo\n",
        "  pred = model.predict(Xtest)\n",
        "\n",
        "  #Calcular r2 y retornar\n",
        "  r2 = r2_score(ytest, pred)\n",
        "  return(r2)"
      ],
      "metadata": {
        "id": "e9cOl9kEHjVk"
      },
      "execution_count": null,
      "outputs": []
    },
    {
      "cell_type": "code",
      "source": [
        "#Iterar sobre el valor del parámetro alpha, estimadores y depths\n",
        "start = time.clock()\n",
        "\n",
        "vector_r2_xgbr = []\n",
        "alphas = [0.008,0.01,0.1,0.3,0.5,0.8] ##Nótese que se eliminaron los valores más pequeños, pues en análisis anteriores se identificó que dan valores alejados\n",
        "##Por lo tanto no vale la pena usarlos\n",
        "ests = [50,60,80,100,120,150]\n",
        "depths = [3,5,10] ##Igualmente se elimina la profundidad 1, para ahorrar tiempo\n",
        "\n",
        "for a in alphas:\n",
        "  for est in ests:\n",
        "    for d in depths:\n",
        "      myr2 = r2_xgbr(a, est, d, X_train , X_test , y_train, y_test)\n",
        "      print('Alpha: ', a, '\\t\\t Est: ',est,'\\t\\tDepth: ',d, '\\t\\tR2 Score: ',myr2)\n",
        "      vector_r2_xgbr.append(myr2)\n",
        "\n",
        "print(time.clock()-start)"
      ],
      "metadata": {
        "colab": {
          "base_uri": "https://localhost:8080/"
        },
        "id": "vey1CO1tICdq",
        "outputId": "26abd87e-53d8-4fee-e0c7-cbd5687c1538"
      },
      "execution_count": null,
      "outputs": [
        {
          "output_type": "stream",
          "name": "stdout",
          "text": [
            "Alpha:  0.008 \t\t Est:  50 \t\tDepth:  3 \t\tR2 Score:  -7.75915195893614\n",
            "Alpha:  0.008 \t\t Est:  50 \t\tDepth:  5 \t\tR2 Score:  -7.758693210400237\n",
            "Alpha:  0.008 \t\t Est:  50 \t\tDepth:  10 \t\tR2 Score:  -7.758720663459307\n",
            "Alpha:  0.008 \t\t Est:  60 \t\tDepth:  3 \t\tR2 Score:  -7.7591611345035005\n",
            "Alpha:  0.008 \t\t Est:  60 \t\tDepth:  5 \t\tR2 Score:  -7.7587188724971305\n",
            "Alpha:  0.008 \t\t Est:  60 \t\tDepth:  10 \t\tR2 Score:  -7.758738516707394\n",
            "Alpha:  0.008 \t\t Est:  80 \t\tDepth:  3 \t\tR2 Score:  -7.7591745846854305\n",
            "Alpha:  0.008 \t\t Est:  80 \t\tDepth:  5 \t\tR2 Score:  -7.758709536548368\n",
            "Alpha:  0.008 \t\t Est:  80 \t\tDepth:  10 \t\tR2 Score:  -7.7587288867280755\n",
            "Alpha:  0.008 \t\t Est:  100 \t\tDepth:  3 \t\tR2 Score:  -7.759103718243974\n",
            "Alpha:  0.008 \t\t Est:  100 \t\tDepth:  5 \t\tR2 Score:  -7.758619157002121\n",
            "Alpha:  0.008 \t\t Est:  100 \t\tDepth:  10 \t\tR2 Score:  -7.758644993162404\n",
            "Alpha:  0.008 \t\t Est:  120 \t\tDepth:  3 \t\tR2 Score:  -7.759169678013221\n",
            "Alpha:  0.008 \t\t Est:  120 \t\tDepth:  5 \t\tR2 Score:  -7.758647460948529\n",
            "Alpha:  0.008 \t\t Est:  120 \t\tDepth:  10 \t\tR2 Score:  -7.758691436429006\n",
            "Alpha:  0.008 \t\t Est:  150 \t\tDepth:  3 \t\tR2 Score:  -7.759230520681369\n",
            "Alpha:  0.008 \t\t Est:  150 \t\tDepth:  5 \t\tR2 Score:  -7.758687429404388\n",
            "Alpha:  0.008 \t\t Est:  150 \t\tDepth:  10 \t\tR2 Score:  -7.758733087231651\n",
            "Alpha:  0.01 \t\t Est:  50 \t\tDepth:  3 \t\tR2 Score:  -7.726074534796851\n",
            "Alpha:  0.01 \t\t Est:  50 \t\tDepth:  5 \t\tR2 Score:  -7.725501489106081\n",
            "Alpha:  0.01 \t\t Est:  50 \t\tDepth:  10 \t\tR2 Score:  -7.725535730396061\n",
            "Alpha:  0.01 \t\t Est:  60 \t\tDepth:  3 \t\tR2 Score:  -7.726085985766279\n",
            "Alpha:  0.01 \t\t Est:  60 \t\tDepth:  5 \t\tR2 Score:  -7.725533502588531\n",
            "Alpha:  0.01 \t\t Est:  60 \t\tDepth:  10 \t\tR2 Score:  -7.725558004255978\n",
            "Alpha:  0.01 \t\t Est:  80 \t\tDepth:  3 \t\tR2 Score:  -7.726102749891563\n",
            "Alpha:  0.01 \t\t Est:  80 \t\tDepth:  5 \t\tR2 Score:  -7.725521861406612\n",
            "Alpha:  0.01 \t\t Est:  80 \t\tDepth:  10 \t\tR2 Score:  -7.725545994618296\n",
            "Alpha:  0.01 \t\t Est:  100 \t\tDepth:  3 \t\tR2 Score:  -7.726014296129151\n",
            "Alpha:  0.01 \t\t Est:  100 \t\tDepth:  5 \t\tR2 Score:  -7.725409099047697\n",
            "Alpha:  0.01 \t\t Est:  100 \t\tDepth:  10 \t\tR2 Score:  -7.725441317228697\n",
            "Alpha:  0.01 \t\t Est:  120 \t\tDepth:  3 \t\tR2 Score:  -7.726096621432996\n",
            "Alpha:  0.01 \t\t Est:  120 \t\tDepth:  5 \t\tR2 Score:  -7.72544443535579\n",
            "Alpha:  0.01 \t\t Est:  120 \t\tDepth:  10 \t\tR2 Score:  -7.725499290913957\n",
            "Alpha:  0.01 \t\t Est:  150 \t\tDepth:  3 \t\tR2 Score:  -7.726172508958063\n",
            "Alpha:  0.01 \t\t Est:  150 \t\tDepth:  5 \t\tR2 Score:  -7.725494256541822\n",
            "Alpha:  0.01 \t\t Est:  150 \t\tDepth:  10 \t\tR2 Score:  -7.7255512008141345\n",
            "Alpha:  0.1 \t\t Est:  50 \t\tDepth:  3 \t\tR2 Score:  -6.304399621373479\n",
            "Alpha:  0.1 \t\t Est:  50 \t\tDepth:  5 \t\tR2 Score:  -6.298844532619789\n",
            "Alpha:  0.1 \t\t Est:  50 \t\tDepth:  10 \t\tR2 Score:  -6.299156674020174\n",
            "Alpha:  0.1 \t\t Est:  60 \t\tDepth:  3 \t\tR2 Score:  -6.304497105485703\n",
            "Alpha:  0.1 \t\t Est:  60 \t\tDepth:  5 \t\tR2 Score:  -6.299140753446298\n",
            "Alpha:  0.1 \t\t Est:  60 \t\tDepth:  10 \t\tR2 Score:  -6.299362646671947\n",
            "Alpha:  0.1 \t\t Est:  80 \t\tDepth:  3 \t\tR2 Score:  -6.304649522804327\n",
            "Alpha:  0.1 \t\t Est:  80 \t\tDepth:  5 \t\tR2 Score:  -6.299030130848378\n",
            "Alpha:  0.1 \t\t Est:  80 \t\tDepth:  10 \t\tR2 Score:  -6.299247230346871\n",
            "Alpha:  0.1 \t\t Est:  100 \t\tDepth:  3 \t\tR2 Score:  -6.303833807150593\n",
            "Alpha:  0.1 \t\t Est:  100 \t\tDepth:  5 \t\tR2 Score:  -6.297996530885537\n",
            "Alpha:  0.1 \t\t Est:  100 \t\tDepth:  10 \t\tR2 Score:  -6.298287056473019\n",
            "Alpha:  0.1 \t\t Est:  120 \t\tDepth:  3 \t\tR2 Score:  -6.304585011187082\n",
            "Alpha:  0.1 \t\t Est:  120 \t\tDepth:  5 \t\tR2 Score:  -6.298321232279791\n",
            "Alpha:  0.1 \t\t Est:  120 \t\tDepth:  10 \t\tR2 Score:  -6.298819065029254\n",
            "Alpha:  0.1 \t\t Est:  150 \t\tDepth:  3 \t\tR2 Score:  -6.305282430202315\n",
            "Alpha:  0.1 \t\t Est:  150 \t\tDepth:  5 \t\tR2 Score:  -6.2987716370234095\n",
            "Alpha:  0.1 \t\t Est:  150 \t\tDepth:  10 \t\tR2 Score:  -6.299285411942596\n",
            "Alpha:  0.3 \t\t Est:  50 \t\tDepth:  3 \t\tR2 Score:  -3.6131169607039144\n",
            "Alpha:  0.3 \t\t Est:  50 \t\tDepth:  5 \t\tR2 Score:  -3.597620557778285\n",
            "Alpha:  0.3 \t\t Est:  50 \t\tDepth:  10 \t\tR2 Score:  -3.598354564853026\n",
            "Alpha:  0.3 \t\t Est:  60 \t\tDepth:  3 \t\tR2 Score:  -3.613297815990343\n",
            "Alpha:  0.3 \t\t Est:  60 \t\tDepth:  5 \t\tR2 Score:  -3.5983488908238863\n",
            "Alpha:  0.3 \t\t Est:  60 \t\tDepth:  10 \t\tR2 Score:  -3.5988605917147467\n",
            "Alpha:  0.3 \t\t Est:  80 \t\tDepth:  3 \t\tR2 Score:  -3.6136505486730943\n",
            "Alpha:  0.3 \t\t Est:  80 \t\tDepth:  5 \t\tR2 Score:  -3.598056054184288\n",
            "Alpha:  0.3 \t\t Est:  80 \t\tDepth:  10 \t\tR2 Score:  -3.5985456324285403\n",
            "Alpha:  0.3 \t\t Est:  100 \t\tDepth:  3 \t\tR2 Score:  -3.611661013238632\n",
            "Alpha:  0.3 \t\t Est:  100 \t\tDepth:  5 \t\tR2 Score:  -3.595583451579066\n",
            "Alpha:  0.3 \t\t Est:  100 \t\tDepth:  10 \t\tR2 Score:  -3.596243154525178\n",
            "Alpha:  0.3 \t\t Est:  120 \t\tDepth:  3 \t\tR2 Score:  -3.6134385837763565\n",
            "Alpha:  0.3 \t\t Est:  120 \t\tDepth:  5 \t\tR2 Score:  -3.596367328217287\n",
            "Alpha:  0.3 \t\t Est:  120 \t\tDepth:  10 \t\tR2 Score:  -3.5975228155730523\n",
            "Alpha:  0.3 \t\t Est:  150 \t\tDepth:  3 \t\tR2 Score:  -3.6151153338999062\n",
            "Alpha:  0.3 \t\t Est:  150 \t\tDepth:  5 \t\tR2 Score:  -3.5973946741850797\n",
            "Alpha:  0.3 \t\t Est:  150 \t\tDepth:  10 \t\tR2 Score:  -3.598564528361819\n",
            "Alpha:  0.5 \t\t Est:  50 \t\tDepth:  3 \t\tR2 Score:  -1.5673438183062092\n",
            "Alpha:  0.5 \t\t Est:  50 \t\tDepth:  5 \t\tR2 Score:  -1.5434646093766342\n",
            "Alpha:  0.5 \t\t Est:  50 \t\tDepth:  10 \t\tR2 Score:  -1.5443505879149044\n",
            "Alpha:  0.5 \t\t Est:  60 \t\tDepth:  3 \t\tR2 Score:  -1.5674598490382032\n",
            "Alpha:  0.5 \t\t Est:  60 \t\tDepth:  5 \t\tR2 Score:  -1.5444128856863064\n",
            "Alpha:  0.5 \t\t Est:  60 \t\tDepth:  10 \t\tR2 Score:  -1.545008879535616\n",
            "Alpha:  0.5 \t\t Est:  80 \t\tDepth:  3 \t\tR2 Score:  -1.5678736197696463\n",
            "Alpha:  0.5 \t\t Est:  80 \t\tDepth:  5 \t\tR2 Score:  -1.5439888459807647\n",
            "Alpha:  0.5 \t\t Est:  80 \t\tDepth:  10 \t\tR2 Score:  -1.5445351845979274\n",
            "Alpha:  0.5 \t\t Est:  100 \t\tDepth:  3 \t\tR2 Score:  -1.565320101708061\n",
            "Alpha:  0.5 \t\t Est:  100 \t\tDepth:  5 \t\tR2 Score:  -1.5409149028102997\n",
            "Alpha:  0.5 \t\t Est:  100 \t\tDepth:  10 \t\tR2 Score:  -1.5416615568704994\n",
            "Alpha:  0.5 \t\t Est:  120 \t\tDepth:  3 \t\tR2 Score:  -1.5674893489973858\n",
            "Alpha:  0.5 \t\t Est:  120 \t\tDepth:  5 \t\tR2 Score:  -1.5419039265344887\n",
            "Alpha:  0.5 \t\t Est:  120 \t\tDepth:  10 \t\tR2 Score:  -1.5432660185882905\n",
            "Alpha:  0.5 \t\t Est:  150 \t\tDepth:  3 \t\tR2 Score:  -1.569592205360721\n",
            "Alpha:  0.5 \t\t Est:  150 \t\tDepth:  5 \t\tR2 Score:  -1.5430777107492446\n",
            "Alpha:  0.5 \t\t Est:  150 \t\tDepth:  10 \t\tR2 Score:  -1.5444087287649482\n",
            "Alpha:  0.8 \t\t Est:  50 \t\tDepth:  3 \t\tR2 Score:  0.290985502944238\n",
            "Alpha:  0.8 \t\t Est:  50 \t\tDepth:  5 \t\tR2 Score:  0.3245162617053404\n",
            "Alpha:  0.8 \t\t Est:  50 \t\tDepth:  10 \t\tR2 Score:  0.3239080703893733\n",
            "Alpha:  0.8 \t\t Est:  60 \t\tDepth:  3 \t\tR2 Score:  0.29124692665958474\n",
            "Alpha:  0.8 \t\t Est:  60 \t\tDepth:  5 \t\tR2 Score:  0.32363847529425505\n",
            "Alpha:  0.8 \t\t Est:  60 \t\tDepth:  10 \t\tR2 Score:  0.3233011725710334\n",
            "Alpha:  0.8 \t\t Est:  80 \t\tDepth:  3 \t\tR2 Score:  0.2910004395478042\n",
            "Alpha:  0.8 \t\t Est:  80 \t\tDepth:  5 \t\tR2 Score:  0.3241609764818024\n",
            "Alpha:  0.8 \t\t Est:  80 \t\tDepth:  10 \t\tR2 Score:  0.32393337509669706\n",
            "Alpha:  0.8 \t\t Est:  100 \t\tDepth:  3 \t\tR2 Score:  0.2932566092090132\n",
            "Alpha:  0.8 \t\t Est:  100 \t\tDepth:  5 \t\tR2 Score:  0.32656919431126397\n",
            "Alpha:  0.8 \t\t Est:  100 \t\tDepth:  10 \t\tR2 Score:  0.32622133734474557\n",
            "Alpha:  0.8 \t\t Est:  120 \t\tDepth:  3 \t\tR2 Score:  0.2916930612871804\n",
            "Alpha:  0.8 \t\t Est:  120 \t\tDepth:  5 \t\tR2 Score:  0.32574757498230245\n",
            "Alpha:  0.8 \t\t Est:  120 \t\tDepth:  10 \t\tR2 Score:  0.3249209346075558\n",
            "Alpha:  0.8 \t\t Est:  150 \t\tDepth:  3 \t\tR2 Score:  0.28998227581807245\n",
            "Alpha:  0.8 \t\t Est:  150 \t\tDepth:  5 \t\tR2 Score:  0.32515836618873084\n",
            "Alpha:  0.8 \t\t Est:  150 \t\tDepth:  10 \t\tR2 Score:  0.3245140310014535\n",
            "26.590913999999998\n"
          ]
        }
      ]
    },
    {
      "cell_type": "code",
      "source": [
        "best_r2_xgbr = max(vector_r2_xgbr)\n",
        "best_r2_xgbr"
      ],
      "metadata": {
        "colab": {
          "base_uri": "https://localhost:8080/"
        },
        "id": "gbebw3awJ1BH",
        "outputId": "6371cde9-1e15-47a9-966b-1cc515a3da88"
      },
      "execution_count": null,
      "outputs": [
        {
          "output_type": "execute_result",
          "data": {
            "text/plain": [
              "0.32656919431126397"
            ]
          },
          "metadata": {},
          "execution_count": 65
        }
      ]
    },
    {
      "cell_type": "code",
      "source": [
        "# Saber cuál es el mejor de los valores con todos los modelos que trabajamos\n",
        "models = {'Random Forest':best_r2_RF, 'Lasso':best_r2_Lasso, 'Ridge':best_r2_Ridge, 'Gradient Boosting':best_r2_gbr, 'XGRBF':best_r2_xgbr}\n",
        "models"
      ],
      "metadata": {
        "colab": {
          "base_uri": "https://localhost:8080/"
        },
        "id": "D0C1l397KWDA",
        "outputId": "26c47b3e-2207-47c3-af4d-af624eea8e0f"
      },
      "execution_count": null,
      "outputs": [
        {
          "output_type": "execute_result",
          "data": {
            "text/plain": [
              "{'Random Forest': 0.816847094521912,\n",
              " 'Lasso': 0.45639479586594145,\n",
              " 'Ridge': 0.4603571293098536,\n",
              " 'Gradient Boosting': 0.8162717606141281,\n",
              " 'XGRBF': 0.32656919431126397}"
            ]
          },
          "metadata": {},
          "execution_count": 66
        }
      ]
    },
    {
      "cell_type": "code",
      "source": [
        ""
      ],
      "metadata": {
        "id": "_DNsgfqPK6no"
      },
      "execution_count": null,
      "outputs": []
    }
  ]
}