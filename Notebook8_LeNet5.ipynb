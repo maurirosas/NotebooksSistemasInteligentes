{
  "nbformat": 4,
  "nbformat_minor": 0,
  "metadata": {
    "colab": {
      "provenance": []
    },
    "kernelspec": {
      "name": "python3",
      "display_name": "Python 3"
    },
    "language_info": {
      "name": "python"
    }
  },
  "cells": [
    {
      "cell_type": "code",
      "execution_count": null,
      "metadata": {
        "id": "s1eRS1uUKZL2"
      },
      "outputs": [],
      "source": [
        "import numpy as np\n",
        "import pandas as pd\n",
        "import matplotlib.pyplot as plt\n",
        "\n",
        "from sklearn.model_selection import train_test_split\n",
        "import tensorflow as tf\n",
        "from tensorflow import keras"
      ]
    },
    {
      "cell_type": "code",
      "source": [
        "mnist_dataset = keras.datasets.mnist\n",
        "(x_train, y_train), (x_test, y_test) = mnist_dataset.load_data() ##Cargar el dataset"
      ],
      "metadata": {
        "id": "Sne2fcAPKz6h",
        "colab": {
          "base_uri": "https://localhost:8080/"
        },
        "outputId": "a79bd605-ba18-4ea0-bd1d-125b90ec711f"
      },
      "execution_count": null,
      "outputs": [
        {
          "output_type": "stream",
          "name": "stdout",
          "text": [
            "Downloading data from https://storage.googleapis.com/tensorflow/tf-keras-datasets/mnist.npz\n",
            "11490434/11490434 [==============================] - 0s 0us/step\n"
          ]
        }
      ]
    },
    {
      "cell_type": "code",
      "source": [
        "x_train.shape"
      ],
      "metadata": {
        "colab": {
          "base_uri": "https://localhost:8080/"
        },
        "id": "WWvALJpGLK-j",
        "outputId": "85feb989-b95e-4943-8e33-b37d7617f3a9"
      },
      "execution_count": null,
      "outputs": [
        {
          "output_type": "execute_result",
          "data": {
            "text/plain": [
              "(60000, 28, 28)"
            ]
          },
          "metadata": {},
          "execution_count": 3
        }
      ]
    },
    {
      "cell_type": "code",
      "source": [
        "x_test.shape"
      ],
      "metadata": {
        "colab": {
          "base_uri": "https://localhost:8080/"
        },
        "id": "QLd_t_eGLPQr",
        "outputId": "d359a678-b69c-4cb2-ac9e-93b06334af6b"
      },
      "execution_count": null,
      "outputs": [
        {
          "output_type": "execute_result",
          "data": {
            "text/plain": [
              "(10000, 28, 28)"
            ]
          },
          "metadata": {},
          "execution_count": 4
        }
      ]
    },
    {
      "cell_type": "markdown",
      "source": [
        "##LeNet5"
      ],
      "metadata": {
        "id": "E8xq2mZVVc7q"
      }
    },
    {
      "cell_type": "markdown",
      "source": [
        "Pre procesamiento de las imágenes"
      ],
      "metadata": {
        "id": "amC3giJNMC0w"
      }
    },
    {
      "cell_type": "code",
      "source": [
        "#Aumentar una dimensión a las imágenes de entrada\n",
        "x_train = x_train.reshape(x_train.shape[0], 28,28,1) #El 1 es la dimensión que se aumenta\n",
        "#Se aumenta una dimensión porque la entrada LeNet es 32x32x1, está dimensión es conocida como depth\n",
        "#Las imágenes a color están compuestas por 3 dimensiones (RGB)\n",
        "#Por tanto, una imagen a color tiene profundidad 3\n",
        "#Una imagen en escala de grises tiene solamente 1 dimensión\n",
        "x_test = x_test.reshape(x_test.shape[0],28,28,1)\n"
      ],
      "metadata": {
        "id": "9hnMSEhaLSZ_"
      },
      "execution_count": null,
      "outputs": []
    },
    {
      "cell_type": "code",
      "source": [
        "x_train.shape"
      ],
      "metadata": {
        "colab": {
          "base_uri": "https://localhost:8080/"
        },
        "id": "b0UP_ArxN_nt",
        "outputId": "5fc0a24f-f045-4ad0-f56a-516be24d3f97"
      },
      "execution_count": null,
      "outputs": [
        {
          "output_type": "execute_result",
          "data": {
            "text/plain": [
              "(60000, 28, 28, 1)"
            ]
          },
          "metadata": {},
          "execution_count": 6
        }
      ]
    },
    {
      "cell_type": "code",
      "source": [
        "#Convertir de 28x28 a 32x32\n",
        "x_train = np.pad(x_train,((0,0),(2,2),(2,2),(0,0)),'constant')\n",
        "#Estoy diciendo que quiero que coloque dos 0 a la izquierda. dos 0 a la derecha\n",
        "#Luego dos 2, arriba y abajo\n",
        "x_test = np.pad(x_test,((0,0),(2,2),(2,2),(0,0)),'constant')"
      ],
      "metadata": {
        "id": "aiAs9fdAOPaE"
      },
      "execution_count": null,
      "outputs": []
    },
    {
      "cell_type": "code",
      "source": [
        "x_train.shape"
      ],
      "metadata": {
        "colab": {
          "base_uri": "https://localhost:8080/"
        },
        "id": "iI7rgw7rPTzk",
        "outputId": "daffa0ed-c586-44dc-d1c2-87913b9f9b12"
      },
      "execution_count": null,
      "outputs": [
        {
          "output_type": "execute_result",
          "data": {
            "text/plain": [
              "(60000, 32, 32, 1)"
            ]
          },
          "metadata": {},
          "execution_count": 8
        }
      ]
    },
    {
      "cell_type": "code",
      "source": [
        "x_test.shape"
      ],
      "metadata": {
        "colab": {
          "base_uri": "https://localhost:8080/"
        },
        "id": "GPQyHdKQP-DE",
        "outputId": "336d45ba-2655-40f3-f656-d4acbceac0b8"
      },
      "execution_count": null,
      "outputs": [
        {
          "output_type": "execute_result",
          "data": {
            "text/plain": [
              "(10000, 32, 32, 1)"
            ]
          },
          "metadata": {},
          "execution_count": 9
        }
      ]
    },
    {
      "cell_type": "code",
      "source": [
        "#Normalizar las imágenes\n",
        "x_train = x_train/255.0\n",
        "x_test = x_test/255.0"
      ],
      "metadata": {
        "id": "1j609g0jQAVa"
      },
      "execution_count": null,
      "outputs": []
    },
    {
      "cell_type": "code",
      "source": [
        "#Preservar los valores originales para no perderlos al hacer one hot encoding\n",
        "y_test_original = y_test\n",
        "y_train_original = y_train"
      ],
      "metadata": {
        "id": "1uzRCixcRU13"
      },
      "execution_count": null,
      "outputs": []
    },
    {
      "cell_type": "code",
      "source": [
        "#Comprobar la cantidad de categorías, observando los valores únicos\n",
        "np.unique(y_test_original)"
      ],
      "metadata": {
        "colab": {
          "base_uri": "https://localhost:8080/"
        },
        "id": "TR_x93xoXzeE",
        "outputId": "a86cb35d-4f26-4c29-dbd7-faa05e0783af"
      },
      "execution_count": null,
      "outputs": [
        {
          "output_type": "execute_result",
          "data": {
            "text/plain": [
              "array([0, 1, 2, 3, 4, 5, 6, 7, 8, 9], dtype=uint8)"
            ]
          },
          "metadata": {},
          "execution_count": 17
        }
      ]
    },
    {
      "cell_type": "code",
      "source": [
        "#Cuantos labels hay en y_test?\n",
        "len(np.unique(y_test_original))"
      ],
      "metadata": {
        "colab": {
          "base_uri": "https://localhost:8080/"
        },
        "id": "qVmRCLtdYigQ",
        "outputId": "f7203d52-95a7-4570-8f2f-8ae7caf9c29a"
      },
      "execution_count": null,
      "outputs": [
        {
          "output_type": "execute_result",
          "data": {
            "text/plain": [
              "10"
            ]
          },
          "metadata": {},
          "execution_count": 18
        }
      ]
    },
    {
      "cell_type": "markdown",
      "source": [
        "Observamos 10 categorías, que luego usaremos como parámetro para keras.categorical"
      ],
      "metadata": {
        "id": "qIK8cABIYHDe"
      }
    },
    {
      "cell_type": "code",
      "source": [
        "#Visualizar un valor de y_test\n",
        "y_test_original[100]"
      ],
      "metadata": {
        "colab": {
          "base_uri": "https://localhost:8080/"
        },
        "id": "FRLGIDt3QerW",
        "outputId": "ff4c89fc-5701-4a90-f6bf-644791145bab"
      },
      "execution_count": null,
      "outputs": [
        {
          "output_type": "execute_result",
          "data": {
            "text/plain": [
              "6"
            ]
          },
          "metadata": {},
          "execution_count": 15
        }
      ]
    },
    {
      "cell_type": "code",
      "source": [
        "#Aplicar one hot-encoding a los labels de entrenamiento y de testeo\n",
        "y_train = keras.utils.to_categorical(y_train,10)\n",
        "y_test = keras.utils.to_categorical(y_test,10)"
      ],
      "metadata": {
        "id": "ubCo2AeHRv-4"
      },
      "execution_count": null,
      "outputs": []
    },
    {
      "cell_type": "code",
      "source": [
        "y_test[100]"
      ],
      "metadata": {
        "id": "1Drpe4LRSGF0",
        "colab": {
          "base_uri": "https://localhost:8080/"
        },
        "outputId": "ee66d97a-fce2-4686-e642-18ad5996739c"
      },
      "execution_count": null,
      "outputs": [
        {
          "output_type": "execute_result",
          "data": {
            "text/plain": [
              "array([0., 0., 0., 0., 0., 0., 1., 0., 0., 0.], dtype=float32)"
            ]
          },
          "metadata": {},
          "execution_count": 16
        }
      ]
    },
    {
      "cell_type": "code",
      "source": [
        "#Visualizar una imagen\n",
        "plt.imshow(np.squeeze(x_train[50]),cmap='gray') #np squeeze elimina aquellas dimensiones planas, pues keras no lo acepta"
      ],
      "metadata": {
        "colab": {
          "base_uri": "https://localhost:8080/",
          "height": 283
        },
        "id": "sA2oKEbOWw34",
        "outputId": "a9548da0-70e7-4831-b963-ff6a9d347c8b"
      },
      "execution_count": null,
      "outputs": [
        {
          "output_type": "execute_result",
          "data": {
            "text/plain": [
              "<matplotlib.image.AxesImage at 0x7f96d468cd50>"
            ]
          },
          "metadata": {},
          "execution_count": 20
        },
        {
          "output_type": "display_data",
          "data": {
            "text/plain": [
              "<Figure size 432x288 with 1 Axes>"
            ],
            "image/png": "[encoded data removed]"
          },
          "metadata": {
            "needs_background": "light"
          }
        }
      ]
    },
    {
      "cell_type": "code",
      "source": [
        "y_train[50]"
      ],
      "metadata": {
        "colab": {
          "base_uri": "https://localhost:8080/"
        },
        "id": "kptXoxsMZG_v",
        "outputId": "cf212696-51fa-4fed-9fcb-08c4889b52ab"
      },
      "execution_count": null,
      "outputs": [
        {
          "output_type": "execute_result",
          "data": {
            "text/plain": [
              "array([0., 0., 0., 1., 0., 0., 0., 0., 0., 0.], dtype=float32)"
            ]
          },
          "metadata": {},
          "execution_count": 21
        }
      ]
    },
    {
      "cell_type": "markdown",
      "source": [
        "##Modelo de Red"
      ],
      "metadata": {
        "id": "KoM0utYbZlWl"
      }
    },
    {
      "cell_type": "code",
      "source": [
        "model = keras.Sequential([\n",
        "    keras.layers.Conv2D(filters=6 , kernel_size=(5,5) , activation='tanh', input_shape=(32,32,1)),\n",
        "    keras.layers.AveragePooling2D(),\n",
        "\n",
        "    keras.layers.Conv2D(filters=16, kernel_size=(5,5),activation='tanh'),\n",
        "    keras.layers.AveragePooling2D(),\n",
        "\n",
        "    keras.layers.Flatten(),\n",
        "\n",
        "    keras.layers.Dense(units=120, activation = 'tanh'),\n",
        "    keras.layers.Dense(units=84, activation = 'tanh'),\n",
        "    keras.layers.Dense(units=10, activation = 'softmax')\n",
        "])"
      ],
      "metadata": {
        "id": "j3Y2dgy7Zirm"
      },
      "execution_count": null,
      "outputs": []
    },
    {
      "cell_type": "code",
      "source": [
        "model.compile(optimizer = keras.optimizers.Adam(),\n",
        "              loss = 'categorical_crossentropy',\n",
        "              metrics = ['accuracy']) #El optimizador es el algoritmo con el cual va a aprender los pesos, el algoritmo con el que se va a entrenar a la red"
      ],
      "metadata": {
        "id": "0jhju3UWfHkD"
      },
      "execution_count": null,
      "outputs": []
    },
    {
      "cell_type": "code",
      "source": [
        "model.fit(x_train, y_train, batch_size = 128, epochs = 10, verbose = 1) #batch size indica cada cuántas muestras se actualizan los pesos\n",
        "                                                                        #epoch indica cuántas veces volverá a entrenarse sobre el dataset\n",
        "                                                                        #verbose muestra el proceso del entrenamiento"
      ],
      "metadata": {
        "colab": {
          "base_uri": "https://localhost:8080/"
        },
        "id": "VvLGs8jTfkAs",
        "outputId": "895c0fb3-6cf5-48a3-daa8-4f3221c54a49"
      },
      "execution_count": null,
      "outputs": [
        {
          "output_type": "stream",
          "name": "stdout",
          "text": [
            "Epoch 1/10\n",
            "469/469 [==============================] - 30s 62ms/step - loss: 0.3240 - accuracy: 0.9081\n",
            "Epoch 2/10\n",
            "469/469 [==============================] - 31s 66ms/step - loss: 0.1188 - accuracy: 0.9642\n",
            "Epoch 3/10\n",
            "469/469 [==============================] - 29s 62ms/step - loss: 0.0769 - accuracy: 0.9768\n",
            "Epoch 4/10\n",
            "469/469 [==============================] - 29s 62ms/step - loss: 0.0564 - accuracy: 0.9824\n",
            "Epoch 5/10\n",
            "469/469 [==============================] - 29s 63ms/step - loss: 0.0450 - accuracy: 0.9861\n",
            "Epoch 6/10\n",
            "469/469 [==============================] - 29s 63ms/step - loss: 0.0373 - accuracy: 0.9886\n",
            "Epoch 7/10\n",
            "469/469 [==============================] - 29s 63ms/step - loss: 0.0303 - accuracy: 0.9906\n",
            "Epoch 8/10\n",
            "469/469 [==============================] - 29s 63ms/step - loss: 0.0256 - accuracy: 0.9919\n",
            "Epoch 9/10\n",
            "469/469 [==============================] - 30s 63ms/step - loss: 0.0206 - accuracy: 0.9935\n",
            "Epoch 10/10\n",
            "469/469 [==============================] - 31s 66ms/step - loss: 0.0178 - accuracy: 0.9946\n"
          ]
        },
        {
          "output_type": "execute_result",
          "data": {
            "text/plain": [
              "<keras.callbacks.History at 0x7f96d4399ed0>"
            ]
          },
          "metadata": {},
          "execution_count": 24
        }
      ]
    },
    {
      "cell_type": "code",
      "source": [
        "test_loss, test_accuracy = model.evaluate(x_test, y_test)\n",
        "print(test_accuracy)"
      ],
      "metadata": {
        "colab": {
          "base_uri": "https://localhost:8080/"
        },
        "id": "x1a3uEwUgkQK",
        "outputId": "bd398360-6466-417e-954a-070233659c08"
      },
      "execution_count": null,
      "outputs": [
        {
          "output_type": "stream",
          "name": "stdout",
          "text": [
            "313/313 [==============================] - 3s 9ms/step - loss: 0.0408 - accuracy: 0.9862\n",
            "0.9861999750137329\n"
          ]
        }
      ]
    },
    {
      "cell_type": "code",
      "source": [
        "#Probar el modelo\n",
        "#Expandir la dimensión para que la entrada sea 4D\n",
        "x = x_test[100]\n",
        "x = np.expand_dims(x, axis=0)\n",
        "model.predict(x)"
      ],
      "metadata": {
        "colab": {
          "base_uri": "https://localhost:8080/"
        },
        "id": "P9z02jWFioJF",
        "outputId": "6deca38f-826e-40d9-e369-c7f522f8516e"
      },
      "execution_count": null,
      "outputs": [
        {
          "output_type": "stream",
          "name": "stdout",
          "text": [
            "1/1 [==============================] - 0s 234ms/step\n"
          ]
        },
        {
          "output_type": "execute_result",
          "data": {
            "text/plain": [
              "array([[4.8407746e-05, 4.5811426e-09, 7.7425355e-08, 7.2571986e-08,\n",
              "        3.8199170e-07, 2.8186752e-05, 9.9991548e-01, 1.7889246e-08,\n",
              "        7.3351921e-06, 1.1894047e-09]], dtype=float32)"
            ]
          },
          "metadata": {},
          "execution_count": 26
        }
      ]
    },
    {
      "cell_type": "code",
      "source": [
        "#Visualizar una imagen\n",
        "plt.imshow(np.squeeze(x_test[100]),cmap='gray')"
      ],
      "metadata": {
        "colab": {
          "base_uri": "https://localhost:8080/",
          "height": 283
        },
        "id": "xinm7S0mkIUt",
        "outputId": "f88012ff-f8cb-4c1d-fc09-7b129cc86d2d"
      },
      "execution_count": null,
      "outputs": [
        {
          "output_type": "execute_result",
          "data": {
            "text/plain": [
              "<matplotlib.image.AxesImage at 0x7f96cfe6c410>"
            ]
          },
          "metadata": {},
          "execution_count": 28
        },
        {
          "output_type": "display_data",
          "data": {
            "text/plain": [
              "<Figure size 432x288 with 1 Axes>"
            ],
            "image/png": "[encoded data removed]"
          },
          "metadata": {
            "needs_background": "light"
          }
        }
      ]
    },
    {
      "cell_type": "code",
      "source": [
        "y_test_original[100]"
      ],
      "metadata": {
        "colab": {
          "base_uri": "https://localhost:8080/"
        },
        "id": "NNVVUMTQkgeQ",
        "outputId": "b54861f9-8949-4941-e725-0a585b18293b"
      },
      "execution_count": null,
      "outputs": [
        {
          "output_type": "execute_result",
          "data": {
            "text/plain": [
              "6"
            ]
          },
          "metadata": {},
          "execution_count": 29
        }
      ]
    }
  ]
}