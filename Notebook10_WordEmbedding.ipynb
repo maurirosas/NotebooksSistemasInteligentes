{
  "nbformat": 4,
  "nbformat_minor": 0,
  "metadata": {
    "colab": {
      "provenance": []
    },
    "kernelspec": {
      "name": "python3",
      "display_name": "Python 3"
    },
    "language_info": {
      "name": "python"
    }
  },
  "cells": [
    {
      "cell_type": "code",
      "execution_count": null,
      "metadata": {
        "id": "KCosks5IKXPS"
      },
      "outputs": [],
      "source": [
        "import gensim.downloader as api"
      ]
    },
    {
      "cell_type": "code",
      "source": [
        "info = api.info()\n",
        "\n",
        "for model_name, model_data in sorted(info['models'].items()): #Items es para seleccionar cada uno de los items dentro de infor models y se van a ordernar\n",
        "  print(\n",
        "     '%s (%d records): %s' % ( #Me indica cuantos registros hay en el modelo y va a apasar la información por delante y por detrás\n",
        "      model_name,\n",
        "      model_data.get('num_records',-1), #El -1 lo convierte a String\n",
        "      model_data['description'][:40] + '...', #El :40 es para mostrar del inicio hasta el dato 40\n",
        "     )\n",
        "  )"
      ],
      "metadata": {
        "colab": {
          "base_uri": "https://localhost:8080/"
        },
        "id": "Q2bOAVrFKjUi",
        "outputId": "11b53314-be11-4773-d778-be2b741ae650"
      },
      "execution_count": null,
      "outputs": [
        {
          "output_type": "stream",
          "name": "stdout",
          "text": [
            "__testing_word2vec-matrix-synopsis (-1 records): [THIS IS ONLY FOR TESTING] Word vecrors ...\n",
            "conceptnet-numberbatch-17-06-300 (1917247 records): ConceptNet Numberbatch consists of state...\n",
            "fasttext-wiki-news-subwords-300 (999999 records): 1 million word vectors trained on Wikipe...\n",
            "glove-twitter-100 (1193514 records): Pre-trained vectors based on  2B tweets,...\n",
            "glove-twitter-200 (1193514 records): Pre-trained vectors based on 2B tweets, ...\n",
            "glove-twitter-25 (1193514 records): Pre-trained vectors based on 2B tweets, ...\n",
            "glove-twitter-50 (1193514 records): Pre-trained vectors based on 2B tweets, ...\n",
            "glove-wiki-gigaword-100 (400000 records): Pre-trained vectors based on Wikipedia 2...\n",
            "glove-wiki-gigaword-200 (400000 records): Pre-trained vectors based on Wikipedia 2...\n",
            "glove-wiki-gigaword-300 (400000 records): Pre-trained vectors based on Wikipedia 2...\n",
            "glove-wiki-gigaword-50 (400000 records): Pre-trained vectors based on Wikipedia 2...\n",
            "word2vec-google-news-300 (3000000 records): Pre-trained vectors trained on a part of...\n",
            "word2vec-ruscorpora-300 (184973 records): Word2vec Continuous Skipgram vectors tra...\n"
          ]
        }
      ]
    },
    {
      "cell_type": "markdown",
      "source": [
        "##Cargamos los Embeddings"
      ],
      "metadata": {
        "id": "k4nVAUUrMymI"
      }
    },
    {
      "cell_type": "code",
      "source": [
        "glove = api.load('glove-twitter-100')"
      ],
      "metadata": {
        "id": "OBkPFKQhL0Ab"
      },
      "execution_count": null,
      "outputs": []
    },
    {
      "cell_type": "code",
      "source": [
        "glove.most_similar('student')"
      ],
      "metadata": {
        "colab": {
          "base_uri": "https://localhost:8080/"
        },
        "id": "AbdgRsGIM8Bi",
        "outputId": "1dce6017-438a-413a-997f-eb1a472ad29f"
      },
      "execution_count": null,
      "outputs": [
        {
          "output_type": "execute_result",
          "data": {
            "text/plain": [
              "[('students', 0.864693820476532),\n",
              " ('college', 0.8021013736724854),\n",
              " ('class', 0.7650598287582397),\n",
              " ('teacher', 0.7618095278739929),\n",
              " ('library', 0.7329543232917786),\n",
              " ('education', 0.7288331985473633),\n",
              " ('teachers', 0.7213494777679443),\n",
              " ('university', 0.716769814491272),\n",
              " ('faculty', 0.709543764591217),\n",
              " ('senior', 0.708513617515564)]"
            ]
          },
          "metadata": {},
          "execution_count": 4
        }
      ]
    },
    {
      "cell_type": "code",
      "source": [
        "glove.most_similar('argentina')"
      ],
      "metadata": {
        "colab": {
          "base_uri": "https://localhost:8080/"
        },
        "id": "GWKZThiCP6UQ",
        "outputId": "53637d84-ce39-42ce-de83-4aa33b2eac6c"
      },
      "execution_count": null,
      "outputs": [
        {
          "output_type": "execute_result",
          "data": {
            "text/plain": [
              "[('uruguay', 0.8759101629257202),\n",
              " ('chile', 0.8464021682739258),\n",
              " ('paraguay', 0.840275764465332),\n",
              " ('colombia', 0.8350123167037964),\n",
              " ('ecuador', 0.8161938190460205),\n",
              " ('peru', 0.801160991191864),\n",
              " ('bolivia', 0.799967885017395),\n",
              " ('perú', 0.7889479398727417),\n",
              " ('mexico', 0.7563959360122681),\n",
              " ('honduras', 0.7469233274459839)]"
            ]
          },
          "metadata": {},
          "execution_count": 5
        }
      ]
    },
    {
      "cell_type": "code",
      "source": [
        "glove.distance('dog','tomato')"
      ],
      "metadata": {
        "colab": {
          "base_uri": "https://localhost:8080/"
        },
        "id": "-rIhZ8BCP9sC",
        "outputId": "2a68047e-a652-46af-e08a-103c5dae4e97"
      },
      "execution_count": null,
      "outputs": [
        {
          "output_type": "execute_result",
          "data": {
            "text/plain": [
              "0.646532416343689"
            ]
          },
          "metadata": {},
          "execution_count": 6
        }
      ]
    },
    {
      "cell_type": "code",
      "source": [
        "glove.distance('dog','cat')"
      ],
      "metadata": {
        "colab": {
          "base_uri": "https://localhost:8080/"
        },
        "id": "BJfb2oklQB_T",
        "outputId": "413aa0d5-e9f1-4b2a-cde0-cd725be8a702"
      },
      "execution_count": null,
      "outputs": [
        {
          "output_type": "execute_result",
          "data": {
            "text/plain": [
              "0.12479102611541748"
            ]
          },
          "metadata": {},
          "execution_count": 7
        }
      ]
    },
    {
      "cell_type": "code",
      "source": [
        "glove.distance('dog','man')"
      ],
      "metadata": {
        "colab": {
          "base_uri": "https://localhost:8080/"
        },
        "id": "ndM6m19qQEjq",
        "outputId": "dd000091-089d-47bf-d251-357941e65e61"
      },
      "execution_count": null,
      "outputs": [
        {
          "output_type": "execute_result",
          "data": {
            "text/plain": [
              "0.4183672070503235"
            ]
          },
          "metadata": {},
          "execution_count": 10
        }
      ]
    },
    {
      "cell_type": "code",
      "source": [
        "glove.most_similar_cosmul(positive = ['king', 'woman'], negative = ['man'])"
      ],
      "metadata": {
        "colab": {
          "base_uri": "https://localhost:8080/"
        },
        "id": "irO25PzoQUaX",
        "outputId": "475c14b9-4c41-4d90-8939-97fe9d8f9e19"
      },
      "execution_count": null,
      "outputs": [
        {
          "output_type": "execute_result",
          "data": {
            "text/plain": [
              "[('queen', 0.9539605379104614),\n",
              " ('prince', 0.9176828861236572),\n",
              " ('royal', 0.9173747301101685),\n",
              " ('mother', 0.8985278606414795),\n",
              " ('goddess', 0.8767749071121216),\n",
              " ('princess', 0.8759306073188782),\n",
              " ('african', 0.8721948266029358),\n",
              " ('meets', 0.8699610233306885),\n",
              " ('father', 0.8682023882865906),\n",
              " ('elizabeth', 0.8641189336776733)]"
            ]
          },
          "metadata": {},
          "execution_count": 11
        }
      ]
    },
    {
      "cell_type": "code",
      "source": [
        "glove.most_similar_cosmul(positive = ['father', 'wife'], negative = ['husband']) #father es para husband lo que wife es para... mother"
      ],
      "metadata": {
        "colab": {
          "base_uri": "https://localhost:8080/"
        },
        "id": "RsOL-WQqRKIW",
        "outputId": "27e8dbb4-b1f7-4b74-a997-d71a5f194bff"
      },
      "execution_count": null,
      "outputs": [
        {
          "output_type": "execute_result",
          "data": {
            "text/plain": [
              "[('mother', 0.9440701603889465),\n",
              " ('daughter', 0.9281113147735596),\n",
              " ('dad', 0.8917325735092163),\n",
              " ('woman', 0.8898386359214783),\n",
              " ('brother', 0.8860235214233398),\n",
              " ('his', 0.8829512596130371),\n",
              " ('who', 0.8775631189346313),\n",
              " ('child', 0.8754045963287354),\n",
              " ('him', 0.8744207620620728),\n",
              " ('grandma', 0.8715420365333557)]"
            ]
          },
          "metadata": {},
          "execution_count": 13
        }
      ]
    },
    {
      "cell_type": "code",
      "source": [
        "glove.most_similar_cosmul(positive = ['walk', 'going'], negative = ['walking'])"
      ],
      "metadata": {
        "colab": {
          "base_uri": "https://localhost:8080/"
        },
        "id": "2g5qI75kRuEK",
        "outputId": "5e2e36c2-ac4a-469c-c83b-ab954fb0aac3"
      },
      "execution_count": null,
      "outputs": [
        {
          "output_type": "execute_result",
          "data": {
            "text/plain": [
              "[('go', 1.0157748460769653),\n",
              " ('take', 1.0104490518569946),\n",
              " ('let', 1.0094612836837769),\n",
              " ('way', 1.0070945024490356),\n",
              " ('should', 1.0046334266662598),\n",
              " (\"'ll\", 1.0043723583221436),\n",
              " ('gone', 1.0026826858520508),\n",
              " ('could', 1.0006945133209229),\n",
              " ('will', 1.0006386041641235),\n",
              " ('wanna', 1.000522494316101)]"
            ]
          },
          "metadata": {},
          "execution_count": 14
        }
      ]
    },
    {
      "cell_type": "code",
      "source": [],
      "metadata": {
        "id": "LDQ_eF3ESGYp"
      },
      "execution_count": null,
      "outputs": []
    }
  ]
}