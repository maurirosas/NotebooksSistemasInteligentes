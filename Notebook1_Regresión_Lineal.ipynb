{
  "nbformat": 4,
  "nbformat_minor": 0,
  "metadata": {
    "colab": {
      "provenance": []
    },
    "kernelspec": {
      "name": "python3",
      "display_name": "Python 3"
    },
    "language_info": {
      "name": "python"
    }
  },
  "cells": [
    {
      "cell_type": "code",
      "execution_count": null,
      "metadata": {
        "id": "JmF4k3kxlNXn"
      },
      "outputs": [],
      "source": [
        "import numpy as np\n",
        "import matplotlib.pyplot as plt"
      ]
    },
    {
      "cell_type": "code",
      "source": [
        "#Crear los datos\n",
        "x = np.array([10,20,15,12,30])\n",
        "y = np.array([30,50,40,34,70])\n",
        "\n",
        "datos = np.array([x,y])\n",
        "datos"
      ],
      "metadata": {
        "colab": {
          "base_uri": "https://localhost:8080/"
        },
        "id": "C-APLqFzluWf",
        "outputId": "be8d1677-1a47-46eb-aee7-aba2abc46dd9"
      },
      "execution_count": null,
      "outputs": [
        {
          "output_type": "execute_result",
          "data": {
            "text/plain": [
              "array([[10, 20, 15, 12, 30],\n",
              "       [30, 50, 40, 34, 70]])"
            ]
          },
          "metadata": {},
          "execution_count": 135
        }
      ]
    },
    {
      "cell_type": "code",
      "source": [
        "#Graficar los datos\n",
        "plt.scatter(x,y)"
      ],
      "metadata": {
        "colab": {
          "base_uri": "https://localhost:8080/",
          "height": 282
        },
        "id": "16O9HEXYmJsj",
        "outputId": "1e7d0ac3-150e-41d5-dabb-494b0d976764"
      },
      "execution_count": null,
      "outputs": [
        {
          "output_type": "execute_result",
          "data": {
            "text/plain": [
              "<matplotlib.collections.PathCollection at 0x7fa3e2d7d890>"
            ]
          },
          "metadata": {},
          "execution_count": 136
        },
        {
          "output_type": "display_data",
          "data": {
            "text/plain": [
              "<Figure size 432x288 with 1 Axes>"
            ],
            "image/png": "[encoded data removed]"
          },
          "metadata": {
            "needs_background": "light"
          }
        }
      ]
    },
    {
      "cell_type": "code",
      "source": [
        "# Obtener el numero de muestras en los datos\n",
        "m = float(len(x))\n",
        "m"
      ],
      "metadata": {
        "colab": {
          "base_uri": "https://localhost:8080/"
        },
        "id": "nedeoNchm7NO",
        "outputId": "4c66aec5-a649-435c-a6e3-90985f52a32f"
      },
      "execution_count": null,
      "outputs": [
        {
          "output_type": "execute_result",
          "data": {
            "text/plain": [
              "5.0"
            ]
          },
          "metadata": {},
          "execution_count": 137
        }
      ]
    },
    {
      "cell_type": "code",
      "source": [
        "#Calcular la hipótesis aplicando vectorización\n",
        "#Vectorización es la aplicación del çalgebra lineal a ML\n",
        "t0 = 0.5\n",
        "t1 = 0.5\n",
        "hyp = t0 + t1*x\n",
        "hyp"
      ],
      "metadata": {
        "colab": {
          "base_uri": "https://localhost:8080/"
        },
        "id": "_YYezkZInbRz",
        "outputId": "ed1e7743-7cb9-40d8-edc9-ccb1294b8805"
      },
      "execution_count": null,
      "outputs": [
        {
          "output_type": "execute_result",
          "data": {
            "text/plain": [
              "array([ 5.5, 10.5,  8. ,  6.5, 15.5])"
            ]
          },
          "metadata": {},
          "execution_count": 138
        }
      ]
    },
    {
      "cell_type": "code",
      "source": [
        "datos.shape[1]"
      ],
      "metadata": {
        "colab": {
          "base_uri": "https://localhost:8080/"
        },
        "id": "E96SjY9atInH",
        "outputId": "d8892483-36a0-42b6-ddfc-c71bf6c1253a"
      },
      "execution_count": null,
      "outputs": [
        {
          "output_type": "execute_result",
          "data": {
            "text/plain": [
              "5"
            ]
          },
          "metadata": {},
          "execution_count": 139
        }
      ]
    },
    {
      "cell_type": "code",
      "source": [
        "#Definir una función para calcular el costo\n",
        "def calcular_costo(t0, t1, data):\n",
        "  m = float(data.shape[1]) #Devuelve la cantidad de columnas de la data, si se usa únicamente len(data), mostrará la cantidad de vectores y no los datos\n",
        "  x= data[0]\n",
        "  y=data[1]\n",
        "\n",
        "  J=0\n",
        "\n",
        "  for i in range(0,data.shape[1]):  #Recorre la matriz da datos\n",
        "    x = data[0,i]\n",
        "    y = data[1,i]\n",
        "\n",
        "    J += (1/(2*m)) * (t0 + t1*x - y)**2\n",
        "\n",
        "  return J"
      ],
      "metadata": {
        "id": "o_3_OtnPpoAd"
      },
      "execution_count": null,
      "outputs": []
    },
    {
      "cell_type": "code",
      "source": [
        "calcular_costo(3, 0.5, datos)"
      ],
      "metadata": {
        "colab": {
          "base_uri": "https://localhost:8080/"
        },
        "id": "EQkh9wKHriRk",
        "outputId": "9c40c27b-3bb9-4a94-c636-a5fee49d9c49"
      },
      "execution_count": null,
      "outputs": [
        {
          "output_type": "execute_result",
          "data": {
            "text/plain": [
              "605.2250000000001"
            ]
          },
          "metadata": {},
          "execution_count": 141
        }
      ]
    },
    {
      "cell_type": "code",
      "source": [
        "calcular_costo(5,1,datos)"
      ],
      "metadata": {
        "colab": {
          "base_uri": "https://localhost:8080/"
        },
        "id": "oyxDnTeGuaWW",
        "outputId": "a1cabe6d-a831-4ac6-a45f-3a42ed86fe1c"
      },
      "execution_count": null,
      "outputs": [
        {
          "output_type": "execute_result",
          "data": {
            "text/plain": [
              "276.4"
            ]
          },
          "metadata": {},
          "execution_count": 142
        }
      ]
    },
    {
      "cell_type": "code",
      "source": [
        "calcular_costo(8,1.5,datos)"
      ],
      "metadata": {
        "colab": {
          "base_uri": "https://localhost:8080/"
        },
        "id": "wusDgHVQwFC7",
        "outputId": "8b726e2c-aad5-4221-efb1-76915bc389db"
      },
      "execution_count": null,
      "outputs": [
        {
          "output_type": "execute_result",
          "data": {
            "text/plain": [
              "63.625"
            ]
          },
          "metadata": {},
          "execution_count": 143
        }
      ]
    },
    {
      "cell_type": "code",
      "source": [
        "#Calcular hipótesis\n",
        "hyp1 = 3 + 0.5*x\n",
        "hyp2 = 5 + 1*x\n",
        "hyp3 = 8 + 1.5*x\n",
        "hyp4 = 10 + 2*x"
      ],
      "metadata": {
        "id": "LFYuqrsIszWz"
      },
      "execution_count": null,
      "outputs": []
    },
    {
      "cell_type": "code",
      "source": [
        "print(hyp1)\n",
        "print(hyp2)\n",
        "print(hyp3)\n",
        "print(hyp4)"
      ],
      "metadata": {
        "colab": {
          "base_uri": "https://localhost:8080/"
        },
        "id": "2SlGbrwztlqW",
        "outputId": "48c9f10b-8e81-4439-9b89-2c1c8b060357"
      },
      "execution_count": null,
      "outputs": [
        {
          "output_type": "stream",
          "name": "stdout",
          "text": [
            "[ 8.  13.  10.5  9.  18. ]\n",
            "[15 25 20 17 35]\n",
            "[23.  38.  30.5 26.  53. ]\n",
            "[30 50 40 34 70]\n"
          ]
        }
      ]
    },
    {
      "cell_type": "code",
      "source": [
        "#Graficar las hipótesis\n",
        "plt.scatter(x,y)\n",
        "plt.plot(x,hyp1)\n",
        "plt.plot(x,hyp2)\n",
        "plt.plot(x,hyp3)\n",
        "plt.plot(x,hyp4)"
      ],
      "metadata": {
        "colab": {
          "base_uri": "https://localhost:8080/",
          "height": 282
        },
        "id": "L0MGlOVttxhF",
        "outputId": "31c71456-8d32-460a-be7c-4f52208ee731"
      },
      "execution_count": null,
      "outputs": [
        {
          "output_type": "execute_result",
          "data": {
            "text/plain": [
              "[<matplotlib.lines.Line2D at 0x7fa3e265c690>]"
            ]
          },
          "metadata": {},
          "execution_count": 146
        },
        {
          "output_type": "display_data",
          "data": {
            "text/plain": [
              "<Figure size 432x288 with 1 Axes>"
            ],
            "image/png": "[encoded data removed]"
          },
          "metadata": {
            "needs_background": "light"
          }
        }
      ]
    },
    {
      "cell_type": "code",
      "source": [
        "#Variar t1 en el rango de -2 a 12 manteniendo t0=10\n",
        "#Calcular los costos para todos los valores de t1\n",
        "costos=[]\n",
        "\n",
        "for i in range (-2,12):\n",
        "  costos.append(calcular_costo(10,i,datos))\n",
        "\n",
        "#Convertir en np array\n",
        "costos = np.array(costos)\n",
        "print(costos)"
      ],
      "metadata": {
        "colab": {
          "base_uri": "https://localhost:8080/"
        },
        "id": "tlmPw2UGuk9Q",
        "outputId": "0e3999fd-7e2f-473b-ab41-7f0fb7dd1b40"
      },
      "execution_count": null,
      "outputs": [
        {
          "output_type": "stream",
          "name": "stdout",
          "text": [
            "[ 2830.4  1592.1   707.6   176.9     0.    176.9   707.6  1592.1  2830.4\n",
            "  4422.5  6368.4  8668.1 11321.6 14328.9]\n"
          ]
        }
      ]
    },
    {
      "cell_type": "code",
      "source": [
        "#Graficar costos\n",
        "plt.plot(range(-2,12), costos)\n",
        "plt.xlabel('Valores de t1')\n",
        "plt.ylabel('Costo')"
      ],
      "metadata": {
        "colab": {
          "base_uri": "https://localhost:8080/",
          "height": 296
        },
        "id": "w9ZvlG7pvahL",
        "outputId": "4d19ae1c-2a14-42dc-d5f1-ae89a212cf0f"
      },
      "execution_count": null,
      "outputs": [
        {
          "output_type": "execute_result",
          "data": {
            "text/plain": [
              "Text(0, 0.5, 'Costo')"
            ]
          },
          "metadata": {},
          "execution_count": 148
        },
        {
          "output_type": "display_data",
          "data": {
            "text/plain": [
              "<Figure size 432x288 with 1 Axes>"
            ],
            "image/png": "[encoded data removed]"
          },
          "metadata": {
            "needs_background": "light"
          }
        }
      ]
    },
    {
      "cell_type": "markdown",
      "source": [
        "##Probar las thetas para un nuevo ejemplo"
      ],
      "metadata": {
        "id": "uQAdWo8NyNuX"
      }
    },
    {
      "cell_type": "code",
      "source": [
        "theta_optimo = np.array([10,2])"
      ],
      "metadata": {
        "id": "ocFgph3ayHYq"
      },
      "execution_count": null,
      "outputs": []
    },
    {
      "cell_type": "code",
      "source": [
        "x=25\n",
        "pred = theta_optimo[0] + theta_optimo[1]*x\n",
        "pred\n"
      ],
      "metadata": {
        "colab": {
          "base_uri": "https://localhost:8080/"
        },
        "id": "wN7srXKkyXpP",
        "outputId": "a857b8d6-21d6-43cd-958e-d23803cd82b0"
      },
      "execution_count": null,
      "outputs": [
        {
          "output_type": "execute_result",
          "data": {
            "text/plain": [
              "60"
            ]
          },
          "metadata": {},
          "execution_count": 150
        }
      ]
    },
    {
      "cell_type": "markdown",
      "source": [
        "##Gradient Descent\n"
      ],
      "metadata": {
        "id": "3as7YyAoyoCv"
      }
    },
    {
      "cell_type": "code",
      "source": [
        "#Un algoritmo que calcule los valores y actualice theta\n",
        "def paso_gradiente(t0_actual, t1_actual, data, alpha):\n",
        "  t0_grad = 0\n",
        "  t1_grad = 0\n",
        "  m = float(data.shape[1]) #cantidad de muestras\n",
        "\n",
        "  for i in range(0, int(m)):\n",
        "    x = data[0,i]\n",
        "    y = data[1,i]\n",
        "\n",
        "    hyp = t0_actual + t1_actual*x\n",
        "\n",
        "    t0_grad += -(1/m) * (hyp-y)\n",
        "    t1_grad += -(1/m) * (hyp-y)*x\n",
        "#Actualizar t0 y t1\n",
        "  t0_actual = t0_actual + alpha*t0_grad\n",
        "  t1_actual = t1_actual + alpha*t1_grad\n",
        "  return t0_actual, t1_actual"
      ],
      "metadata": {
        "id": "HaY_O-OCymsh"
      },
      "execution_count": null,
      "outputs": []
    },
    {
      "cell_type": "code",
      "source": [
        "def gradient_descent(t0_inicial, t1_inicial, data, learning_rate, num_iter):\n",
        "  #Valores iniciales\n",
        "  t0 = t0_inicial\n",
        "  t1 = t1_inicial\n",
        "\n",
        "  historial_costos = []\n",
        "\n",
        "  for i in range(0, num_iter):\n",
        "    historial_costos.append(calcular_costo(t0,t1,data))\n",
        "    t0,t1 = paso_gradiente(t0, t1, data, learning_rate)\n",
        "\n",
        "  return [t0,t1,historial_costos]"
      ],
      "metadata": {
        "id": "CXFNGOCo1EYY"
      },
      "execution_count": null,
      "outputs": []
    },
    {
      "cell_type": "markdown",
      "source": [
        "##Ejemplo 1 cuaderno\n"
      ],
      "metadata": {
        "id": "DE5ybzlv1u6d"
      }
    },
    {
      "cell_type": "code",
      "source": [
        "#Cargar datos\n",
        "datos = np.array([[2,4],[3,5]])\n",
        "\n",
        "#Definir los hiperparametros\n",
        "alpha = 0.05\n",
        "num_iter = 30\n",
        "t0_inicial = 0.5\n",
        "t1_inicial = 0.5"
      ],
      "metadata": {
        "id": "4UYUSfF81zEc"
      },
      "execution_count": null,
      "outputs": []
    },
    {
      "cell_type": "code",
      "source": [
        "[t0, t1,costos] = gradient_descent(t0_inicial, t1_inicial, datos, alpha, num_iter )"
      ],
      "metadata": {
        "id": "cVlKsyNG2SF0"
      },
      "execution_count": null,
      "outputs": []
    },
    {
      "cell_type": "code",
      "source": [
        "print(t0)"
      ],
      "metadata": {
        "colab": {
          "base_uri": "https://localhost:8080/"
        },
        "id": "d7WNbjlZ2jTK",
        "outputId": "b53bc56c-b44e-498e-eafd-869bdae1cfa6"
      },
      "execution_count": null,
      "outputs": [
        {
          "output_type": "stream",
          "name": "stdout",
          "text": [
            "0.7217770225874036\n"
          ]
        }
      ]
    },
    {
      "cell_type": "code",
      "source": [
        "print(t1)"
      ],
      "metadata": {
        "colab": {
          "base_uri": "https://localhost:8080/"
        },
        "id": "YArevL4p2nIj",
        "outputId": "52ca9f3a-8588-412f-e87d-1b595b9e35f0"
      },
      "execution_count": null,
      "outputs": [
        {
          "output_type": "stream",
          "name": "stdout",
          "text": [
            "1.0842391393829391\n"
          ]
        }
      ]
    },
    {
      "cell_type": "code",
      "source": [
        "print(costos)"
      ],
      "metadata": {
        "colab": {
          "base_uri": "https://localhost:8080/"
        },
        "id": "K4Mk2zCL7mjF",
        "outputId": "8962dfde-9fcf-4a97-e055-094ee864eaea"
      },
      "execution_count": null,
      "outputs": [
        {
          "output_type": "stream",
          "name": "stdout",
          "text": [
            "[2.125, 0.44312500000000005, 0.09553515625000011, 0.023670736328125122, 0.008784286416015646, 0.005672451777893089, 0.0049941234585576385, 0.004818992887275552, 0.004748165991101193, 0.004699209861968468, 0.004655087146991828, 0.004612274269223027, 0.004570040249753325, 0.004528231215742003, 0.004486812576962507, 0.00444577441804431, 0.004405111947896403, 0.00436482145942127, 0.004324899494375488, 0.004285342670564013, 0.0042461476459052004, 0.0042073111107818004, 0.004168829786239319, 0.004130700423394605, 0.004092919803096365, 0.0040554847356401745, 0.0040183920604963605, 0.0039816386460424825, 0.0039452213892988705, 0.003909137215666669]\n"
          ]
        }
      ]
    },
    {
      "cell_type": "code",
      "source": [
        "plt.plot(range(0,num_iter),costos)"
      ],
      "metadata": {
        "colab": {
          "base_uri": "https://localhost:8080/",
          "height": 282
        },
        "id": "sIuqEYNg8eD9",
        "outputId": "c38f1d49-dccd-4a5c-f29a-21450c094928"
      },
      "execution_count": null,
      "outputs": [
        {
          "output_type": "execute_result",
          "data": {
            "text/plain": [
              "[<matplotlib.lines.Line2D at 0x7fa3e25589d0>]"
            ]
          },
          "metadata": {},
          "execution_count": 158
        },
        {
          "output_type": "display_data",
          "data": {
            "text/plain": [
              "<Figure size 432x288 with 1 Axes>"
            ],
            "image/png": "[encoded data removed]"
          },
          "metadata": {
            "needs_background": "light"
          }
        }
      ]
    },
    {
      "cell_type": "markdown",
      "source": [
        "#Nuevo ejemplo de las diapositivas\n"
      ],
      "metadata": {
        "id": "BJXBTPUj9X9g"
      }
    },
    {
      "cell_type": "code",
      "source": [
        "x = np.array([500,620,1020,740,560,480,820,880,1040,1120])\n",
        "y = np.array([305, 392,578,451,368,271,457,529,681,701])\n",
        "datos = np.array([x,y])"
      ],
      "metadata": {
        "id": "QZJYtw8P9b7W"
      },
      "execution_count": null,
      "outputs": []
    },
    {
      "cell_type": "code",
      "source": [
        "#Defino los hiperparámetros\n",
        "alpha = 0.000001\n",
        "num_iter = 30\n",
        "t0_inicial = 0  #Para ejemplos reales, las thetas siempre deben ser 0 porque es el peor caso posible, en el que el costo es el más alto\n",
        "t1_inicial = 0"
      ],
      "metadata": {
        "id": "s_Xw1Qvk-CVs"
      },
      "execution_count": null,
      "outputs": []
    },
    {
      "cell_type": "code",
      "source": [
        "[t0, t1,costos] = gradient_descent(t0_inicial, t1_inicial, datos, alpha, num_iter )"
      ],
      "metadata": {
        "id": "Z3NV4XSdAuV9"
      },
      "execution_count": null,
      "outputs": []
    },
    {
      "cell_type": "code",
      "source": [
        "t0,t1, costos"
      ],
      "metadata": {
        "colab": {
          "base_uri": "https://localhost:8080/"
        },
        "id": "De_YV6lTBUdI",
        "outputId": "31222956-fef0-443b-e09d-6ebe127b281e"
      },
      "execution_count": null,
      "outputs": [
        {
          "output_type": "execute_result",
          "data": {
            "text/plain": [
              "(0.0007078559336972663,\n",
              " 0.6090231611028674,\n",
              " [121844.55000000002,\n",
              "  14849.482306247462,\n",
              "  2108.5558083153837,\n",
              "  591.3717778060864,\n",
              "  410.706157806863,\n",
              "  389.1925734871024,\n",
              "  386.6307449095243,\n",
              "  386.3256832289448,\n",
              "  386.28935637677176,\n",
              "  386.2850303520198,\n",
              "  386.2845149719903,\n",
              "  386.2844533618896,\n",
              "  386.2844457865175,\n",
              "  386.284444645577,\n",
              "  386.2844442708459,\n",
              "  386.28444398735434,\n",
              "  386.2844437147278,\n",
              "  386.2844434433948,\n",
              "  386.28444317221613,\n",
              "  386.28444290105597,\n",
              "  386.28444262989865,\n",
              "  386.284442358741,\n",
              "  386.2844420875835,\n",
              "  386.28444181642544,\n",
              "  386.2844415452681,\n",
              "  386.28444127411086,\n",
              "  386.28444100295303,\n",
              "  386.2844407317958,\n",
              "  386.2844404606387,\n",
              "  386.2844401894816])"
            ]
          },
          "metadata": {},
          "execution_count": 172
        }
      ]
    },
    {
      "cell_type": "code",
      "source": [
        "#Graficar\n",
        "plt.plot(range(0,num_iter),costos)"
      ],
      "metadata": {
        "colab": {
          "base_uri": "https://localhost:8080/",
          "height": 282
        },
        "id": "OwcwSkFUAwYp",
        "outputId": "84b5cdff-6ba8-4ae4-89b7-a8b00f0a70e4"
      },
      "execution_count": null,
      "outputs": [
        {
          "output_type": "execute_result",
          "data": {
            "text/plain": [
              "[<matplotlib.lines.Line2D at 0x7fa3e26b0810>]"
            ]
          },
          "metadata": {},
          "execution_count": 173
        },
        {
          "output_type": "display_data",
          "data": {
            "text/plain": [
              "<Figure size 432x288 with 1 Axes>"
            ],
            "image/png": "[encoded data removed]"
          },
          "metadata": {
            "needs_background": "light"
          }
        }
      ]
    },
    {
      "cell_type": "code",
      "source": [
        "#Código para visualizar las hipótesis\n",
        "hyp = t0+t1*x\n",
        "plt.scatter(x,y)\n",
        "plt.plot(x,hyp,'orange')"
      ],
      "metadata": {
        "colab": {
          "base_uri": "https://localhost:8080/",
          "height": 282
        },
        "id": "YQqV2cudBYV-",
        "outputId": "270ee38d-c607-4f65-ce25-150fc0c719a7"
      },
      "execution_count": null,
      "outputs": [
        {
          "output_type": "execute_result",
          "data": {
            "text/plain": [
              "[<matplotlib.lines.Line2D at 0x7fa3e2332a10>]"
            ]
          },
          "metadata": {},
          "execution_count": 175
        },
        {
          "output_type": "display_data",
          "data": {
            "text/plain": [
              "<Figure size 432x288 with 1 Axes>"
            ],
            "image/png": "[encoded data removed]"
          },
          "metadata": {
            "needs_background": "light"
          }
        }
      ]
    }
  ]
}